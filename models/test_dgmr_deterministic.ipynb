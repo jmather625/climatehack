{
 "cells": [
  {
   "cell_type": "code",
   "execution_count": 1,
   "id": "da4955a2",
   "metadata": {},
   "outputs": [],
   "source": [
    "%load_ext autoreload\n",
    "%autoreload 2"
   ]
  },
  {
   "cell_type": "code",
   "execution_count": 2,
   "id": "ed45d2e6",
   "metadata": {},
   "outputs": [],
   "source": [
    "import torch\n",
    "import torch.nn.functional as F\n",
    "\n",
    "import sys\n",
    "sys.path.append('../dgmr_deterministic')\n",
    "import dgmr"
   ]
  },
  {
   "cell_type": "code",
   "execution_count": 3,
   "id": "a1a1caa9",
   "metadata": {},
   "outputs": [
    {
     "data": {
      "text/plain": [
       "device(type='cuda')"
      ]
     },
     "execution_count": 3,
     "metadata": {},
     "output_type": "execute_result"
    }
   ],
   "source": [
    "DEVICE = torch.device('cuda' if torch.cuda.is_available() else 'cpu')\n",
    "DEVICE"
   ]
  },
  {
   "cell_type": "code",
   "execution_count": 6,
   "id": "a9541ba5",
   "metadata": {},
   "outputs": [],
   "source": [
    "FORECAST = 24\n",
    "INPUT_STEPS = 4\n",
    "\n",
    "input_ccs = dgmr.common.ContextConditioningStack(\n",
    "    input_channels=1,\n",
    "    conv_type='standard',\n",
    "    output_channels=192,\n",
    "    num_context_steps=INPUT_STEPS,\n",
    ")\n",
    "\n",
    "last_ccs = dgmr.common.ContextConditioningStack(\n",
    "    input_channels=1,\n",
    "    conv_type='standard',\n",
    "    output_channels=256,\n",
    "    num_context_steps=1,\n",
    ")\n",
    "\n",
    "sampler = dgmr.generators.Sampler(\n",
    "    forecast_steps=FORECAST,\n",
    "    latent_channels=256,\n",
    "    context_channels=192,\n",
    ")\n",
    "\n",
    "model = dgmr.generators.Generator(input_ccs, last_ccs, sampler)\n",
    "model = model.to(DEVICE)"
   ]
  },
  {
   "cell_type": "code",
   "execution_count": 7,
   "id": "ef5d0c42",
   "metadata": {},
   "outputs": [
    {
     "name": "stdout",
     "output_type": "stream",
     "text": [
      "The model has 13945136 trainable parameters\n"
     ]
    }
   ],
   "source": [
    "def count_parameters(model):\n",
    "    return sum(p.numel() for p in model.parameters() if p.requires_grad)\n",
    "\n",
    "print(f'The model has {count_parameters(model)} trainable parameters')"
   ]
  },
  {
   "cell_type": "code",
   "execution_count": 8,
   "id": "72b695a4",
   "metadata": {},
   "outputs": [],
   "source": [
    "x_input = torch.rand((1, INPUT_STEPS, 1, 128, 128)).to(DEVICE)\n",
    "x_last = torch.rand((1, 1, 1, 128, 128)).to(DEVICE)"
   ]
  },
  {
   "cell_type": "code",
   "execution_count": 9,
   "id": "9a3fe753",
   "metadata": {},
   "outputs": [
    {
     "name": "stderr",
     "output_type": "stream",
     "text": [
      "/home/sigaida/miniconda3/envs/climatehack/lib/python3.9/site-packages/torch/nn/functional.py:1806: UserWarning: nn.functional.sigmoid is deprecated. Use torch.sigmoid instead.\n",
      "  warnings.warn(\"nn.functional.sigmoid is deprecated. Use torch.sigmoid instead.\")\n"
     ]
    }
   ],
   "source": [
    "out = model(x_input, x_last)"
   ]
  },
  {
   "cell_type": "code",
   "execution_count": 10,
   "id": "58933226",
   "metadata": {},
   "outputs": [
    {
     "data": {
      "text/plain": [
       "torch.Size([1, 24, 1, 128, 128])"
      ]
     },
     "execution_count": 10,
     "metadata": {},
     "output_type": "execute_result"
    }
   ],
   "source": [
    "out.shape"
   ]
  },
  {
   "cell_type": "code",
   "execution_count": 11,
   "id": "38a3d605",
   "metadata": {},
   "outputs": [],
   "source": [
    "y = torch.rand((1, FORECAST, 1, 128, 128)).to(DEVICE)\n",
    "loss = F.mse_loss(y, out)"
   ]
  },
  {
   "cell_type": "code",
   "execution_count": 12,
   "id": "156461da",
   "metadata": {},
   "outputs": [
    {
     "data": {
      "text/plain": [
       "tensor(0.7657, device='cuda:0', grad_fn=<MseLossBackward0>)"
      ]
     },
     "execution_count": 12,
     "metadata": {},
     "output_type": "execute_result"
    }
   ],
   "source": [
    "loss"
   ]
  },
  {
   "cell_type": "code",
   "execution_count": 13,
   "id": "51c0e35c",
   "metadata": {},
   "outputs": [],
   "source": [
    "loss.backward()"
   ]
  },
  {
   "cell_type": "code",
   "execution_count": null,
   "id": "bc95fcc4",
   "metadata": {},
   "outputs": [],
   "source": []
  }
 ],
 "metadata": {
  "kernelspec": {
   "display_name": "climatehack",
   "language": "python",
   "name": "climatehack"
  },
  "language_info": {
   "codemirror_mode": {
    "name": "ipython",
    "version": 3
   },
   "file_extension": ".py",
   "mimetype": "text/x-python",
   "name": "python",
   "nbconvert_exporter": "python",
   "pygments_lexer": "ipython3",
   "version": "3.9.7"
  }
 },
 "nbformat": 4,
 "nbformat_minor": 5
}
