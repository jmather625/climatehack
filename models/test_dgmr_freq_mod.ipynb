{
 "cells": [
  {
   "cell_type": "code",
   "execution_count": 1,
   "id": "c226bc9a",
   "metadata": {},
   "outputs": [],
   "source": [
    "%load_ext autoreload\n",
    "%autoreload 2"
   ]
  },
  {
   "cell_type": "code",
   "execution_count": 3,
   "id": "35cca4bd",
   "metadata": {},
   "outputs": [],
   "source": [
    "import torch\n",
    "import torch.nn.functional as F\n",
    "\n",
    "import sys\n",
    "sys.path.append('../dgmr-freq-mod')\n",
    "sys.path.append('../')\n",
    "import dgmr\n",
    "\n",
    "import common.utils as utils"
   ]
  },
  {
   "cell_type": "code",
   "execution_count": 4,
   "id": "51e6d9fa",
   "metadata": {},
   "outputs": [
    {
     "data": {
      "text/plain": [
       "device(type='cuda')"
      ]
     },
     "execution_count": 4,
     "metadata": {},
     "output_type": "execute_result"
    }
   ],
   "source": [
    "DEVICE = torch.device('cuda' if torch.cuda.is_available() else 'cpu')\n",
    "DEVICE"
   ]
  },
  {
   "cell_type": "code",
   "execution_count": 5,
   "id": "92cfd5b3",
   "metadata": {},
   "outputs": [],
   "source": [
    "ccs = dgmr.common.ContextConditioningStack(\n",
    "    input_channels=64,\n",
    "    conv_type='standard',\n",
    "    output_channels=64*4,\n",
    ")\n",
    "\n",
    "lcs = dgmr.common.LatentConditioningStack(\n",
    "    shape=(8 * 1, 128 // 32, 128 // 32),\n",
    "    output_channels=384,\n",
    ")\n",
    "\n",
    "sampler = dgmr.generators.Sampler(\n",
    "    forecast_steps=5,\n",
    "    latent_channels=384,\n",
    "    context_channels=64*4,\n",
    "    output_channels=64*4,\n",
    ")\n",
    "\n",
    "model = dgmr.generators.Generator(ccs, lcs, sampler)"
   ]
  },
  {
   "cell_type": "code",
   "execution_count": 6,
   "id": "f9d7723e",
   "metadata": {},
   "outputs": [
    {
     "name": "stdout",
     "output_type": "stream",
     "text": [
      "The model has 12147209 trainable parameters\n"
     ]
    }
   ],
   "source": [
    "def count_parameters(model):\n",
    "    return sum(p.numel() for p in model.parameters() if p.requires_grad)\n",
    "\n",
    "print(f'The model has {count_parameters(model)} trainable parameters')"
   ]
  },
  {
   "cell_type": "code",
   "execution_count": 7,
   "id": "4bbcf130",
   "metadata": {},
   "outputs": [],
   "source": [
    "opt = torch.optim.Adam(model.parameters(), lr=1e-3)"
   ]
  },
  {
   "cell_type": "code",
   "execution_count": 8,
   "id": "50673d9b",
   "metadata": {},
   "outputs": [],
   "source": [
    "x = torch.randn(3, 4, 1, 128, 128)"
   ]
  },
  {
   "cell_type": "code",
   "execution_count": 9,
   "id": "9260a1a8",
   "metadata": {},
   "outputs": [
    {
     "name": "stderr",
     "output_type": "stream",
     "text": [
      "/home/sigaida/miniconda3/envs/climatehack/lib/python3.9/site-packages/torch/nn/functional.py:1806: UserWarning: nn.functional.sigmoid is deprecated. Use torch.sigmoid instead.\n",
      "  warnings.warn(\"nn.functional.sigmoid is deprecated. Use torch.sigmoid instead.\")\n"
     ]
    }
   ],
   "source": [
    "o = model(x)"
   ]
  },
  {
   "cell_type": "code",
   "execution_count": 10,
   "id": "e44a1590",
   "metadata": {},
   "outputs": [],
   "source": [
    "y = torch.randn(3, FORECAST, 128, 128)\n",
    "loss = F.mse_loss(y,o)"
   ]
  },
  {
   "cell_type": "code",
   "execution_count": 11,
   "id": "e32007eb",
   "metadata": {},
   "outputs": [
    {
     "data": {
      "text/plain": [
       "tensor(1.1409, grad_fn=<MseLossBackward0>)"
      ]
     },
     "execution_count": 11,
     "metadata": {},
     "output_type": "execute_result"
    }
   ],
   "source": [
    "loss"
   ]
  },
  {
   "cell_type": "code",
   "execution_count": 12,
   "id": "12fc1c71",
   "metadata": {},
   "outputs": [],
   "source": [
    "loss.backward()"
   ]
  },
  {
   "cell_type": "code",
   "execution_count": 13,
   "id": "a9d3c0ca",
   "metadata": {},
   "outputs": [],
   "source": [
    "opt.step()"
   ]
  },
  {
   "cell_type": "code",
   "execution_count": null,
   "id": "56352f64",
   "metadata": {},
   "outputs": [],
   "source": []
  }
 ],
 "metadata": {
  "kernelspec": {
   "display_name": "climatehack",
   "language": "python",
   "name": "climatehack"
  },
  "language_info": {
   "codemirror_mode": {
    "name": "ipython",
    "version": 3
   },
   "file_extension": ".py",
   "mimetype": "text/x-python",
   "name": "python",
   "nbconvert_exporter": "python",
   "pygments_lexer": "ipython3",
   "version": "3.9.7"
  }
 },
 "nbformat": 4,
 "nbformat_minor": 5
}
