{
 "cells": [
  {
   "cell_type": "code",
   "execution_count": 1,
   "id": "da4955a2",
   "metadata": {},
   "outputs": [],
   "source": [
    "%load_ext autoreload\n",
    "%autoreload 2"
   ]
  },
  {
   "cell_type": "code",
   "execution_count": 2,
   "id": "ed45d2e6",
   "metadata": {},
   "outputs": [],
   "source": [
    "import torch\n",
    "import torch.nn.functional as F\n",
    "\n",
    "import sys\n",
    "sys.path.append('../dgmr')\n",
    "import dgmr"
   ]
  },
  {
   "cell_type": "code",
   "execution_count": 3,
   "id": "a1a1caa9",
   "metadata": {},
   "outputs": [
    {
     "data": {
      "text/plain": [
       "device(type='cuda')"
      ]
     },
     "execution_count": 3,
     "metadata": {},
     "output_type": "execute_result"
    }
   ],
   "source": [
    "DEVICE = torch.device('cuda' if torch.cuda.is_available() else 'cpu')\n",
    "DEVICE"
   ]
  },
  {
   "cell_type": "code",
   "execution_count": null,
   "id": "ac29a8f1",
   "metadata": {},
   "outputs": [],
   "source": [
    "FORECAST = 24\n",
    "model = dgmr.DGMR(\n",
    "    forecast_steps=FORECAST,\n",
    "    input_channels=1,\n",
    "    output_shape=128,\n",
    "    latent_channels=384,\n",
    "    context_channels=192,\n",
    "    num_samples=3,\n",
    ")\n",
    "\n",
    "model = model.to(DEVICE)\n"
   ]
  },
  {
   "cell_type": "code",
   "execution_count": null,
   "id": "9a3fe753",
   "metadata": {},
   "outputs": [],
   "source": [
    "x = torch.rand((16, 4, 1, 128, 128)).to(DEVICE)\n",
    "out = model(x)"
   ]
  },
  {
   "cell_type": "code",
   "execution_count": null,
   "id": "58933226",
   "metadata": {},
   "outputs": [],
   "source": [
    "out.shape"
   ]
  },
  {
   "cell_type": "code",
   "execution_count": null,
   "id": "38a3d605",
   "metadata": {},
   "outputs": [],
   "source": [
    "y = torch.rand((16, FORECAST, 1, 128, 128)).to(DEVICE)\n",
    "loss = F.mse_loss(y, out)"
   ]
  },
  {
   "cell_type": "code",
   "execution_count": null,
   "id": "156461da",
   "metadata": {},
   "outputs": [],
   "source": [
    "loss"
   ]
  },
  {
   "cell_type": "code",
   "execution_count": null,
   "id": "85e3f1d4",
   "metadata": {},
   "outputs": [],
   "source": [
    "loss.shape"
   ]
  },
  {
   "cell_type": "code",
   "execution_count": null,
   "id": "51c0e35c",
   "metadata": {},
   "outputs": [],
   "source": [
    "loss.backward()"
   ]
  },
  {
   "cell_type": "code",
   "execution_count": null,
   "id": "bc95fcc4",
   "metadata": {},
   "outputs": [],
   "source": []
  }
 ],
 "metadata": {
  "kernelspec": {
   "display_name": "climatehack",
   "language": "python",
   "name": "climatehack"
  },
  "language_info": {
   "codemirror_mode": {
    "name": "ipython",
    "version": 3
   },
   "file_extension": ".py",
   "mimetype": "text/x-python",
   "name": "python",
   "nbconvert_exporter": "python",
   "pygments_lexer": "ipython3",
   "version": "3.9.7"
  }
 },
 "nbformat": 4,
 "nbformat_minor": 5
}
