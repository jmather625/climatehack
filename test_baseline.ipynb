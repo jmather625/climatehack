{
 "cells": [
  {
   "cell_type": "code",
   "execution_count": 2,
   "id": "fad503ca",
   "metadata": {},
   "outputs": [],
   "source": [
    "%load_ext autoreload\n",
    "%autoreload 2"
   ]
  },
  {
   "cell_type": "code",
   "execution_count": 3,
   "id": "ad13f943",
   "metadata": {},
   "outputs": [],
   "source": [
    "import torch\n",
    "import torch.nn as nn\n",
    "from torchvision import transforms\n",
    "import numpy as np\n",
    "import tqdm\n",
    "import matplotlib.pyplot as plt\n",
    "import pathlib\n",
    "from sklearn.cluster import KMeans\n",
    "import cv2\n",
    "\n",
    "import common.loss_utils as loss_utils\n",
    "import common.climatehack_dataset as climatehack_dataset \n"
   ]
  },
  {
   "cell_type": "code",
   "execution_count": 3,
   "id": "011936fe",
   "metadata": {},
   "outputs": [],
   "source": [
    "p = pathlib.Path('data/test.npz')\n",
    "f = np.load(p)\n",
    "times = f['times']\n",
    "data = f['data']"
   ]
  },
  {
   "cell_type": "code",
   "execution_count": 4,
   "id": "8264f7da",
   "metadata": {},
   "outputs": [
    {
     "data": {
      "text/plain": [
       "((2189,), (2189, 325, 400))"
      ]
     },
     "execution_count": 4,
     "metadata": {},
     "output_type": "execute_result"
    }
   ],
   "source": [
    "times.shape, data.shape"
   ]
  },
  {
   "cell_type": "code",
   "execution_count": 14,
   "id": "35d15fc3",
   "metadata": {},
   "outputs": [],
   "source": [
    "INPUT_STEPS=4\n",
    "\n",
    "def check_times(tstart, tend):\n",
    "    return int((tend - tstart) / np.timedelta64(1, 'm')) == 175\n",
    "\n",
    "class CustomTensorDataset(torch.utils.data.Dataset):\n",
    "    \"\"\"TensorDataset with support of transforms.\n",
    "    \"\"\"\n",
    "    def __init__(self, times, data, random_state=7):\n",
    "        self.times = times\n",
    "        self.data = data\n",
    "        self.generator = np.random.RandomState(random_state)\n",
    "        \n",
    "        \n",
    "    def _get_crop(self, data):\n",
    "        # roughly over the mainland UK\n",
    "        rand_x = self.generator.randint(0, data.shape[2] - 128)\n",
    "        rand_y = self.generator.randint(0, data.shape[1] - 128)\n",
    "        # make a data selection\n",
    "        return data[:, rand_y : rand_y + 128, rand_x : rand_x + 128]\n",
    "\n",
    "    def __getitem__(self, index):\n",
    "        tend = self.times[index + 35]\n",
    "        tstart = self.times[index]\n",
    "        if not check_times(tstart, tend):\n",
    "            return self.__getitem__((index + 35) % len(self))\n",
    "        all_data = self.data[index:index+INPUT_STEPS+24]\n",
    "        all_data = self._get_crop(all_data)\n",
    "        x = all_data[:INPUT_STEPS]\n",
    "        # grab center crop\n",
    "        y = all_data[INPUT_STEPS:,32:96,32:96]\n",
    "        return x, y\n",
    "\n",
    "    def __len__(self):\n",
    "        return len(self.times) - 35\n",
    "\n",
    "ds = CustomTensorDataset(times, data)"
   ]
  },
  {
   "cell_type": "code",
   "execution_count": 19,
   "id": "61c0b1b6",
   "metadata": {},
   "outputs": [],
   "source": [
    "def warp_flow(img, flow):\n",
    "    h, w = flow.shape[:2]\n",
    "    flow = -flow\n",
    "    flow[:,:,0] += np.arange(w)\n",
    "    flow[:,:,1] += np.arange(h)[:,np.newaxis]\n",
    "    res = cv2.remap(img, flow, None, cv2.INTER_LINEAR, borderMode=cv2.BORDER_REPLICATE)\n",
    "    return res\n",
    "\n",
    "def get_mssim(y, x, average=True):\n",
    "    if len(y.shape) == 2:\n",
    "        # we need to specify a number of channels. This sets it to 1 and calls the function again\n",
    "        return get_mssim(np.expand_dims(y, 0), np.expand_dims(x, 0))\n",
    "    if len(y.shape) == 4:\n",
    "        y = y.reshape(-1, y.shape[2], y.shape[3])\n",
    "        x = x.reshape(-1, x.shape[2], x.shape[3])\n",
    "    assert len(y.shape) == 3\n",
    "    if average:\n",
    "        mssim_loss = loss_utils.MS_SSIMLoss(data_range=1023, channels=y.shape[0])\n",
    "        yd = np.expand_dims(y, 0) # /255 * (MAX - MIN) + MIN\n",
    "        xd = np.expand_dims(x, 0) # /255 * (MAX - MIN) + MIN\n",
    "        return 1.0 - mssim_loss(\n",
    "            torch.Tensor(yd),\n",
    "            torch.Tensor(xd),\n",
    "        ).item()\n",
    "    else:\n",
    "        ret = []\n",
    "        for i in range(y.shape[0]):\n",
    "            score = get_mssim(y[i], x[i])\n",
    "            ret.append(score)\n",
    "        return ret"
   ]
  },
  {
   "cell_type": "code",
   "execution_count": 20,
   "id": "872536c3",
   "metadata": {},
   "outputs": [
    {
     "name": "stderr",
     "output_type": "stream",
     "text": [
      "100%|██████████| 2154/2154 [01:45<00:00, 20.43it/s]\n"
     ]
    }
   ],
   "source": [
    "# combine classical classical\n",
    "combined_optical_flow_scores = []\n",
    "params = {\n",
    "    'iterations': 1,\n",
    "    'levels': 10,\n",
    "    'poly_n': 2,\n",
    "    'poly_sigma': 1.3358462139572997,\n",
    "    'pyr_scale': 0.13581496550086464,\n",
    "    'winsize': 3\n",
    "}\n",
    "test_params = {\n",
    "    'pyr_scale': 0.5,\n",
    "    'levels': 2,\n",
    "    'winsize': 40,\n",
    "    'iterations': 3, \n",
    "    'poly_n': 5,\n",
    "    'poly_sigma': 0.7\n",
    "}\n",
    "forecast = 6\n",
    "for i in tqdm.tqdm(range(len(ds))):\n",
    "    x, y = ds[i]\n",
    "    preds = np.zeros(y.shape, dtype=np.float32)\n",
    "    cur_feol = x[-1].astype(np.float32)\n",
    "    cur_beol = x[-1].astype(np.float32)\n",
    "    flow_feol = cv2.calcOpticalFlowFarneback(\n",
    "        prev=x[-2],\n",
    "        next=x[-1],\n",
    "        flow=None,\n",
    "        **test_params,\n",
    "        flags=cv2.OPTFLOW_FARNEBACK_GAUSSIAN,\n",
    "    )\n",
    "    flow_beol = cv2.calcOpticalFlowFarneback(\n",
    "        prev=x[-2],\n",
    "        next=x[-1],\n",
    "        flow=None,\n",
    "        **params,\n",
    "        flags=cv2.OPTFLOW_FARNEBACK_GAUSSIAN,\n",
    "    )\n",
    "    for i in range(forecast):\n",
    "        cur_feol = warp_flow(cur_feol, flow_feol)\n",
    "        cur_beol = warp_flow(cur_beol, flow_beol)\n",
    "        cur_beol = cv2.blur(cur_beol, (3, 3))\n",
    "        preds[i] = cur_feol[32:96,32:96]\n",
    "    for i in range(forecast, 24):\n",
    "        cur_beol = warp_flow(cur_beol, flow_beol)\n",
    "        cur_beol = cv2.blur(cur_beol, (3, 3))\n",
    "        preds[i] = cur_beol[32:96,32:96]\n",
    "\n",
    "    score = get_mssim(preds, y, average=False)\n",
    "    combined_optical_flow_scores.append(score)"
   ]
  },
  {
   "cell_type": "code",
   "execution_count": 26,
   "id": "3fec3d47",
   "metadata": {},
   "outputs": [],
   "source": [
    "combined_optical_flow_scores = np.array(combined_optical_flow_scores)\n",
    "combined_step_means = np.mean(combined_optical_flow_scores, axis=0)"
   ]
  },
  {
   "cell_type": "code",
   "execution_count": 25,
   "id": "bb58b4cb",
   "metadata": {},
   "outputs": [
    {
     "data": {
      "text/plain": [
       "0.7243027332103665"
      ]
     },
     "execution_count": 25,
     "metadata": {},
     "output_type": "execute_result"
    }
   ],
   "source": [
    "np.mean(combined_optical_flow_scores)"
   ]
  },
  {
   "cell_type": "code",
   "execution_count": 27,
   "id": "856bd890",
   "metadata": {},
   "outputs": [
    {
     "data": {
      "text/plain": [
       "array([0.96158783, 0.91150104, 0.86790412, 0.83004581, 0.79700563,\n",
       "       0.76777844, 0.74281813, 0.72972036, 0.71817764, 0.70856177,\n",
       "       0.69985263, 0.69224906, 0.68568141, 0.67974315, 0.67498827,\n",
       "       0.67027487, 0.6661345 , 0.66238309, 0.65867075, 0.65588156,\n",
       "       0.65305837, 0.65129956, 0.64980159, 0.64814601])"
      ]
     },
     "execution_count": 27,
     "metadata": {},
     "output_type": "execute_result"
    }
   ],
   "source": [
    "combined_step_means"
   ]
  },
  {
   "cell_type": "code",
   "execution_count": 5,
   "id": "d4076274",
   "metadata": {},
   "outputs": [],
   "source": [
    "combined_step_means = np.array([0.96158783, 0.91150104, 0.86790412, 0.83004581, 0.79700563,\n",
    "       0.76777844, 0.74281813, 0.72972036, 0.71817764, 0.70856177,\n",
    "       0.69985263, 0.69224906, 0.68568141, 0.67974315, 0.67498827,\n",
    "       0.67027487, 0.6661345 , 0.66238309, 0.65867075, 0.65588156,\n",
    "       0.65305837, 0.65129956, 0.64980159, 0.64814601])"
   ]
  },
  {
   "cell_type": "code",
   "execution_count": 4,
   "id": "0bb8f5e1",
   "metadata": {},
   "outputs": [],
   "source": [
    "dgmr = np.array([0.83147662, 0.7995316 , 0.769489  , 0.74837667, 0.73493329,\n",
    "       0.72543577, 0.71969761, 0.71617059, 0.71314882, 0.70988742,\n",
    "       0.70612073, 0.70189681, 0.69773933, 0.69393087, 0.69029389,\n",
    "       0.68646716, 0.68398141, 0.68153732, 0.67900101, 0.67651455,\n",
    "       0.67394017, 0.67143976, 0.66915577, 0.66786966])"
   ]
  },
  {
   "cell_type": "code",
   "execution_count": 6,
   "id": "a359678d",
   "metadata": {},
   "outputs": [
    {
     "data": {
      "text/plain": [
       "0.7339578837499999"
      ]
     },
     "execution_count": 6,
     "metadata": {},
     "output_type": "execute_result"
    }
   ],
   "source": [
    "choice = 10\n",
    "np.array(combined_step_means[:choice].tolist() + dgmr[choice:].tolist()).mean()"
   ]
  },
  {
   "cell_type": "code",
   "execution_count": 7,
   "id": "bd247b7e",
   "metadata": {},
   "outputs": [
    {
     "data": {
      "text/plain": [
       "0.73227565625"
      ]
     },
     "execution_count": 7,
     "metadata": {},
     "output_type": "execute_result"
    }
   ],
   "source": [
    "choice = 6\n",
    "np.array(combined_step_means[:choice].tolist() + dgmr[choice:].tolist()).mean()"
   ]
  },
  {
   "cell_type": "code",
   "execution_count": null,
   "id": "8fefc016",
   "metadata": {},
   "outputs": [],
   "source": []
  }
 ],
 "metadata": {
  "kernelspec": {
   "display_name": "climatehack",
   "language": "python",
   "name": "climatehack"
  },
  "language_info": {
   "codemirror_mode": {
    "name": "ipython",
    "version": 3
   },
   "file_extension": ".py",
   "mimetype": "text/x-python",
   "name": "python",
   "nbconvert_exporter": "python",
   "pygments_lexer": "ipython3",
   "version": "3.9.7"
  }
 },
 "nbformat": 4,
 "nbformat_minor": 5
}
