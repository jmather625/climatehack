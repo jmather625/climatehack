{
 "cells": [
  {
   "cell_type": "code",
   "execution_count": 1,
   "id": "770a88d7",
   "metadata": {},
   "outputs": [],
   "source": [
    "import matplotlib.pyplot as plt\n",
    "import numpy as np\n",
    "import os"
   ]
  },
  {
   "cell_type": "code",
   "execution_count": 12,
   "id": "527470d5",
   "metadata": {},
   "outputs": [],
   "source": [
    "files = os.listdir('weights/dgmr_oneshot/')"
   ]
  },
  {
   "cell_type": "code",
   "execution_count": 13,
   "id": "22b252fd",
   "metadata": {},
   "outputs": [],
   "source": [
    "actual = [f for f in files if f.endswith('.pt')]"
   ]
  },
  {
   "cell_type": "code",
   "execution_count": 14,
   "id": "369b59f3",
   "metadata": {},
   "outputs": [],
   "source": [
    "epochs = []\n",
    "losses = []\n",
    "for f in actual:\n",
    "    if 'batch' in f:\n",
    "        continue\n",
    "    f = f[:-3] # remove .pt\n",
    "    _, epoch_str, loss_str = f.split('_')\n",
    "    _, epoch = epoch_str.split('=')\n",
    "    _, loss = loss_str.split('=')\n",
    "    epochs.append(int(epoch))\n",
    "    losses.append(float(loss))"
   ]
  },
  {
   "cell_type": "code",
   "execution_count": 15,
   "id": "1304b416",
   "metadata": {},
   "outputs": [],
   "source": [
    "epochs = np.array(epochs)\n",
    "losses = np.array(losses)"
   ]
  },
  {
   "cell_type": "code",
   "execution_count": 16,
   "id": "458d6094",
   "metadata": {},
   "outputs": [],
   "source": [
    "indices = np.argsort(epochs)\n",
    "epochs = epochs[indices]\n",
    "losses = losses[indices]"
   ]
  },
  {
   "cell_type": "code",
   "execution_count": 17,
   "id": "d0e4b0f7",
   "metadata": {},
   "outputs": [
    {
     "data": {
      "text/plain": [
       "57"
      ]
     },
     "execution_count": 17,
     "metadata": {},
     "output_type": "execute_result"
    }
   ],
   "source": [
    "epochs[-1]"
   ]
  },
  {
   "cell_type": "code",
   "execution_count": 18,
   "id": "15f9601b",
   "metadata": {
    "scrolled": true
   },
   "outputs": [
    {
     "data": {
      "text/plain": [
       "<matplotlib.collections.PathCollection at 0x7efc61190160>"
      ]
     },
     "execution_count": 18,
     "metadata": {},
     "output_type": "execute_result"
    },
    {
     "data": {
      "image/png": "[encoded data removed]",
      "text/plain": [
       "<Figure size 432x288 with 1 Axes>"
      ]
     },
     "metadata": {
      "needs_background": "light"
     },
     "output_type": "display_data"
    }
   ],
   "source": [
    "plt.scatter(epochs[-100:], losses[-100:])"
   ]
  },
  {
   "cell_type": "code",
   "execution_count": 19,
   "id": "73b15033",
   "metadata": {},
   "outputs": [
    {
     "data": {
      "text/plain": [
       "(56, 0.1945)"
      ]
     },
     "execution_count": 19,
     "metadata": {},
     "output_type": "execute_result"
    }
   ],
   "source": [
    "i_low = np.argmin(losses)\n",
    "epochs[i_low], losses[i_low]"
   ]
  },
  {
   "cell_type": "code",
   "execution_count": 20,
   "id": "1e5e6a63",
   "metadata": {},
   "outputs": [
    {
     "data": {
      "text/plain": [
       "(array([48, 49, 50, 51, 52, 53, 54, 55, 56, 57]),\n",
       " array([0.1984, 0.1973, 0.1972, 0.197 , 0.1967, 0.1957, 0.1951, 0.195 ,\n",
       "        0.1945, 0.1946]))"
      ]
     },
     "execution_count": 20,
     "metadata": {},
     "output_type": "execute_result"
    }
   ],
   "source": [
    "epochs[-10:], losses[-10:]"
   ]
  },
  {
   "cell_type": "code",
   "execution_count": null,
   "id": "189a5fd3",
   "metadata": {},
   "outputs": [],
   "source": []
  }
 ],
 "metadata": {
  "kernelspec": {
   "display_name": "climatehack",
   "language": "python",
   "name": "climatehack"
  },
  "language_info": {
   "codemirror_mode": {
    "name": "ipython",
    "version": 3
   },
   "file_extension": ".py",
   "mimetype": "text/x-python",
   "name": "python",
   "nbconvert_exporter": "python",
   "pygments_lexer": "ipython3",
   "version": "3.9.7"
  }
 },
 "nbformat": 4,
 "nbformat_minor": 5
}
