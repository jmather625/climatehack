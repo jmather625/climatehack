{
 "cells": [
  {
   "cell_type": "code",
   "execution_count": 1,
   "id": "770a88d7",
   "metadata": {},
   "outputs": [],
   "source": [
    "import matplotlib.pyplot as plt\n",
    "import numpy as np\n",
    "import os"
   ]
  },
  {
   "cell_type": "code",
   "execution_count": 2,
   "id": "527470d5",
   "metadata": {},
   "outputs": [],
   "source": [
    "files = os.listdir('weights/dgmr_full_128_msssim_notransform/')"
   ]
  },
  {
   "cell_type": "code",
   "execution_count": 3,
   "id": "22b252fd",
   "metadata": {},
   "outputs": [],
   "source": [
    "actual = [f for f in files if f.startswith('dgmr')]"
   ]
  },
  {
   "cell_type": "code",
   "execution_count": 4,
   "id": "369b59f3",
   "metadata": {},
   "outputs": [],
   "source": [
    "epochs = []\n",
    "losses = []\n",
    "for f in actual:\n",
    "    if 'batch' in f:\n",
    "        continue\n",
    "    f = f[:-3] # remove .pt\n",
    "    _, epoch_str, loss_str = f.split('_')\n",
    "    _, epoch = epoch_str.split('=')\n",
    "    _, loss = loss_str.split('=')\n",
    "    epochs.append(int(epoch))\n",
    "    losses.append(float(loss))"
   ]
  },
  {
   "cell_type": "code",
   "execution_count": 5,
   "id": "1304b416",
   "metadata": {},
   "outputs": [],
   "source": [
    "epochs = np.array(epochs)\n",
    "losses = np.array(losses)"
   ]
  },
  {
   "cell_type": "code",
   "execution_count": 6,
   "id": "458d6094",
   "metadata": {},
   "outputs": [],
   "source": [
    "indices = np.argsort(epochs)\n",
    "epochs = epochs[indices]\n",
    "losses = losses[indices]"
   ]
  },
  {
   "cell_type": "code",
   "execution_count": 8,
   "id": "d0e4b0f7",
   "metadata": {},
   "outputs": [
    {
     "data": {
      "text/plain": [
       "97"
      ]
     },
     "execution_count": 8,
     "metadata": {},
     "output_type": "execute_result"
    }
   ],
   "source": [
    "epochs[-1]"
   ]
  },
  {
   "cell_type": "code",
   "execution_count": 10,
   "id": "15f9601b",
   "metadata": {
    "scrolled": true
   },
   "outputs": [
    {
     "data": {
      "text/plain": [
       "<matplotlib.collections.PathCollection at 0x7f6562fbf580>"
      ]
     },
     "execution_count": 10,
     "metadata": {},
     "output_type": "execute_result"
    },
    {
     "data": {
      "image/png": "[encoded data removed]",
      "text/plain": [
       "<Figure size 432x288 with 1 Axes>"
      ]
     },
     "metadata": {
      "needs_background": "light"
     },
     "output_type": "display_data"
    }
   ],
   "source": [
    "plt.scatter(epochs, losses)"
   ]
  },
  {
   "cell_type": "code",
   "execution_count": 14,
   "id": "307253a3",
   "metadata": {},
   "outputs": [
    {
     "data": {
      "text/plain": [
       "(96, 0.2243)"
      ]
     },
     "execution_count": 14,
     "metadata": {},
     "output_type": "execute_result"
    }
   ],
   "source": [
    "i_low = np.argmin(losses)\n",
    "epochs[i_low], losses[i_low]"
   ]
  },
  {
   "cell_type": "code",
   "execution_count": null,
   "id": "55ff625f",
   "metadata": {},
   "outputs": [],
   "source": [
    "losses"
   ]
  },
  {
   "cell_type": "code",
   "execution_count": 11,
   "id": "1e5e6a63",
   "metadata": {},
   "outputs": [
    {
     "data": {
      "text/plain": [
       "(array([88, 89, 90, 91, 92, 93, 94, 95, 96, 97]),\n",
       " array([0.2254, 0.2244, 0.2251, 0.2247, 0.2245, 0.2244, 0.2249, 0.2245,\n",
       "        0.2243, 0.2245]))"
      ]
     },
     "execution_count": 11,
     "metadata": {},
     "output_type": "execute_result"
    }
   ],
   "source": [
    "epochs[-10:], losses[-10:]"
   ]
  },
  {
   "cell_type": "code",
   "execution_count": null,
   "id": "189a5fd3",
   "metadata": {},
   "outputs": [],
   "source": []
  }
 ],
 "metadata": {
  "kernelspec": {
   "display_name": "climatehack",
   "language": "python",
   "name": "climatehack"
  },
  "language_info": {
   "codemirror_mode": {
    "name": "ipython",
    "version": 3
   },
   "file_extension": ".py",
   "mimetype": "text/x-python",
   "name": "python",
   "nbconvert_exporter": "python",
   "pygments_lexer": "ipython3",
   "version": "3.9.7"
  }
 },
 "nbformat": 4,
 "nbformat_minor": 5
}
