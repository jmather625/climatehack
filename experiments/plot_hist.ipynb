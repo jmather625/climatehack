{
 "cells": [
  {
   "cell_type": "code",
   "execution_count": 2,
   "id": "6430824a",
   "metadata": {},
   "outputs": [],
   "source": [
    "import matplotlib.pyplot as plt\n",
    "import numpy as np\n",
    "import pathlib\n",
    "import os"
   ]
  },
  {
   "cell_type": "code",
   "execution_count": 3,
   "id": "a333d2f1",
   "metadata": {},
   "outputs": [],
   "source": [
    "def load_epochs_losses(f):\n",
    "    files = (pathlib.Path(f) / 'hist.txt').read_text().split('\\n')\n",
    "    actual = [f for f in files if f.endswith('.pt')]\n",
    "    epochs = []\n",
    "    losses = []\n",
    "    for f in actual:\n",
    "        if 'batch' in f:\n",
    "            continue\n",
    "        f = f[:-3] # remove .pt\n",
    "        _, epoch_str, loss_str = f.split('_')\n",
    "        _, epoch = epoch_str.split('=')\n",
    "        _, loss = loss_str.split('=')\n",
    "        epochs.append(int(epoch))\n",
    "        losses.append(float(loss))\n",
    "    epochs = np.array(epochs)\n",
    "    losses = np.array(losses)\n",
    "    indices = np.argsort(epochs)\n",
    "    epochs = epochs[indices]\n",
    "    losses = losses[indices]\n",
    "    return epochs, losses"
   ]
  },
  {
   "cell_type": "code",
   "execution_count": 4,
   "id": "92f6c3bf",
   "metadata": {},
   "outputs": [],
   "source": [
    "epochs, losses = load_epochs_losses('weights/dgmr_dct')"
   ]
  },
  {
   "cell_type": "code",
   "execution_count": 5,
   "id": "61ab2dbf",
   "metadata": {},
   "outputs": [
    {
     "data": {
      "text/plain": [
       "Text(0.5, 1.0, 'DCT-Trick Performance')"
      ]
     },
     "execution_count": 5,
     "metadata": {},
     "output_type": "execute_result"
    },
    {
     "data": {
      "image/png": "[encoded data removed]",
      "text/plain": [
       "<Figure size 432x288 with 1 Axes>"
      ]
     },
     "metadata": {
      "needs_background": "light"
     },
     "output_type": "display_data"
    }
   ],
   "source": [
    "plt.scatter(epochs, losses, label='DGMT DCT-Trick', color='blue')\n",
    "plt.xlabel('Epochs')\n",
    "plt.ylabel('Train Loss (MS-SSIM)')\n",
    "plt.legend()\n",
    "plt.title('DCT-Trick Performance')"
   ]
  },
  {
   "cell_type": "code",
   "execution_count": null,
   "id": "81bf0402",
   "metadata": {},
   "outputs": [],
   "source": []
  }
 ],
 "metadata": {
  "kernelspec": {
   "display_name": "climatehack",
   "language": "python",
   "name": "climatehack"
  },
  "language_info": {
   "codemirror_mode": {
    "name": "ipython",
    "version": 3
   },
   "file_extension": ".py",
   "mimetype": "text/x-python",
   "name": "python",
   "nbconvert_exporter": "python",
   "pygments_lexer": "ipython3",
   "version": "3.9.7"
  }
 },
 "nbformat": 4,
 "nbformat_minor": 5
}
