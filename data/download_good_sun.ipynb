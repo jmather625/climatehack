{
 "cells": [
  {
   "cell_type": "markdown",
   "id": "f5bb2c5a",
   "metadata": {},
   "source": [
    "Creates `data_good_sun_2020.npz` and `data_good_sun_2021.npz` by using `pvlib` to make sure the sun's elevation is at least 10 degrees."
   ]
  },
  {
   "cell_type": "code",
   "execution_count": 1,
   "id": "59442d53",
   "metadata": {},
   "outputs": [],
   "source": [
    "import xarray as xr\n",
    "import numpy as np\n",
    "import pandas as pd\n",
    "import pathlib\n",
    "import datetime\n",
    "import pvlib\n",
    "import tqdm\n",
    "import sys\n",
    "sys.path.append('..')\n",
    "import common.utils as utils\n"
   ]
  },
  {
   "cell_type": "code",
   "execution_count": null,
   "id": "38f8491a",
   "metadata": {},
   "outputs": [],
   "source": [
    "# sun must have at least this elevation\n",
    "MIN_ELEVATION = 10"
   ]
  },
  {
   "cell_type": "code",
   "execution_count": 2,
   "id": "ba357953",
   "metadata": {
    "id": "830e5ace-8a6c-402d-95e8-0ea1d68222b2"
   },
   "outputs": [
    {
     "name": "stdout",
     "output_type": "stream",
     "text": [
      "<xarray.Dataset>\n",
      "Dimensions:  (time: 173624, y: 891, x: 1843)\n",
      "Coordinates:\n",
      "  * time     (time) datetime64[ns] 2020-01-01T00:05:00 ... 2021-11-07T15:50:00\n",
      "  * x        (x) float32 2.8e+04 2.7e+04 2.6e+04 ... -1.813e+06 -1.814e+06\n",
      "    x_osgb   (y, x) float32 dask.array<chunksize=(891, 1843), meta=np.ndarray>\n",
      "  * y        (y) float32 4.198e+06 4.199e+06 4.2e+06 ... 5.087e+06 5.088e+06\n",
      "    y_osgb   (y, x) float32 dask.array<chunksize=(891, 1843), meta=np.ndarray>\n",
      "Data variables:\n",
      "    data     (time, y, x) int16 dask.array<chunksize=(22, 891, 1843), meta=np.ndarray>\n"
     ]
    }
   ],
   "source": [
    "SATELLITE_ZARR_PATH = \"gs://public-datasets-eumetsat-solar-forecasting/satellite/EUMETSAT/SEVIRI_RSS/v3/eumetsat_seviri_hrv_uk.zarr\"\n",
    "\n",
    "dataset = xr.open_dataset(\n",
    "    SATELLITE_ZARR_PATH, \n",
    "    engine=\"zarr\",\n",
    "    chunks=\"auto\",  # Load the data as a Dask array\n",
    ")\n",
    "\n",
    "print(dataset)\n"
   ]
  },
  {
   "cell_type": "code",
   "execution_count": 3,
   "id": "4291f31b",
   "metadata": {},
   "outputs": [],
   "source": [
    "# we need these to get lat/lon info, which then helps determines the sun's elevation\n",
    "# this can be easiest obtained by downloading from the Google Drive linked in the repo README\n",
    "# you can also just make a crop and only download the OSGB data and save that as `coords.npz`\n",
    "p = pathlib.Path('coords.npz')\n",
    "f = np.load(p)\n",
    "x_osgb = f['x_osgb']\n",
    "y_osgb = f['y_osgb']"
   ]
  },
  {
   "cell_type": "code",
   "execution_count": 4,
   "id": "462fa50c",
   "metadata": {},
   "outputs": [],
   "source": [
    "# run this file twice, one for 2020 and one for 2021\n",
    "YEAR = 2020\n",
    "start_date = datetime.datetime(YEAR, 1, 1)\n",
    "end_date = datetime.datetime(YEAR, 12, 31)"
   ]
  },
  {
   "cell_type": "code",
   "execution_count": 5,
   "id": "470be195",
   "metadata": {},
   "outputs": [],
   "source": [
    "cur = start_date\n",
    "days_to_get = []\n",
    "while cur != end_date + datetime.timedelta(days=1):\n",
    "    days_to_get.append(cur)\n",
    "    cur = cur + datetime.timedelta(days=1)"
   ]
  },
  {
   "cell_type": "code",
   "execution_count": 6,
   "id": "0a5144f5",
   "metadata": {},
   "outputs": [
    {
     "data": {
      "text/plain": [
       "365"
      ]
     },
     "execution_count": 6,
     "metadata": {},
     "output_type": "execute_result"
    }
   ],
   "source": [
    "len(days_to_get)"
   ]
  },
  {
   "cell_type": "code",
   "execution_count": 7,
   "id": "b11d0092",
   "metadata": {},
   "outputs": [],
   "source": [
    "lat_lon = np.zeros((325,400,2))\n",
    "for i in range(lat_lon.shape[0]):\n",
    "    for j in range(lat_lon.shape[1]):\n",
    "        xo = x_osgb[i,j]\n",
    "        yo = y_osgb[i,j]\n",
    "        lat, lon = utils.osgb_to_lat_lon(xo, yo)\n",
    "        lat_lon[i,j] = lat,lon"
   ]
  },
  {
   "cell_type": "code",
   "execution_count": 8,
   "id": "e3f71626",
   "metadata": {},
   "outputs": [],
   "source": [
    "def get_day_slice(date):\n",
    "    # make sure corner vertices satisfy the 10 degree elevation requirement\n",
    "    points_to_check = [\n",
    "        (0,0),\n",
    "        (0,-1),\n",
    "        (-1,0),\n",
    "        (-1,-1),\n",
    "    ]\n",
    "    # start search from midnight to the last hour of the day\n",
    "    tstart = date\n",
    "    tend = date + datetime.timedelta(hours=23)\n",
    "    for p in points_to_check:\n",
    "        lat, lon = lat_lon[p]\n",
    "        sun_is_bad = True\n",
    "        while sun_is_bad:\n",
    "            pd_tstart = pd.Timestamp(tstart)\n",
    "            pd_tend = pd.Timestamp(tend)\n",
    "            e1 = pvlib.solarposition.get_solarposition(pd_tstart, lat, lon).elevation.values[0]\n",
    "            e2 = pvlib.solarposition.get_solarposition(pd_tend, lat, lon).elevation.values[0]\n",
    "            sun_is_bad = False\n",
    "            if e1 < MIN_ELEVATION:\n",
    "                sun_is_bad = True\n",
    "                tstart += datetime.timedelta(minutes=30)\n",
    "            if e2 < MIN_ELEVATION:\n",
    "                sun_is_bad = True\n",
    "                tend -= datetime.timedelta(minutes=30)\n",
    "            # not possible\n",
    "            if tstart > tend:\n",
    "                return None\n",
    "    \n",
    "    # if you don't have 3h of data, do not download\n",
    "    if tend - tstart < datetime.timedelta(hours=3):\n",
    "        return None\n",
    "    \n",
    "    data_slice = dataset.loc[\n",
    "        {\n",
    "            \"time\": slice(\n",
    "                tstart,\n",
    "                tend,\n",
    "            )\n",
    "        }\n",
    "    ].isel(\n",
    "        x=slice(550, 950),\n",
    "        y=slice(375, 700),\n",
    "    )\n",
    "    \n",
    "    # sometimes there is no data\n",
    "    if len(data_slice.time) == 0:\n",
    "        return None\n",
    "    return data_slice"
   ]
  },
  {
   "cell_type": "code",
   "execution_count": 9,
   "id": "f32bbdb7",
   "metadata": {},
   "outputs": [
    {
     "name": "stderr",
     "output_type": "stream",
     "text": [
      "100%|██████████| 365/365 [01:38<00:00,  3.72it/s]\n"
     ]
    }
   ],
   "source": [
    "slices = []\n",
    "for date in tqdm.tqdm(days_to_get):\n",
    "    slc = get_day_slice(date)\n",
    "    if slc is None:\n",
    "        continue\n",
    "    slices.append(slc)"
   ]
  },
  {
   "cell_type": "code",
   "execution_count": 10,
   "id": "507b2e8e",
   "metadata": {},
   "outputs": [
    {
     "data": {
      "text/plain": [
       "253"
      ]
     },
     "execution_count": 10,
     "metadata": {},
     "output_type": "execute_result"
    }
   ],
   "source": [
    "len(slices)"
   ]
  },
  {
   "cell_type": "code",
   "execution_count": 11,
   "id": "9a62d0b6",
   "metadata": {},
   "outputs": [],
   "source": [
    "combined = xr.concat(slices, dim='time')"
   ]
  },
  {
   "cell_type": "code",
   "execution_count": 12,
   "id": "f06f2134",
   "metadata": {},
   "outputs": [
    {
     "name": "stdout",
     "output_type": "stream",
     "text": [
      "CPU times: user 54min 33s, sys: 1min 23s, total: 55min 56s\n",
      "Wall time: 18min 47s\n"
     ]
    }
   ],
   "source": [
    "# takes a while\n",
    "times = combined['time'].to_numpy()\n",
    "x = combined['x'].to_numpy()\n",
    "x_osgb = combined['x_osgb'].to_numpy()\n",
    "y = combined['y'].to_numpy()\n",
    "y_osgb = combined['y_osgb'].to_numpy()\n",
    "%time data = combined['data'].to_numpy()"
   ]
  },
  {
   "cell_type": "code",
   "execution_count": 13,
   "id": "c6db6555",
   "metadata": {},
   "outputs": [
    {
     "data": {
      "text/plain": [
       "((30026,), (400,), (325, 400), (325,), (325, 400), (30026, 325, 400))"
      ]
     },
     "execution_count": 13,
     "metadata": {},
     "output_type": "execute_result"
    }
   ],
   "source": [
    "times.shape, x.shape, x_osgb.shape, y.shape, y_osgb.shape, data.shape"
   ]
  },
  {
   "cell_type": "code",
   "execution_count": 14,
   "id": "5fe46abc",
   "metadata": {},
   "outputs": [],
   "source": [
    "# save to data folder\n",
    "p = pathlib.Path(f'data_good_sun_{YEAR}.npz')\n",
    "if p.exists():\n",
    "    raise ValueError(f'Path {p} already exists!')\n",
    "\n",
    "np.savez(\n",
    "    p,\n",
    "    times=times,\n",
    "    x=x,\n",
    "    x_osgb=x_osgb,\n",
    "    y=y,\n",
    "    y_osgb=y_osgb,\n",
    "    data=data,\n",
    ")"
   ]
  },
  {
   "cell_type": "code",
   "execution_count": null,
   "id": "64375a03",
   "metadata": {},
   "outputs": [],
   "source": []
  }
 ],
 "metadata": {
  "colab": {
   "collapsed_sections": [],
   "name": "Copy of Copy of load_and_plot_HRV_UK_Zarr_from_GCS.ipynb",
   "provenance": []
  },
  "interpreter": {
   "hash": "6f774df9e68be78be8fedc92c8cad2f0688a777ad163558f0717eecbd1f23d05"
  },
  "kernelspec": {
   "display_name": "climatehack",
   "language": "python",
   "name": "climatehack"
  },
  "language_info": {
   "codemirror_mode": {
    "name": "ipython",
    "version": 3
   },
   "file_extension": ".py",
   "mimetype": "text/x-python",
   "name": "python",
   "nbconvert_exporter": "python",
   "pygments_lexer": "ipython3",
   "version": "3.9.7"
  }
 },
 "nbformat": 4,
 "nbformat_minor": 5
}
