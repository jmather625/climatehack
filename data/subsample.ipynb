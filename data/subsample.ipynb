{
 "cells": [
  {
   "cell_type": "code",
   "execution_count": 1,
   "metadata": {},
   "outputs": [],
   "source": [
    "import numpy as np\n",
    "import pathlib\n",
    "import matplotlib.pyplot as plt\n",
    "import torch\n",
    "import loss\n",
    "import tqdm\n",
    "import pyproj\n",
    "\n",
    "import cv2\n",
    "\n",
    "plt.rc('figure', figsize=(15, 15))"
   ]
  },
  {
   "cell_type": "code",
   "execution_count": 2,
   "metadata": {},
   "outputs": [],
   "source": [
    "p = pathlib.Path(f'data/data_random_50.npz')\n",
    "res = np.load(p)\n",
    "\n",
    "times = res['times']\n",
    "x = res['x']\n",
    "x_osgb = res['x_osgb']\n",
    "y = res['y']\n",
    "y_osgb = res['y_osgb']\n",
    "data = res['data']"
   ]
  },
  {
   "cell_type": "code",
   "execution_count": 3,
   "metadata": {},
   "outputs": [],
   "source": [
    "days = set()\n",
    "for t in times:\n",
    "    days.add(t.astype('M8[D]'))"
   ]
  },
  {
   "cell_type": "code",
   "execution_count": 4,
   "metadata": {},
   "outputs": [
    {
     "data": {
      "text/plain": [
       "44"
      ]
     },
     "execution_count": 4,
     "metadata": {},
     "output_type": "execute_result"
    }
   ],
   "source": [
    "len(days)"
   ]
  },
  {
   "cell_type": "code",
   "execution_count": 5,
   "metadata": {},
   "outputs": [],
   "source": [
    "days = list(days)\n",
    "choices = np.random.choice(days, replace=False, size=int(0.35 * len(days)))"
   ]
  },
  {
   "cell_type": "code",
   "execution_count": 6,
   "metadata": {},
   "outputs": [
    {
     "data": {
      "text/plain": [
       "array(['2021-05-16', '2020-06-28', '2020-02-08', '2020-09-18',\n",
       "       '2020-12-29', '2021-01-28', '2020-12-18', '2020-11-10',\n",
       "       '2020-06-02', '2021-09-15', '2020-10-14', '2021-08-31',\n",
       "       '2021-04-08', '2020-07-03', '2021-04-14'], dtype='datetime64[D]')"
      ]
     },
     "execution_count": 6,
     "metadata": {},
     "output_type": "execute_result"
    }
   ],
   "source": [
    "choices"
   ]
  },
  {
   "cell_type": "code",
   "execution_count": 10,
   "metadata": {},
   "outputs": [],
   "source": [
    "valid_idxs = []\n",
    "discovered_days = set()\n",
    "for i in range(len(times)):\n",
    "    day = times[i].astype('M8[D]')\n",
    "    if day in choices:\n",
    "        valid_idxs.append(i)\n",
    "        discovered_days.add(day)"
   ]
  },
  {
   "cell_type": "code",
   "execution_count": 11,
   "metadata": {},
   "outputs": [
    {
     "data": {
      "text/plain": [
       "{numpy.datetime64('2020-02-08'),\n",
       " numpy.datetime64('2020-06-02'),\n",
       " numpy.datetime64('2020-06-28'),\n",
       " numpy.datetime64('2020-07-03'),\n",
       " numpy.datetime64('2020-09-18'),\n",
       " numpy.datetime64('2020-10-14'),\n",
       " numpy.datetime64('2020-11-10'),\n",
       " numpy.datetime64('2020-12-18'),\n",
       " numpy.datetime64('2020-12-29'),\n",
       " numpy.datetime64('2021-01-28'),\n",
       " numpy.datetime64('2021-04-08'),\n",
       " numpy.datetime64('2021-04-14'),\n",
       " numpy.datetime64('2021-05-16'),\n",
       " numpy.datetime64('2021-08-31'),\n",
       " numpy.datetime64('2021-09-15')}"
      ]
     },
     "execution_count": 11,
     "metadata": {},
     "output_type": "execute_result"
    }
   ],
   "source": [
    "discovered_days"
   ]
  },
  {
   "cell_type": "code",
   "execution_count": 9,
   "metadata": {},
   "outputs": [
    {
     "data": {
      "text/plain": [
       "1814"
      ]
     },
     "execution_count": 9,
     "metadata": {},
     "output_type": "execute_result"
    }
   ],
   "source": [
    "len(valid_idxs)"
   ]
  },
  {
   "cell_type": "code",
   "execution_count": 15,
   "metadata": {},
   "outputs": [
    {
     "data": {
      "text/plain": [
       "array(['2021-08-31T07:00:00.000000000', '2021-08-31T07:05:00.000000000',\n",
       "       '2021-08-31T07:10:00.000000000'], dtype='datetime64[ns]')"
      ]
     },
     "execution_count": 15,
     "metadata": {},
     "output_type": "execute_result"
    }
   ],
   "source": [
    "times[[726, 727, 728]]"
   ]
  },
  {
   "cell_type": "code",
   "execution_count": 14,
   "metadata": {},
   "outputs": [
    {
     "data": {
      "text/plain": [
       "[726, 727, 728]"
      ]
     },
     "execution_count": 14,
     "metadata": {},
     "output_type": "execute_result"
    }
   ],
   "source": [
    "valid_idxs[:3]"
   ]
  },
  {
   "cell_type": "code",
   "execution_count": 13,
   "metadata": {},
   "outputs": [
    {
     "data": {
      "text/plain": [
       "1814"
      ]
     },
     "execution_count": 13,
     "metadata": {},
     "output_type": "execute_result"
    }
   ],
   "source": [
    "len(valid_idxs)"
   ]
  },
  {
   "cell_type": "code",
   "execution_count": 16,
   "metadata": {},
   "outputs": [],
   "source": [
    "times = times[valid_idxs]\n",
    "data = data[valid_idxs]"
   ]
  },
  {
   "cell_type": "code",
   "execution_count": 61,
   "metadata": {},
   "outputs": [
    {
     "data": {
      "text/plain": [
       "array(['2020-07-26', '2021-08-24', '2021-01-28', '2021-10-28',\n",
       "       '2020-07-03', '2021-05-05', '2020-05-15', '2020-04-30',\n",
       "       '2020-11-10', '2021-09-12', '2020-10-14', '2020-06-23',\n",
       "       '2021-08-31', '2021-06-24', '2020-09-08'], dtype='datetime64[D]')"
      ]
     },
     "execution_count": 61,
     "metadata": {},
     "output_type": "execute_result"
    }
   ],
   "source": [
    "choices"
   ]
  },
  {
   "cell_type": "code",
   "execution_count": 17,
   "metadata": {},
   "outputs": [],
   "source": [
    "days = set()\n",
    "for t in times:\n",
    "    days.add(t.astype('M8[D]'))"
   ]
  },
  {
   "cell_type": "code",
   "execution_count": 20,
   "metadata": {},
   "outputs": [],
   "source": [
    "p = pathlib.Path('data/data_random_15.npz')\n",
    "if p.exists():\n",
    "    raise ValueError(f'Path {p} already exists!')\n",
    "\n",
    "np.savez(\n",
    "    p,\n",
    "    times=times,\n",
    "    data=data,\n",
    ")"
   ]
  },
  {
   "cell_type": "code",
   "execution_count": null,
   "metadata": {},
   "outputs": [],
   "source": []
  }
 ],
 "metadata": {
  "kernelspec": {
   "display_name": "climatehack",
   "language": "python",
   "name": "climatehack"
  },
  "language_info": {
   "codemirror_mode": {
    "name": "ipython",
    "version": 3
   },
   "file_extension": ".py",
   "mimetype": "text/x-python",
   "name": "python",
   "nbconvert_exporter": "python",
   "pygments_lexer": "ipython3",
   "version": "3.9.10"
  }
 },
 "nbformat": 4,
 "nbformat_minor": 2
}
