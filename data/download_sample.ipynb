{
 "cells": [
  {
   "cell_type": "code",
   "execution_count": 1,
   "metadata": {},
   "outputs": [],
   "source": [
    "import xarray as xr\n",
    "import numpy as np\n",
    "import pathlib\n",
    "import datetime"
   ]
  },
  {
   "cell_type": "code",
   "execution_count": 2,
   "metadata": {
    "id": "830e5ace-8a6c-402d-95e8-0ea1d68222b2"
   },
   "outputs": [
    {
     "name": "stdout",
     "output_type": "stream",
     "text": [
      "<xarray.Dataset>\n",
      "Dimensions:  (time: 173624, y: 891, x: 1843)\n",
      "Coordinates:\n",
      "  * time     (time) datetime64[ns] 2020-01-01T00:05:00 ... 2021-11-07T15:50:00\n",
      "  * x        (x) float32 2.8e+04 2.7e+04 2.6e+04 ... -1.813e+06 -1.814e+06\n",
      "    x_osgb   (y, x) float32 dask.array<chunksize=(891, 1843), meta=np.ndarray>\n",
      "  * y        (y) float32 4.198e+06 4.199e+06 4.2e+06 ... 5.087e+06 5.088e+06\n",
      "    y_osgb   (y, x) float32 dask.array<chunksize=(891, 1843), meta=np.ndarray>\n",
      "Data variables:\n",
      "    data     (time, y, x) int16 dask.array<chunksize=(22, 891, 1843), meta=np.ndarray>\n"
     ]
    }
   ],
   "source": [
    "SATELLITE_ZARR_PATH = \"gs://public-datasets-eumetsat-solar-forecasting/satellite/EUMETSAT/SEVIRI_RSS/v3/eumetsat_seviri_hrv_uk.zarr\"\n",
    "\n",
    "dataset = xr.open_dataset(\n",
    "    SATELLITE_ZARR_PATH, \n",
    "    engine=\"zarr\",\n",
    "    chunks=\"auto\",  # Load the data as a Dask array\n",
    ")\n",
    "\n",
    "print(dataset)\n"
   ]
  },
  {
   "cell_type": "code",
   "execution_count": 3,
   "metadata": {},
   "outputs": [],
   "source": [
    "def get_random_day_slice(skip):\n",
    "    date = None\n",
    "    while date in skip or date is None:\n",
    "        year = int(np.random.choice([2020, 2021], size=1, replace=False)[0])\n",
    "        doy = int(np.random.choice(range(1, 365), size=1, replace=False)[0])\n",
    "        date = datetime.datetime(year, 1, 1) + datetime.timedelta(doy - 1)\n",
    "    \n",
    "    skip.add(date)\n",
    "    \n",
    "    # get data from 7:00 to 17:00 on this day\n",
    "    data_slice = dataset.loc[\n",
    "        {\n",
    "            \"time\": slice(\n",
    "                date + datetime.timedelta(hours=7),\n",
    "                date + datetime.timedelta(hours=17),\n",
    "            )\n",
    "        }\n",
    "    ]\n",
    "    return data_slice"
   ]
  },
  {
   "cell_type": "code",
   "execution_count": 4,
   "metadata": {},
   "outputs": [],
   "source": [
    "DAYS_TO_DOWNLOAD = 50"
   ]
  },
  {
   "cell_type": "code",
   "execution_count": 5,
   "metadata": {},
   "outputs": [],
   "source": [
    "np.random.seed(7)\n",
    "\n",
    "slices = []\n",
    "skip = set()\n",
    "for _ in range(DAYS_TO_DOWNLOAD):\n",
    "    slc = get_random_day_slice(skip)\n",
    "    slices.append(slc)"
   ]
  },
  {
   "cell_type": "code",
   "execution_count": 6,
   "metadata": {},
   "outputs": [],
   "source": [
    "combined = xr.concat(slices, dim='time')"
   ]
  },
  {
   "cell_type": "code",
   "execution_count": 7,
   "metadata": {},
   "outputs": [],
   "source": [
    "# takes a minute\n",
    "times = combined['time'].to_numpy()\n",
    "x = combined['x'].to_numpy()\n",
    "x_osgb = combined['x_osgb'].to_numpy()\n",
    "y = combined['y'].to_numpy()\n",
    "y_osgb = combined['y_osgb'].to_numpy()\n",
    "data = combined['data'].to_numpy()"
   ]
  },
  {
   "cell_type": "code",
   "execution_count": 8,
   "metadata": {},
   "outputs": [
    {
     "data": {
      "text/plain": [
       "((5323,), (5323, 891, 1843))"
      ]
     },
     "execution_count": 8,
     "metadata": {},
     "output_type": "execute_result"
    }
   ],
   "source": [
    "times.shape, data.shape"
   ]
  },
  {
   "cell_type": "code",
   "execution_count": 9,
   "metadata": {},
   "outputs": [],
   "source": [
    "# save to data folder\n",
    "p = pathlib.Path(f'data')\n",
    "p.mkdir(parents=True, exist_ok=True)\n",
    "p = p / f'data_random_{DAYS_TO_DOWNLOAD}.npz'\n",
    "if p.exists():\n",
    "    raise ValueError(f'Path {p} already exists!')\n",
    "\n",
    "np.savez(\n",
    "    p,\n",
    "    times=times,\n",
    "    x=x,\n",
    "    x_osgb=x_osgb,\n",
    "    y=y,\n",
    "    y_osgb=y_osgb,\n",
    "    data=data,\n",
    ")"
   ]
  },
  {
   "cell_type": "code",
   "execution_count": null,
   "metadata": {},
   "outputs": [],
   "source": []
  }
 ],
 "metadata": {
  "colab": {
   "collapsed_sections": [],
   "name": "Copy of Copy of load_and_plot_HRV_UK_Zarr_from_GCS.ipynb",
   "provenance": []
  },
  "interpreter": {
   "hash": "6f774df9e68be78be8fedc92c8cad2f0688a777ad163558f0717eecbd1f23d05"
  },
  "kernelspec": {
   "display_name": "climatehack",
   "language": "python",
   "name": "climatehack"
  },
  "language_info": {
   "codemirror_mode": {
    "name": "ipython",
    "version": 3
   },
   "file_extension": ".py",
   "mimetype": "text/x-python",
   "name": "python",
   "nbconvert_exporter": "python",
   "pygments_lexer": "ipython3",
   "version": "3.9.10"
  }
 },
 "nbformat": 4,
 "nbformat_minor": 5
}
