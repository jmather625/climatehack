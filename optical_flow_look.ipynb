{
 "cells": [
  {
   "cell_type": "code",
   "execution_count": 4,
   "id": "885d2c49",
   "metadata": {},
   "outputs": [],
   "source": [
    "from hyperopt import Trials\n",
    "import joblib"
   ]
  },
  {
   "cell_type": "code",
   "execution_count": 5,
   "id": "d9db01d9",
   "metadata": {},
   "outputs": [],
   "source": [
    "t = joblib.load('trials.csv')"
   ]
  },
  {
   "cell_type": "code",
   "execution_count": 9,
   "id": "deeb385b",
   "metadata": {},
   "outputs": [
    {
     "data": {
      "text/plain": [
       "{'state': 2,\n",
       " 'tid': 7,\n",
       " 'spec': None,\n",
       " 'result': {'loss': -0.642551916718483, 'status': 'ok'},\n",
       " 'misc': {'tid': 7,\n",
       "  'cmd': ('domain_attachment', 'FMinIter_Domain'),\n",
       "  'workdir': None,\n",
       "  'idxs': {'forecast': [7],\n",
       "   'iterations': [7],\n",
       "   'levels': [7],\n",
       "   'poly_n': [7],\n",
       "   'poly_sigma': [7],\n",
       "   'pyr_scale': [7],\n",
       "   'winsize': [7]},\n",
       "  'vals': {'forecast': [24.0],\n",
       "   'iterations': [2.0],\n",
       "   'levels': [6.0],\n",
       "   'poly_n': [7.0],\n",
       "   'poly_sigma': [2.3659542750479874],\n",
       "   'pyr_scale': [0.3587346608308224],\n",
       "   'winsize': [5.0]}},\n",
       " 'exp_key': None,\n",
       " 'owner': None,\n",
       " 'version': 0,\n",
       " 'book_time': datetime.datetime(2022, 2, 22, 3, 0, 49, 136000),\n",
       " 'refresh_time': datetime.datetime(2022, 2, 22, 3, 0, 55, 28000)}"
      ]
     },
     "execution_count": 9,
     "metadata": {},
     "output_type": "execute_result"
    }
   ],
   "source": [
    "t.best_trial"
   ]
  },
  {
   "cell_type": "code",
   "execution_count": 7,
   "id": "7c3137b7",
   "metadata": {},
   "outputs": [
    {
     "data": {
      "text/plain": [
       "{'forecast': [24.0],\n",
       " 'iterations': [2.0],\n",
       " 'levels': [6.0],\n",
       " 'poly_n': [7.0],\n",
       " 'poly_sigma': [2.3659542750479874],\n",
       " 'pyr_scale': [0.3587346608308224],\n",
       " 'winsize': [5.0]}"
      ]
     },
     "execution_count": 7,
     "metadata": {},
     "output_type": "execute_result"
    }
   ],
   "source": [
    "t.best_trial['misc']['vals']"
   ]
  },
  {
   "cell_type": "code",
   "execution_count": null,
   "id": "52b373d2",
   "metadata": {},
   "outputs": [],
   "source": []
  }
 ],
 "metadata": {
  "kernelspec": {
   "display_name": "climatehack",
   "language": "python",
   "name": "climatehack"
  },
  "language_info": {
   "codemirror_mode": {
    "name": "ipython",
    "version": 3
   },
   "file_extension": ".py",
   "mimetype": "text/x-python",
   "name": "python",
   "nbconvert_exporter": "python",
   "pygments_lexer": "ipython3",
   "version": "3.9.7"
  }
 },
 "nbformat": 4,
 "nbformat_minor": 5
}
