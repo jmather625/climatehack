{
 "cells": [
  {
   "cell_type": "code",
   "execution_count": 1,
   "metadata": {},
   "outputs": [],
   "source": [
    "import torch\n",
    "import torchvision.models as models\n",
    "from torch.utils.data import DataLoader\n",
    "import xarray as xr\n",
    "\n",
    "# custom\n",
    "from utils.loss import MS_SSIMLoss\n",
    "from utils.custom_dataset import ClimateHackDataset"
   ]
  },
  {
   "cell_type": "code",
   "execution_count": 2,
   "metadata": {},
   "outputs": [],
   "source": [
    "from fastai.vision.all import *"
   ]
  },
  {
   "cell_type": "markdown",
   "metadata": {},
   "source": [
    "## Data"
   ]
  },
  {
   "cell_type": "code",
   "execution_count": 3,
   "metadata": {},
   "outputs": [],
   "source": [
    "# # SATELLITE_ZARR_PATH = \"gs://public-datasets-eumetsat-solar-forecasting/satellite/EUMETSAT/SEVIRI_RSS/v3/eumetsat_seviri_hrv_uk.zarr\"\n",
    "# SATELLITE_ZARR_PATH = 'data/eumetsat_seviri_hrv_uk.zarr/'\n",
    "\n",
    "# dataset = xr.open_dataset(\n",
    "#     SATELLITE_ZARR_PATH, \n",
    "#     engine=\"zarr\",\n",
    "#     chunks=\"auto\",  # Load the data as a Dask array\n",
    "# )\n",
    "\n",
    "# print(dataset)"
   ]
  },
  {
   "cell_type": "code",
   "execution_count": 4,
   "metadata": {},
   "outputs": [],
   "source": [
    "# arr = np.load('data/test.npz')"
   ]
  },
  {
   "cell_type": "code",
   "execution_count": 6,
   "metadata": {},
   "outputs": [],
   "source": [
    "BATCH_SIZE = 64\n",
    "train_ds = ClimateHackDataset(\"data/train.npz\")\n",
    "valid_ds = ClimateHackDataset(\"data/test.npz\")\n",
    "\n",
    "# train_dl = torch.utils.data.DataLoader(train_ds, batch_size=BATCH_SIZE)\n",
    "# valid_dl = torch.utils.data.DataLoader(valid_ds, batch_size=BATCH_SIZE)\n",
    "\n",
    "train_loader = DataLoader(train_ds, batch_size=BATCH_SIZE, pin_memory=True)\n",
    "valid_loader = DataLoader(valid_ds, batch_size=BATCH_SIZE, pin_memory=True)\n",
    "\n",
    "# train_loader.n = len(train_ds.cached_items)\n",
    "# valid_loader.n = len(valid_ds.cached_items)\n",
    "\n",
    "dls = DataLoaders(train_loader, valid_loader)"
   ]
  },
  {
   "cell_type": "code",
   "execution_count": 8,
   "metadata": {},
   "outputs": [
    {
     "data": {
      "text/plain": [
       "torch.Size([64, 24, 128, 128])"
      ]
     },
     "execution_count": 8,
     "metadata": {},
     "output_type": "execute_result"
    }
   ],
   "source": [
    "next(iter(train_loader))[1].shape"
   ]
  },
  {
   "cell_type": "markdown",
   "metadata": {},
   "source": [
    "## Training"
   ]
  },
  {
   "cell_type": "code",
   "execution_count": 6,
   "metadata": {},
   "outputs": [],
   "source": [
    "FORECAST = 24\n",
    "criterion = MS_SSIMLoss(channels=FORECAST)"
   ]
  },
  {
   "cell_type": "code",
   "execution_count": 7,
   "metadata": {},
   "outputs": [],
   "source": [
    "class SmartShrink(nn.Module):\n",
    "    def __init__(self, size=(64, 64)):\n",
    "        super().__init__()\n",
    "        self.size = size\n",
    "\n",
    "    def forward(self, x):\n",
    "        return F.interpolate(x, size=self.size)\n",
    "\n",
    "model = create_unet_model(\n",
    "    arch=models.resnet50, img_size=(128, 128), n_out=24, pretrained=True, n_in=14, self_attention=True, \n",
    ")\n",
    "model.layers.add_module(\"SmartShrink\", SmartShrink(size=(64, 64)))"
   ]
  },
  {
   "cell_type": "code",
   "execution_count": 8,
   "metadata": {},
   "outputs": [],
   "source": [
    "learn = Learner(dls, model, loss_func=criterion)"
   ]
  },
  {
   "cell_type": "code",
   "execution_count": 9,
   "metadata": {},
   "outputs": [
    {
     "data": {
      "text/html": [],
      "text/plain": [
       "<IPython.core.display.HTML object>"
      ]
     },
     "metadata": {},
     "output_type": "display_data"
    },
    {
     "data": {
      "text/plain": [
       "SuggestedLRs(valley=2.511886486900039e-05)"
      ]
     },
     "execution_count": 9,
     "metadata": {},
     "output_type": "execute_result"
    },
    {
     "data": {
      "image/png": "[encoded data removed]",
      "text/plain": [
       "<Figure size 432x288 with 1 Axes>"
      ]
     },
     "metadata": {
      "needs_background": "light"
     },
     "output_type": "display_data"
    }
   ],
   "source": [
    "learn.lr_find()"
   ]
  },
  {
   "cell_type": "code",
   "execution_count": null,
   "metadata": {},
   "outputs": [
    {
     "data": {
      "text/html": [
       "<table border=\"1\" class=\"dataframe\">\n",
       "  <thead>\n",
       "    <tr style=\"text-align: left;\">\n",
       "      <th>epoch</th>\n",
       "      <th>train_loss</th>\n",
       "      <th>valid_loss</th>\n",
       "      <th>time</th>\n",
       "    </tr>\n",
       "  </thead>\n",
       "  <tbody>\n",
       "    <tr>\n",
       "      <td>0</td>\n",
       "      <td>0.248178</td>\n",
       "      <td>0.253115</td>\n",
       "      <td>44:54</td>\n",
       "    </tr>\n",
       "    <tr>\n",
       "      <td>1</td>\n",
       "      <td>0.250437</td>\n",
       "      <td>0.254625</td>\n",
       "      <td>44:53</td>\n",
       "    </tr>\n",
       "    <tr>\n",
       "      <td>2</td>\n",
       "      <td>0.248723</td>\n",
       "      <td>0.251835</td>\n",
       "      <td>45:12</td>\n",
       "    </tr>\n",
       "    <tr>\n",
       "      <td>3</td>\n",
       "      <td>0.248900</td>\n",
       "      <td>0.253866</td>\n",
       "      <td>44:55</td>\n",
       "    </tr>\n",
       "    <tr>\n",
       "      <td>4</td>\n",
       "      <td>0.247123</td>\n",
       "      <td>0.244329</td>\n",
       "      <td>44:52</td>\n",
       "    </tr>\n",
       "    <tr>\n",
       "      <td>5</td>\n",
       "      <td>0.244221</td>\n",
       "      <td>0.246293</td>\n",
       "      <td>44:54</td>\n",
       "    </tr>\n",
       "    <tr>\n",
       "      <td>6</td>\n",
       "      <td>0.240939</td>\n",
       "      <td>0.239820</td>\n",
       "      <td>44:53</td>\n",
       "    </tr>\n",
       "    <tr>\n",
       "      <td>7</td>\n",
       "      <td>0.241679</td>\n",
       "      <td>0.249434</td>\n",
       "      <td>44:52</td>\n",
       "    </tr>\n",
       "    <tr>\n",
       "      <td>8</td>\n",
       "      <td>0.240875</td>\n",
       "      <td>0.246027</td>\n",
       "      <td>44:52</td>\n",
       "    </tr>\n",
       "    <tr>\n",
       "      <td>9</td>\n",
       "      <td>0.241449</td>\n",
       "      <td>0.245839</td>\n",
       "      <td>44:54</td>\n",
       "    </tr>\n",
       "    <tr>\n",
       "      <td>10</td>\n",
       "      <td>0.238777</td>\n",
       "      <td>0.244917</td>\n",
       "      <td>44:53</td>\n",
       "    </tr>\n",
       "    <tr>\n",
       "      <td>11</td>\n",
       "      <td>0.237669</td>\n",
       "      <td>0.244460</td>\n",
       "      <td>44:52</td>\n",
       "    </tr>\n",
       "    <tr>\n",
       "      <td>12</td>\n",
       "      <td>0.236403</td>\n",
       "      <td>0.236995</td>\n",
       "      <td>44:53</td>\n",
       "    </tr>\n",
       "    <tr>\n",
       "      <td>13</td>\n",
       "      <td>0.238392</td>\n",
       "      <td>0.255967</td>\n",
       "      <td>44:51</td>\n",
       "    </tr>\n",
       "    <tr>\n",
       "      <td>14</td>\n",
       "      <td>0.236036</td>\n",
       "      <td>0.237856</td>\n",
       "      <td>44:51</td>\n",
       "    </tr>\n",
       "    <tr>\n",
       "      <td>15</td>\n",
       "      <td>0.235014</td>\n",
       "      <td>0.231809</td>\n",
       "      <td>44:50</td>\n",
       "    </tr>\n",
       "    <tr>\n",
       "      <td>16</td>\n",
       "      <td>0.232488</td>\n",
       "      <td>0.234331</td>\n",
       "      <td>44:52</td>\n",
       "    </tr>\n",
       "    <tr>\n",
       "      <td>17</td>\n",
       "      <td>0.235759</td>\n",
       "      <td>0.236632</td>\n",
       "      <td>44:49</td>\n",
       "    </tr>\n",
       "    <tr>\n",
       "      <td>18</td>\n",
       "      <td>0.236196</td>\n",
       "      <td>0.240833</td>\n",
       "      <td>44:51</td>\n",
       "    </tr>\n",
       "    <tr>\n",
       "      <td>19</td>\n",
       "      <td>0.234678</td>\n",
       "      <td>0.240567</td>\n",
       "      <td>44:51</td>\n",
       "    </tr>\n",
       "    <tr>\n",
       "      <td>20</td>\n",
       "      <td>0.232851</td>\n",
       "      <td>0.234728</td>\n",
       "      <td>44:47</td>\n",
       "    </tr>\n",
       "    <tr>\n",
       "      <td>21</td>\n",
       "      <td>0.231311</td>\n",
       "      <td>0.237217</td>\n",
       "      <td>44:49</td>\n",
       "    </tr>\n",
       "    <tr>\n",
       "      <td>22</td>\n",
       "      <td>0.229597</td>\n",
       "      <td>0.233033</td>\n",
       "      <td>44:47</td>\n",
       "    </tr>\n",
       "    <tr>\n",
       "      <td>23</td>\n",
       "      <td>0.232877</td>\n",
       "      <td>0.246728</td>\n",
       "      <td>44:48</td>\n",
       "    </tr>\n",
       "    <tr>\n",
       "      <td>24</td>\n",
       "      <td>0.231677</td>\n",
       "      <td>0.231043</td>\n",
       "      <td>44:46</td>\n",
       "    </tr>\n",
       "    <tr>\n",
       "      <td>25</td>\n",
       "      <td>0.230327</td>\n",
       "      <td>0.238773</td>\n",
       "      <td>44:47</td>\n",
       "    </tr>\n",
       "    <tr>\n",
       "      <td>26</td>\n",
       "      <td>0.229350</td>\n",
       "      <td>0.242149</td>\n",
       "      <td>44:45</td>\n",
       "    </tr>\n",
       "    <tr>\n",
       "      <td>27</td>\n",
       "      <td>0.229369</td>\n",
       "      <td>0.230337</td>\n",
       "      <td>44:47</td>\n",
       "    </tr>\n",
       "    <tr>\n",
       "      <td>28</td>\n",
       "      <td>0.230937</td>\n",
       "      <td>0.244531</td>\n",
       "      <td>44:51</td>\n",
       "    </tr>\n",
       "    <tr>\n",
       "      <td>29</td>\n",
       "      <td>0.232105</td>\n",
       "      <td>0.234919</td>\n",
       "      <td>45:12</td>\n",
       "    </tr>\n",
       "    <tr>\n",
       "      <td>30</td>\n",
       "      <td>0.232346</td>\n",
       "      <td>0.223041</td>\n",
       "      <td>45:04</td>\n",
       "    </tr>\n",
       "    <tr>\n",
       "      <td>31</td>\n",
       "      <td>0.231833</td>\n",
       "      <td>0.234386</td>\n",
       "      <td>45:02</td>\n",
       "    </tr>\n",
       "    <tr>\n",
       "      <td>32</td>\n",
       "      <td>0.231284</td>\n",
       "      <td>0.230742</td>\n",
       "      <td>45:43</td>\n",
       "    </tr>\n",
       "    <tr>\n",
       "      <td>33</td>\n",
       "      <td>0.229653</td>\n",
       "      <td>0.234802</td>\n",
       "      <td>46:23</td>\n",
       "    </tr>\n",
       "    <tr>\n",
       "      <td>34</td>\n",
       "      <td>0.231789</td>\n",
       "      <td>0.227761</td>\n",
       "      <td>46:24</td>\n",
       "    </tr>\n",
       "    <tr>\n",
       "      <td>35</td>\n",
       "      <td>0.227033</td>\n",
       "      <td>0.232554</td>\n",
       "      <td>46:23</td>\n",
       "    </tr>\n",
       "    <tr>\n",
       "      <td>36</td>\n",
       "      <td>0.227406</td>\n",
       "      <td>0.235531</td>\n",
       "      <td>46:22</td>\n",
       "    </tr>\n",
       "    <tr>\n",
       "      <td>37</td>\n",
       "      <td>0.227831</td>\n",
       "      <td>0.239979</td>\n",
       "      <td>46:23</td>\n",
       "    </tr>\n",
       "    <tr>\n",
       "      <td>38</td>\n",
       "      <td>0.229192</td>\n",
       "      <td>0.236479</td>\n",
       "      <td>46:21</td>\n",
       "    </tr>\n",
       "    <tr>\n",
       "      <td>39</td>\n",
       "      <td>0.226334</td>\n",
       "      <td>0.228435</td>\n",
       "      <td>46:21</td>\n",
       "    </tr>\n",
       "    <tr>\n",
       "      <td>40</td>\n",
       "      <td>0.224917</td>\n",
       "      <td>0.225078</td>\n",
       "      <td>46:20</td>\n",
       "    </tr>\n",
       "    <tr>\n",
       "      <td>41</td>\n",
       "      <td>0.225971</td>\n",
       "      <td>0.221785</td>\n",
       "      <td>46:22</td>\n",
       "    </tr>\n",
       "    <tr>\n",
       "      <td>42</td>\n",
       "      <td>0.226375</td>\n",
       "      <td>0.237847</td>\n",
       "      <td>46:23</td>\n",
       "    </tr>\n",
       "    <tr>\n",
       "      <td>43</td>\n",
       "      <td>0.227344</td>\n",
       "      <td>0.223134</td>\n",
       "      <td>46:19</td>\n",
       "    </tr>\n",
       "    <tr>\n",
       "      <td>44</td>\n",
       "      <td>0.224255</td>\n",
       "      <td>0.220986</td>\n",
       "      <td>46:22</td>\n",
       "    </tr>\n",
       "    <tr>\n",
       "      <td>45</td>\n",
       "      <td>0.222362</td>\n",
       "      <td>0.219019</td>\n",
       "      <td>46:19</td>\n",
       "    </tr>\n",
       "    <tr>\n",
       "      <td>46</td>\n",
       "      <td>0.217976</td>\n",
       "      <td>0.219531</td>\n",
       "      <td>46:18</td>\n",
       "    </tr>\n",
       "    <tr>\n",
       "      <td>47</td>\n",
       "      <td>0.217338</td>\n",
       "      <td>0.224856</td>\n",
       "      <td>46:13</td>\n",
       "    </tr>\n",
       "    <tr>\n",
       "      <td>48</td>\n",
       "      <td>0.217158</td>\n",
       "      <td>0.218402</td>\n",
       "      <td>46:10</td>\n",
       "    </tr>\n",
       "    <tr>\n",
       "      <td>49</td>\n",
       "      <td>0.220625</td>\n",
       "      <td>0.223434</td>\n",
       "      <td>46:12</td>\n",
       "    </tr>\n",
       "  </tbody>\n",
       "</table>"
      ],
      "text/plain": [
       "<IPython.core.display.HTML object>"
      ]
     },
     "metadata": {},
     "output_type": "display_data"
    }
   ],
   "source": [
    "learn.fit_flat_cos(50, 5e-4)"
   ]
  },
  {
   "cell_type": "code",
   "execution_count": null,
   "metadata": {},
   "outputs": [],
   "source": [
    "torch.save(learn.model.state_dict(), 'checkpoints/dynamic_unet.pth')"
   ]
  },
  {
   "cell_type": "code",
   "execution_count": null,
   "metadata": {},
   "outputs": [],
   "source": [
    "learn.export(\"checkpoints/unet50_learner.pkl\")"
   ]
  },
  {
   "cell_type": "code",
   "execution_count": null,
   "metadata": {},
   "outputs": [],
   "source": [
    "@patch\n",
    "def new_empty(self: ClimateHackDataset):\n",
    "    return self"
   ]
  }
 ],
 "metadata": {
  "interpreter": {
   "hash": "5c7e17e36ef12e3bb1fd00fcbe84f8149e754c9372c6afa356320b10f3d0773c"
  },
  "kernelspec": {
   "display_name": "Python 3.9.7 ('base')",
   "language": "python",
   "name": "python3"
  },
  "language_info": {
   "codemirror_mode": {
    "name": "ipython",
    "version": 3
   },
   "file_extension": ".py",
   "mimetype": "text/x-python",
   "name": "python",
   "nbconvert_exporter": "python",
   "pygments_lexer": "ipython3",
   "version": "3.9.7"
  },
  "orig_nbformat": 4
 },
 "nbformat": 4,
 "nbformat_minor": 2
}
