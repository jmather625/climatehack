{
 "cells": [
  {
   "cell_type": "code",
   "execution_count": 1,
   "id": "fad503ca",
   "metadata": {},
   "outputs": [],
   "source": [
    "%load_ext autoreload\n",
    "%autoreload 2"
   ]
  },
  {
   "cell_type": "code",
   "execution_count": 2,
   "id": "ad13f943",
   "metadata": {},
   "outputs": [],
   "source": [
    "import torch\n",
    "import torch.nn as nn\n",
    "from torchvision import transforms\n",
    "import numpy as np\n",
    "import tqdm\n",
    "import matplotlib.pyplot as plt\n",
    "import pathlib\n",
    "from sklearn.cluster import KMeans\n",
    "import xarray as xr\n",
    "\n",
    "import common.loss_utils as loss_utils\n",
    "import common.climatehack_dataset as climatehack_dataset \n",
    "\n",
    "import sys\n",
    "sys.path.append('./dgmr')\n",
    "import dgmr\n"
   ]
  },
  {
   "cell_type": "code",
   "execution_count": 3,
   "id": "76095a5b",
   "metadata": {},
   "outputs": [
    {
     "data": {
      "text/plain": [
       "device(type='cuda')"
      ]
     },
     "execution_count": 3,
     "metadata": {},
     "output_type": "execute_result"
    }
   ],
   "source": [
    "DEVICE = torch.device('cuda' if torch.cuda.is_available() else 'cpu')\n",
    "DEVICE"
   ]
  },
  {
   "cell_type": "code",
   "execution_count": 4,
   "id": "6a89ebaa",
   "metadata": {},
   "outputs": [],
   "source": [
    "FORECAST = 24\n",
    "INPUT_STEPS = 4\n",
    "BATCH_SIZE = 16"
   ]
  },
  {
   "cell_type": "code",
   "execution_count": 5,
   "id": "d8ef42d8",
   "metadata": {},
   "outputs": [
    {
     "name": "stdout",
     "output_type": "stream",
     "text": [
      "<xarray.Dataset>\n",
      "Dimensions:  (time: 173624, y: 891, x: 1843)\n",
      "Coordinates:\n",
      "  * time     (time) datetime64[ns] 2020-01-01T00:05:00 ... 2021-11-07T15:50:00\n",
      "  * x        (x) float32 2.8e+04 2.7e+04 2.6e+04 ... -1.813e+06 -1.814e+06\n",
      "    x_osgb   (y, x) float32 dask.array<chunksize=(891, 1843), meta=np.ndarray>\n",
      "  * y        (y) float32 4.198e+06 4.199e+06 4.2e+06 ... 5.087e+06 5.088e+06\n",
      "    y_osgb   (y, x) float32 dask.array<chunksize=(891, 1843), meta=np.ndarray>\n",
      "Data variables:\n",
      "    data     (time, y, x) int16 dask.array<chunksize=(22, 891, 1843), meta=np.ndarray>\n"
     ]
    }
   ],
   "source": [
    "SATELLITE_ZARR_PATH = 'data/full/eumetsat_seviri_hrv_uk.zarr/'\n",
    "\n",
    "dataset = xr.open_dataset(\n",
    "    SATELLITE_ZARR_PATH, \n",
    "    engine=\"zarr\",\n",
    "    chunks=\"auto\",  # Load the data as a Dask array\n",
    ")\n",
    "\n",
    "print(dataset)"
   ]
  },
  {
   "cell_type": "code",
   "execution_count": 6,
   "id": "936ab307",
   "metadata": {},
   "outputs": [],
   "source": [
    "test = np.load('data/test.npz')\n",
    "test_times = test['times']"
   ]
  },
  {
   "cell_type": "code",
   "execution_count": 7,
   "id": "545dcdcd",
   "metadata": {},
   "outputs": [
    {
     "data": {
      "text/plain": [
       "30"
      ]
     },
     "execution_count": 7,
     "metadata": {},
     "output_type": "execute_result"
    }
   ],
   "source": [
    "import pandas as pd\n",
    "skip = set()\n",
    "for t in test_times:\n",
    "    d = pd.Timestamp(t).date()\n",
    "    skip.add(d.strftime('%Y-%m-%d'))\n",
    "len(skip)"
   ]
  },
  {
   "cell_type": "code",
   "execution_count": 8,
   "id": "7de196ed",
   "metadata": {},
   "outputs": [],
   "source": [
    "import datetime\n",
    "start_date = datetime.datetime(2020, 1, 1)\n",
    "end_date = datetime.datetime(2021, 11, 7)\n",
    "cur = start_date\n",
    "days_to_get = []\n",
    "while cur != end_date + datetime.timedelta(days=1):\n",
    "    if cur.strftime('%Y-%m-%d') not in skip:\n",
    "        days_to_get.append(cur)\n",
    "    cur = cur + datetime.timedelta(days=1)"
   ]
  },
  {
   "cell_type": "code",
   "execution_count": 9,
   "id": "c69bcaf5",
   "metadata": {},
   "outputs": [],
   "source": [
    "def get_day_slice(date):    \n",
    "    # get data from 10:00 to 16:00 on this day\n",
    "    data_slice = dataset.loc[\n",
    "        {\n",
    "            \"time\": slice(\n",
    "                date + datetime.timedelta(hours=10),\n",
    "                date + datetime.timedelta(hours=16),\n",
    "            )\n",
    "        }\n",
    "    ]\n",
    "    return data_slice\n",
    "\n",
    "slices = []\n",
    "for date in days_to_get:\n",
    "    slc = get_day_slice(date)\n",
    "    slices.append(slc)\n",
    "combined = xr.concat(slices, dim='time')\n",
    "del dataset"
   ]
  },
  {
   "cell_type": "code",
   "execution_count": 10,
   "id": "ff346291",
   "metadata": {},
   "outputs": [],
   "source": [
    "torch.manual_seed(7)\n",
    "tsfm = transforms.Compose([\n",
    "    transforms.Normalize(240.3414, 146.52366),\n",
    "    transforms.RandomHorizontalFlip(),\n",
    "    transforms.RandomVerticalFlip(),\n",
    "])"
   ]
  },
  {
   "cell_type": "code",
   "execution_count": 11,
   "id": "6ca97c54",
   "metadata": {},
   "outputs": [],
   "source": [
    "BATCH_SIZE = 16\n",
    "ds = climatehack_dataset.ClimatehackDataset(\n",
    "    combined,\n",
    "    days=days_to_get,\n",
    "    crops_per_slice=8,\n",
    "    transform=tsfm,\n",
    "    random_state=7,\n",
    ")\n",
    "ch_dataloader = torch.utils.data.DataLoader(\n",
    "    ds,\n",
    "    batch_size=BATCH_SIZE,\n",
    "    shuffle=True,\n",
    "    num_workers=2,\n",
    "    prefetch_factor=4,\n",
    ")"
   ]
  },
  {
   "cell_type": "code",
   "execution_count": 12,
   "id": "151dd5dd",
   "metadata": {},
   "outputs": [],
   "source": [
    "x, y = ds[0]"
   ]
  },
  {
   "cell_type": "code",
   "execution_count": 13,
   "id": "f1569ab1",
   "metadata": {},
   "outputs": [
    {
     "data": {
      "text/plain": [
       "(torch.Size([4, 128, 128]), torch.Size([24, 64, 64]))"
      ]
     },
     "execution_count": 13,
     "metadata": {},
     "output_type": "execute_result"
    }
   ],
   "source": [
    "x.shape, y.shape"
   ]
  },
  {
   "cell_type": "code",
   "execution_count": 14,
   "id": "af5fa401",
   "metadata": {},
   "outputs": [
    {
     "data": {
      "text/plain": [
       "<matplotlib.image.AxesImage at 0x7fbc8aff8640>"
      ]
     },
     "execution_count": 14,
     "metadata": {},
     "output_type": "execute_result"
    },
    {
     "data": {
      "image/png": "[encoded data removed]",
      "text/plain": [
       "<Figure size 432x288 with 1 Axes>"
      ]
     },
     "metadata": {
      "needs_background": "light"
     },
     "output_type": "display_data"
    }
   ],
   "source": [
    "plt.imshow(x[-1,32:96,32:96], cmap='gray')"
   ]
  },
  {
   "cell_type": "code",
   "execution_count": 15,
   "id": "aed0fe3b",
   "metadata": {},
   "outputs": [
    {
     "data": {
      "text/plain": [
       "<matplotlib.image.AxesImage at 0x7fbc8adcdee0>"
      ]
     },
     "execution_count": 15,
     "metadata": {},
     "output_type": "execute_result"
    },
    {
     "data": {
      "image/png": "[encoded data removed]",
      "text/plain": [
       "<Figure size 432x288 with 1 Axes>"
      ]
     },
     "metadata": {
      "needs_background": "light"
     },
     "output_type": "display_data"
    }
   ],
   "source": [
    "plt.imshow(y[0], cmap='gray')"
   ]
  },
  {
   "cell_type": "code",
   "execution_count": null,
   "id": "6fa91e29",
   "metadata": {},
   "outputs": [],
   "source": []
  },
  {
   "cell_type": "code",
   "execution_count": 12,
   "id": "7cf9d5d2",
   "metadata": {},
   "outputs": [
    {
     "data": {
      "text/plain": [
       "<All keys matched successfully>"
      ]
     },
     "execution_count": 12,
     "metadata": {},
     "output_type": "execute_result"
    }
   ],
   "source": [
    "model = dgmr.DGMR(\n",
    "    forecast_steps=FORECAST,\n",
    "    input_channels=1,\n",
    "    output_shape=128,\n",
    "    latent_channels=384,\n",
    "    context_channels=192,\n",
    "    num_samples=3,\n",
    ")\n",
    "model = model.to(DEVICE)\n",
    "model.load_state_dict(torch.load('weights/300d_dgmr_full/dgmr_epochs=13_batch=899_loss=0.1847.pt'))"
   ]
  },
  {
   "cell_type": "code",
   "execution_count": 13,
   "id": "358a3db2",
   "metadata": {},
   "outputs": [
    {
     "name": "stdout",
     "output_type": "stream",
     "text": [
      "The model has 58104267 trainable parameters\n"
     ]
    }
   ],
   "source": [
    "def count_parameters(model):\n",
    "    return sum(p.numel() for p in model.parameters() if p.requires_grad)\n",
    "\n",
    "print(f'The model has {count_parameters(model)} trainable parameters')"
   ]
  },
  {
   "cell_type": "code",
   "execution_count": 14,
   "id": "6107e903",
   "metadata": {},
   "outputs": [],
   "source": [
    "optimizer = torch.optim.Adam(model.parameters(), lr=1e-3)\n",
    "mse_criterion = torch.nn.MSELoss()"
   ]
  },
  {
   "cell_type": "code",
   "execution_count": 15,
   "id": "0a2c18fb",
   "metadata": {},
   "outputs": [],
   "source": [
    "def train_epoch(model, epoch, dl, optimizer, criterion):\n",
    "    model.train()\n",
    "    final_layer = torch.nn.AvgPool2d(kernel_size=2)\n",
    "\n",
    "    epoch_loss = 0\n",
    "    total_count = 0\n",
    "    optimizer.zero_grad()\n",
    "    pbar = tqdm.tqdm(dl)\n",
    "    for i, (srcs, trgs) in enumerate(pbar):\n",
    "        x = srcs.float().to(DEVICE)\n",
    "        y = trgs.float().to(DEVICE)\n",
    "        # add a dimension because 1D image\n",
    "        x = torch.unsqueeze(x, dim=2)\n",
    "        y = torch.unsqueeze(y, dim=2)\n",
    "\n",
    "        preds = model(x)\n",
    "        b, t, c, h, w = preds.shape\n",
    "        preds = preds.reshape(b, t*c, h, w)\n",
    "        preds = final_layer(preds)\n",
    "        preds = preds.reshape(b, t, c, preds.shape[-2], preds.shape[-1])\n",
    "        loss = criterion(preds, y)\n",
    "        \n",
    "        loss.backward()\n",
    "        optimizer.step()\n",
    "        optimizer.zero_grad()\n",
    "\n",
    "        ls = loss.item()\n",
    "        epoch_loss += ls\n",
    "        total_count += 1\n",
    "        if i % 1 == 0:\n",
    "            ls = round(ls, 4)\n",
    "            avg_loss = round(epoch_loss / total_count, 4)\n",
    "            pbar.set_description(f'Avg Loss, Batch Loss: {avg_loss, ls}')\n",
    "            \n",
    "    return epoch_loss / total_count\n",
    "\n"
   ]
  },
  {
   "cell_type": "code",
   "execution_count": null,
   "id": "0c5baef9",
   "metadata": {},
   "outputs": [
    {
     "name": "stdout",
     "output_type": "stream",
     "text": [
      "Epoch 14\n"
     ]
    },
    {
     "name": "stderr",
     "output_type": "stream",
     "text": [
      "  0%|          | 0/324 [00:00<?, ?it/s]/home/sigaida/miniconda3/envs/climatehack/lib/python3.9/site-packages/torch/nn/functional.py:1806: UserWarning: nn.functional.sigmoid is deprecated. Use torch.sigmoid instead.\n",
      "  warnings.warn(\"nn.functional.sigmoid is deprecated. Use torch.sigmoid instead.\")\n",
      "Avg Loss, Batch Loss: (0.2931, 0.6463): 100%|██████████| 324/324 [15:37<00:00,  2.89s/it]\n"
     ]
    },
    {
     "name": "stdout",
     "output_type": "stream",
     "text": [
      "Epoch 15\n"
     ]
    },
    {
     "name": "stderr",
     "output_type": "stream",
     "text": [
      "Avg Loss, Batch Loss: (0.276, 1.5081): 100%|██████████| 324/324 [15:48<00:00,  2.93s/it] \n"
     ]
    },
    {
     "name": "stdout",
     "output_type": "stream",
     "text": [
      "Epoch 16\n"
     ]
    },
    {
     "name": "stderr",
     "output_type": "stream",
     "text": [
      "Avg Loss, Batch Loss: (0.2777, 0.3023): 100%|██████████| 324/324 [15:52<00:00,  2.94s/it]\n"
     ]
    },
    {
     "name": "stdout",
     "output_type": "stream",
     "text": [
      "Epoch 17\n"
     ]
    },
    {
     "name": "stderr",
     "output_type": "stream",
     "text": [
      "Avg Loss, Batch Loss: (0.288, 0.6631): 100%|██████████| 324/324 [15:53<00:00,  2.94s/it] \n"
     ]
    },
    {
     "name": "stdout",
     "output_type": "stream",
     "text": [
      "Epoch 18\n"
     ]
    },
    {
     "name": "stderr",
     "output_type": "stream",
     "text": [
      "Avg Loss, Batch Loss: (0.2766, 0.2159): 100%|██████████| 324/324 [15:52<00:00,  2.94s/it]\n"
     ]
    },
    {
     "name": "stdout",
     "output_type": "stream",
     "text": [
      "Epoch 19\n"
     ]
    },
    {
     "name": "stderr",
     "output_type": "stream",
     "text": [
      "Avg Loss, Batch Loss: (0.2787, 0.2653): 100%|██████████| 324/324 [15:54<00:00,  2.95s/it]\n"
     ]
    },
    {
     "name": "stdout",
     "output_type": "stream",
     "text": [
      "Epoch 20\n"
     ]
    },
    {
     "name": "stderr",
     "output_type": "stream",
     "text": [
      "Avg Loss, Batch Loss: (0.2711, 0.2486): 100%|██████████| 324/324 [15:50<00:00,  2.93s/it]\n"
     ]
    },
    {
     "name": "stdout",
     "output_type": "stream",
     "text": [
      "Epoch 21\n"
     ]
    },
    {
     "name": "stderr",
     "output_type": "stream",
     "text": [
      "Avg Loss, Batch Loss: (0.281, 0.116): 100%|██████████| 324/324 [15:51<00:00,  2.94s/it]  \n"
     ]
    },
    {
     "name": "stdout",
     "output_type": "stream",
     "text": [
      "Epoch 22\n"
     ]
    },
    {
     "name": "stderr",
     "output_type": "stream",
     "text": [
      "Avg Loss, Batch Loss: (0.2657, 0.5533): 100%|██████████| 324/324 [15:50<00:00,  2.93s/it]\n"
     ]
    },
    {
     "name": "stdout",
     "output_type": "stream",
     "text": [
      "Epoch 23\n"
     ]
    },
    {
     "name": "stderr",
     "output_type": "stream",
     "text": [
      "Avg Loss, Batch Loss: (0.2733, 0.4037): 100%|██████████| 324/324 [15:50<00:00,  2.93s/it]\n"
     ]
    },
    {
     "name": "stdout",
     "output_type": "stream",
     "text": [
      "Epoch 24\n"
     ]
    },
    {
     "name": "stderr",
     "output_type": "stream",
     "text": [
      "Avg Loss, Batch Loss: (0.2825, 0.5076): 100%|██████████| 324/324 [15:50<00:00,  2.93s/it]\n"
     ]
    },
    {
     "name": "stdout",
     "output_type": "stream",
     "text": [
      "Epoch 25\n"
     ]
    },
    {
     "name": "stderr",
     "output_type": "stream",
     "text": [
      "Avg Loss, Batch Loss: (0.2615, 0.2476): 100%|██████████| 324/324 [15:52<00:00,  2.94s/it]\n"
     ]
    },
    {
     "name": "stdout",
     "output_type": "stream",
     "text": [
      "Epoch 26\n"
     ]
    },
    {
     "name": "stderr",
     "output_type": "stream",
     "text": [
      "Avg Loss, Batch Loss: (0.2745, 0.2342): 100%|██████████| 324/324 [15:51<00:00,  2.94s/it]\n"
     ]
    },
    {
     "name": "stdout",
     "output_type": "stream",
     "text": [
      "Epoch 27\n"
     ]
    },
    {
     "name": "stderr",
     "output_type": "stream",
     "text": [
      "Avg Loss, Batch Loss: (0.2671, 0.1333):  80%|███████▉  | 258/324 [12:38<03:13,  2.93s/it]"
     ]
    }
   ],
   "source": [
    "EPOCHS = 100\n",
    "EXISTING = 13\n",
    "\n",
    "for i in range(EXISTING + 1, EPOCHS + 1):\n",
    "    print(f\"Epoch {i}\")\n",
    "    avg_loss = train_epoch(model, i, ch_dataloader, optimizer, mse_criterion)\n",
    "    avg_loss = round(avg_loss, 4)\n",
    "    torch.save(model.state_dict(), f'weights/300d_dgmr_full/dgmr_epochs={i}_loss={avg_loss}.pt')\n",
    "    "
   ]
  },
  {
   "cell_type": "code",
   "execution_count": null,
   "id": "8feded37",
   "metadata": {},
   "outputs": [],
   "source": []
  },
  {
   "cell_type": "code",
   "execution_count": 12,
   "id": "f922fc6c",
   "metadata": {},
   "outputs": [],
   "source": [
    "def get_mssim(y, x, average=True):\n",
    "    assert len(y.shape) == 5\n",
    "    if average:\n",
    "        criterion = loss_utils.MS_SSIM(data_range=1023.0, size_average=True, win_size=3, channel=y.shape[1])\n",
    "        return criterion(y, x)\n",
    "    else:\n",
    "        scores = []\n",
    "        criterion = loss_utils.MS_SSIM(data_range=1023.0, size_average=True, win_size=3, channel=1)\n",
    "        for i in range(y.shape[1]):\n",
    "            score = criterion(y[:,i:i+1], x[:,i:i+1])\n",
    "            scores.append(score.item())\n",
    "        return scores"
   ]
  },
  {
   "cell_type": "code",
   "execution_count": 13,
   "id": "ee78f3ea",
   "metadata": {},
   "outputs": [],
   "source": [
    "LOOKS = int(500/BATCH_SIZE)"
   ]
  },
  {
   "cell_type": "code",
   "execution_count": 15,
   "id": "556a362a",
   "metadata": {},
   "outputs": [
    {
     "name": "stderr",
     "output_type": "stream",
     "text": [
      "  0%|          | 0/31 [00:00<?, ?it/s]/home/sigaida/miniconda3/envs/climatehack/lib/python3.9/site-packages/torch/nn/functional.py:1806: UserWarning: nn.functional.sigmoid is deprecated. Use torch.sigmoid instead.\n",
      "  warnings.warn(\"nn.functional.sigmoid is deprecated. Use torch.sigmoid instead.\")\n",
      "  0%|          | 0/31 [00:43<?, ?it/s]\n"
     ]
    },
    {
     "ename": "NameError",
     "evalue": "name '_IQR' is not defined",
     "output_type": "error",
     "traceback": [
      "\u001b[0;31m---------------------------------------------------------------------------\u001b[0m",
      "\u001b[0;31mNameError\u001b[0m                                 Traceback (most recent call last)",
      "\u001b[0;32m/tmp/ipykernel_640856/2931907103.py\u001b[0m in \u001b[0;36m<module>\u001b[0;34m\u001b[0m\n\u001b[1;32m     25\u001b[0m     \u001b[0mpreds\u001b[0m \u001b[0;34m=\u001b[0m \u001b[0mtorch\u001b[0m\u001b[0;34m.\u001b[0m\u001b[0mtanh\u001b[0m\u001b[0;34m(\u001b[0m\u001b[0mpreds\u001b[0m\u001b[0;34m)\u001b[0m\u001b[0;34m\u001b[0m\u001b[0;34m\u001b[0m\u001b[0m\n\u001b[1;32m     26\u001b[0m \u001b[0;34m\u001b[0m\u001b[0m\n\u001b[0;32m---> 27\u001b[0;31m     \u001b[0my\u001b[0m \u001b[0;34m=\u001b[0m \u001b[0mtorch\u001b[0m\u001b[0;34m.\u001b[0m\u001b[0matanh\u001b[0m\u001b[0;34m(\u001b[0m\u001b[0my\u001b[0m\u001b[0;34m)\u001b[0m \u001b[0;34m*\u001b[0m \u001b[0m_IQR\u001b[0m \u001b[0;34m+\u001b[0m \u001b[0m_MEDIAN_PIXEL\u001b[0m\u001b[0;34m\u001b[0m\u001b[0;34m\u001b[0m\u001b[0m\n\u001b[0m\u001b[1;32m     28\u001b[0m     \u001b[0mpreds\u001b[0m \u001b[0;34m=\u001b[0m \u001b[0mtorch\u001b[0m\u001b[0;34m.\u001b[0m\u001b[0matanh\u001b[0m\u001b[0;34m(\u001b[0m\u001b[0mpreds\u001b[0m\u001b[0;34m)\u001b[0m \u001b[0;34m*\u001b[0m \u001b[0m_IQR\u001b[0m \u001b[0;34m+\u001b[0m \u001b[0m_MEDIAN_PIXEL\u001b[0m\u001b[0;34m\u001b[0m\u001b[0;34m\u001b[0m\u001b[0m\n\u001b[1;32m     29\u001b[0m     \u001b[0mscore\u001b[0m \u001b[0;34m=\u001b[0m \u001b[0mget_mssim\u001b[0m\u001b[0;34m(\u001b[0m\u001b[0mpreds\u001b[0m\u001b[0;34m,\u001b[0m \u001b[0my\u001b[0m\u001b[0;34m,\u001b[0m \u001b[0maverage\u001b[0m\u001b[0;34m=\u001b[0m\u001b[0;32mFalse\u001b[0m\u001b[0;34m)\u001b[0m\u001b[0;34m\u001b[0m\u001b[0;34m\u001b[0m\u001b[0m\n",
      "\u001b[0;31mNameError\u001b[0m: name '_IQR' is not defined"
     ]
    }
   ],
   "source": [
    "final_layer = torch.nn.AvgPool2d(kernel_size=2)\n",
    "criterion = loss_utils.MS_SSIM(\n",
    "    data_range=1023.0, size_average=True, win_size=3, channel=24)\n",
    "\n",
    "scores = []\n",
    "running_total = 0\n",
    "running_count = 0\n",
    "pbar = tqdm.tqdm(ch_dataloader, total=LOOKS)\n",
    "for i, (srcs, trgs) in enumerate(pbar):\n",
    "    if i > LOOKS:\n",
    "        break\n",
    "    x = srcs.float().to(DEVICE)\n",
    "    y = trgs.float().to(DEVICE)\n",
    "    # add a dimension because 1D image\n",
    "    x = torch.unsqueeze(x, dim=2)\n",
    "    y = torch.unsqueeze(y, dim=2)\n",
    "    \n",
    "    with torch.no_grad():\n",
    "        preds = model(x)\n",
    "        \n",
    "    b, t, c, h, w = preds.shape\n",
    "    preds = preds.reshape(b, t*c, h, w)\n",
    "    preds = final_layer(preds)\n",
    "    preds = preds.reshape(b, t, c, preds.shape[-2], preds.shape[-1])\n",
    "    preds = torch.tanh(preds)\n",
    "    \n",
    "    y = torch.atanh(y) * _IQR + _MEDIAN_PIXEL\n",
    "    preds = torch.atanh(preds) * _IQR + _MEDIAN_PIXEL\n",
    "    score = get_mssim(preds, y, average=False)\n",
    "    scores.append(score)\n",
    "    \n",
    "    running_total += np.mean(score)\n",
    "    running_count += 1\n",
    "    \n",
    "    pbar.set_description(f'Avg Score: {running_total/running_count}')\n",
    "    "
   ]
  },
  {
   "cell_type": "code",
   "execution_count": null,
   "id": "72cbcfe1",
   "metadata": {},
   "outputs": [],
   "source": []
  },
  {
   "cell_type": "code",
   "execution_count": 19,
   "id": "f1c70083",
   "metadata": {},
   "outputs": [
    {
     "data": {
      "text/plain": [
       "0.7331403812859207"
      ]
     },
     "execution_count": 19,
     "metadata": {},
     "output_type": "execute_result"
    }
   ],
   "source": [
    "scores = np.array(scores)\n",
    "scores.mean()"
   ]
  },
  {
   "cell_type": "code",
   "execution_count": 20,
   "id": "f63b63db",
   "metadata": {},
   "outputs": [
    {
     "data": {
      "text/plain": [
       "array([0.81953028, 0.80779251, 0.7925936 , 0.77860733, 0.76632544,\n",
       "       0.75560664, 0.74665596, 0.73973686, 0.73300125, 0.72682996,\n",
       "       0.7219309 , 0.7180197 , 0.7147535 , 0.71201834, 0.71078821,\n",
       "       0.7092426 , 0.70752272, 0.70651771, 0.70536642, 0.7044202 ,\n",
       "       0.70426552, 0.70410484, 0.70460211, 0.70513655])"
      ]
     },
     "execution_count": 20,
     "metadata": {},
     "output_type": "execute_result"
    }
   ],
   "source": [
    "step_dgmr = scores.mean(axis=0)\n",
    "step_dgmr"
   ]
  },
  {
   "cell_type": "code",
   "execution_count": 21,
   "id": "aeffa41a",
   "metadata": {},
   "outputs": [],
   "source": [
    "step = np.array([0.94732114, 0.8874218 , 0.8358762 , 0.79312605, 0.75684718,\n",
    "       0.7254723 , 0.71111752, 0.69969728, 0.68989919, 0.68185381,\n",
    "       0.67520599, 0.66936791, 0.66448703, 0.66054242, 0.65703949,\n",
    "       0.65408842, 0.65171868, 0.6504889 , 0.64866001, 0.64693765,\n",
    "       0.64587313, 0.6450839 , 0.64387597, 0.64268631])"
   ]
  },
  {
   "cell_type": "code",
   "execution_count": 26,
   "id": "10c49042",
   "metadata": {},
   "outputs": [
    {
     "data": {
      "text/plain": [
       "0.744191275606158"
      ]
     },
     "execution_count": 26,
     "metadata": {},
     "output_type": "execute_result"
    }
   ],
   "source": [
    "choice = 4\n",
    "np.array(step[:choice].tolist() + step_dgmr[choice:].tolist()).mean()"
   ]
  },
  {
   "cell_type": "code",
   "execution_count": null,
   "id": "c166c3ed",
   "metadata": {},
   "outputs": [],
   "source": []
  },
  {
   "cell_type": "code",
   "execution_count": 27,
   "id": "39a3d0c5",
   "metadata": {},
   "outputs": [],
   "source": [
    "out = preds.detach().cpu().numpy()\n",
    "true = y.detach().cpu().numpy()\n",
    "\n",
    "out = np.squeeze(out)\n",
    "true = np.squeeze(true)"
   ]
  },
  {
   "cell_type": "code",
   "execution_count": 32,
   "id": "fb2c9983",
   "metadata": {},
   "outputs": [
    {
     "data": {
      "text/plain": [
       "<matplotlib.image.AxesImage at 0x7f50704e2dc0>"
      ]
     },
     "execution_count": 32,
     "metadata": {},
     "output_type": "execute_result"
    },
    {
     "data": {
      "image/png": "[encoded data removed]",
      "text/plain": [
       "<Figure size 432x288 with 1 Axes>"
      ]
     },
     "metadata": {
      "needs_background": "light"
     },
     "output_type": "display_data"
    }
   ],
   "source": [
    "plt.imshow(out[0,0], cmap='gray')"
   ]
  },
  {
   "cell_type": "code",
   "execution_count": 33,
   "id": "ecf98edc",
   "metadata": {},
   "outputs": [
    {
     "data": {
      "text/plain": [
       "<matplotlib.image.AxesImage at 0x7f507044ae50>"
      ]
     },
     "execution_count": 33,
     "metadata": {},
     "output_type": "execute_result"
    },
    {
     "data": {
      "image/png": "[encoded data removed]",
      "text/plain": [
       "<Figure size 432x288 with 1 Axes>"
      ]
     },
     "metadata": {
      "needs_background": "light"
     },
     "output_type": "display_data"
    }
   ],
   "source": [
    "plt.imshow(true[0,0], cmap='gray')"
   ]
  },
  {
   "cell_type": "code",
   "execution_count": 30,
   "id": "5ee1703e",
   "metadata": {},
   "outputs": [
    {
     "data": {
      "text/plain": [
       "<matplotlib.image.AxesImage at 0x7f507058be20>"
      ]
     },
     "execution_count": 30,
     "metadata": {},
     "output_type": "execute_result"
    },
    {
     "data": {
      "image/png": "[encoded data removed]",
      "text/plain": [
       "<Figure size 432x288 with 1 Axes>"
      ]
     },
     "metadata": {
      "needs_background": "light"
     },
     "output_type": "display_data"
    }
   ],
   "source": [
    "plt.imshow(out[0,-1], cmap='gray')"
   ]
  },
  {
   "cell_type": "code",
   "execution_count": 31,
   "id": "09ec10ff",
   "metadata": {},
   "outputs": [
    {
     "data": {
      "text/plain": [
       "<matplotlib.image.AxesImage at 0x7f50704ecd90>"
      ]
     },
     "execution_count": 31,
     "metadata": {},
     "output_type": "execute_result"
    },
    {
     "data": {
      "image/png": "[encoded data removed]",
      "text/plain": [
       "<Figure size 432x288 with 1 Axes>"
      ]
     },
     "metadata": {
      "needs_background": "light"
     },
     "output_type": "display_data"
    }
   ],
   "source": [
    "plt.imshow(true[0,-1], cmap='gray')"
   ]
  },
  {
   "cell_type": "code",
   "execution_count": null,
   "id": "e5415362",
   "metadata": {},
   "outputs": [],
   "source": []
  }
 ],
 "metadata": {
  "kernelspec": {
   "display_name": "climatehack",
   "language": "python",
   "name": "climatehack"
  },
  "language_info": {
   "codemirror_mode": {
    "name": "ipython",
    "version": 3
   },
   "file_extension": ".py",
   "mimetype": "text/x-python",
   "name": "python",
   "nbconvert_exporter": "python",
   "pygments_lexer": "ipython3",
   "version": "3.9.7"
  }
 },
 "nbformat": 4,
 "nbformat_minor": 5
}
