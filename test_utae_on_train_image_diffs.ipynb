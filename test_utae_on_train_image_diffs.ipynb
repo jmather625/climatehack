{
 "cells": [
  {
   "cell_type": "code",
   "execution_count": 3,
   "id": "fad503ca",
   "metadata": {},
   "outputs": [
    {
     "name": "stdout",
     "output_type": "stream",
     "text": [
      "The autoreload extension is already loaded. To reload it, use:\n",
      "  %reload_ext autoreload\n"
     ]
    }
   ],
   "source": [
    "%load_ext autoreload\n",
    "%autoreload 2"
   ]
  },
  {
   "cell_type": "code",
   "execution_count": 4,
   "id": "ad13f943",
   "metadata": {},
   "outputs": [],
   "source": [
    "import torch\n",
    "import torch.nn as nn\n",
    "from torchvision import transforms\n",
    "import numpy as np\n",
    "import tqdm\n",
    "import matplotlib.pyplot as plt\n",
    "import pathlib\n",
    "from sklearn.cluster import KMeans\n",
    "\n",
    "import common.loss_utils as loss_utils\n",
    "\n",
    "import sys\n",
    "sys.path.append('../utae-paps')\n",
    "from src.backbones import utae_mod"
   ]
  },
  {
   "cell_type": "code",
   "execution_count": 5,
   "id": "76095a5b",
   "metadata": {},
   "outputs": [
    {
     "data": {
      "text/plain": [
       "device(type='cuda')"
      ]
     },
     "execution_count": 5,
     "metadata": {},
     "output_type": "execute_result"
    }
   ],
   "source": [
    "DEVICE = torch.device('cuda' if torch.cuda.is_available() else 'cpu')\n",
    "DEVICE"
   ]
  },
  {
   "cell_type": "code",
   "execution_count": 6,
   "id": "2c13e48f",
   "metadata": {},
   "outputs": [],
   "source": [
    "EXPECTED = 1\n"
   ]
  },
  {
   "cell_type": "code",
   "execution_count": 7,
   "id": "a6e7772a",
   "metadata": {},
   "outputs": [],
   "source": [
    "_MEDIAN_PIXEL = 216.0\n",
    "_IQR = 201.0\n",
    "\n",
    "deltas = np.linspace(-1.0, 1.0, num=41)\n",
    "_cluster_centers = deltas.reshape(-1,1)\n",
    "\n",
    "_KM = KMeans()\n",
    "_KM.cluster_centers_ = _cluster_centers\n",
    "_KM._n_threads = 1\n",
    "\n",
    "def transform(x):\n",
    "    return np.tanh((x - _MEDIAN_PIXEL) / _IQR)\n",
    "\n",
    "def transform_y(y, starter):\n",
    "    y = transform(y)\n",
    "    y = y - starter\n",
    "    y_grouped = _KM.predict(y.reshape(-1,1))\n",
    "    y_grouped = y_grouped.reshape(y.shape)\n",
    "    return y_grouped"
   ]
  },
  {
   "cell_type": "code",
   "execution_count": 6,
   "id": "7cf9d5d2",
   "metadata": {},
   "outputs": [
    {
     "name": "stderr",
     "output_type": "stream",
     "text": [
      "../utae-paps/src/backbones/positional_encoding.py:12: UserWarning: __floordiv__ is deprecated, and its behavior will change in a future version of pytorch. It currently rounds toward 0 (like the 'trunc' function NOT 'floor'). This results in incorrect rounding for negative values. To keep the current behavior, use torch.div(a, b, rounding_mode='trunc'), or for actual floor division, use torch.div(a, b, rounding_mode='floor').\n",
      "  T, 2 * (torch.arange(offset, offset + d).float() // 2) / d\n"
     ]
    }
   ],
   "source": [
    "model = utae_mod.UTAE(\n",
    "    input_dim=1, # 10 for paper\n",
    "    encoder_widths=[64, 64, 64, 128],\n",
    "    decoder_widths=[32, 32, 64, 128],\n",
    "    out_conv=[32, len(_cluster_centers)], # [32, 20] for paper\n",
    "    str_conv_k=4,\n",
    "    str_conv_s=2,\n",
    "    str_conv_p=1,\n",
    "    agg_mode=\"att_group\",\n",
    "    encoder_norm=\"group\",\n",
    "    n_head=16,\n",
    "    d_model=256,\n",
    "    d_k=4,\n",
    "    encoder=False,\n",
    "    return_maps=False,\n",
    "    pad_value=0,\n",
    "    padding_mode=\"reflect\",\n",
    ")\n",
    "\n",
    "model.load_state_dict(torch.load(\"weights/utae_300d_imagediffs_epochs=4_loss=0.2302.pt\"))\n",
    "model = model.to(DEVICE)"
   ]
  },
  {
   "cell_type": "code",
   "execution_count": 8,
   "id": "623e467b",
   "metadata": {},
   "outputs": [],
   "source": [
    "p = pathlib.Path('data/data_random_300.npz')\n",
    "f = np.load(p)\n",
    "times = f['times']\n",
    "data = f['data']"
   ]
  },
  {
   "cell_type": "code",
   "execution_count": 9,
   "id": "495c9bf1",
   "metadata": {},
   "outputs": [
    {
     "data": {
      "text/plain": [
       "((18354,), (18354, 325, 400))"
      ]
     },
     "execution_count": 9,
     "metadata": {},
     "output_type": "execute_result"
    }
   ],
   "source": [
    "times.shape, data.shape"
   ]
  },
  {
   "cell_type": "code",
   "execution_count": 10,
   "id": "fe978475",
   "metadata": {},
   "outputs": [],
   "source": [
    "def check_times(tstart, tend):\n",
    "    return int((tend - tstart) / np.timedelta64(1, 'm')) == 175\n",
    "\n",
    "class CustomTensorDataset(torch.utils.data.Dataset):\n",
    "    \"\"\"TensorDataset with support of transforms.\n",
    "    \"\"\"\n",
    "    def __init__(self, times, data, random_state=7):\n",
    "        self.times = times\n",
    "        self.data = data\n",
    "        self.generator = np.random.RandomState(random_state)\n",
    "\n",
    "    def _get_crop(self, input_slice, target_slice):\n",
    "        # roughly over the mainland UK\n",
    "        rand_x = self.generator.randint(0, input_slice.shape[2] - 128)\n",
    "        rand_y = self.generator.randint(0, input_slice.shape[1] - 128)\n",
    "\n",
    "        # make a data selection\n",
    "        in_crop = input_slice[:, rand_y : rand_y + 128, rand_x : rand_x + 128]\n",
    "        target_crop = target_slice[\n",
    "            :, rand_y + 32 : rand_y + 96, rand_x + 32 : rand_x + 96\n",
    "        ]\n",
    "\n",
    "        return in_crop, target_crop\n",
    "\n",
    "    def __getitem__(self, index):\n",
    "        tend = self.times[index + 35]\n",
    "        tstart = self.times[index]\n",
    "        if not check_times(tstart, tend):\n",
    "            return self.__getitem__((index + 35) % len(self))\n",
    "        src = data[index:index+12]\n",
    "        trg = data[index+12:index+36]\n",
    "        x, y = self._get_crop(src, trg)\n",
    "        x = transform(x)\n",
    "        x_last = x[-1]\n",
    "        x = x - x_last\n",
    "        y_trans = transform_y(y, x_last[32:96,32:96])\n",
    "        return x, y_trans, x_last, y\n",
    "\n",
    "    def __len__(self):\n",
    "        return len(self.times) - 35\n",
    "\n",
    "BATCH_SIZE=1\n",
    "ds = CustomTensorDataset(times, data)\n",
    "dl = torch.utils.data.DataLoader(\n",
    "    ds,\n",
    "    shuffle=True,\n",
    "    batch_size=BATCH_SIZE,\n",
    "    num_workers=2,\n",
    "  )\n",
    "\n"
   ]
  },
  {
   "cell_type": "code",
   "execution_count": 11,
   "id": "2d6239de",
   "metadata": {},
   "outputs": [],
   "source": [
    "ex_x, ex_y, _, _ = ds[0]"
   ]
  },
  {
   "cell_type": "code",
   "execution_count": 12,
   "id": "f8d60c10",
   "metadata": {},
   "outputs": [
    {
     "data": {
      "text/plain": [
       "((12, 128, 128), (24, 64, 64))"
      ]
     },
     "execution_count": 12,
     "metadata": {},
     "output_type": "execute_result"
    }
   ],
   "source": [
    "ex_x.shape, ex_y.shape"
   ]
  },
  {
   "cell_type": "code",
   "execution_count": 13,
   "id": "fc1d19e1",
   "metadata": {},
   "outputs": [
    {
     "data": {
      "text/plain": [
       "<matplotlib.image.AxesImage at 0x7f6f844b7978>"
      ]
     },
     "execution_count": 13,
     "metadata": {},
     "output_type": "execute_result"
    },
    {
     "data": {
      "image/png": "[encoded data removed]",
      "text/plain": [
       "<Figure size 432x288 with 1 Axes>"
      ]
     },
     "metadata": {
      "needs_background": "light"
     },
     "output_type": "display_data"
    }
   ],
   "source": [
    "plt.imshow(ex_x[-2], cmap='gray')"
   ]
  },
  {
   "cell_type": "code",
   "execution_count": 14,
   "id": "b36983d3",
   "metadata": {},
   "outputs": [
    {
     "data": {
      "text/plain": [
       "<matplotlib.image.AxesImage at 0x7f6f843e9438>"
      ]
     },
     "execution_count": 14,
     "metadata": {},
     "output_type": "execute_result"
    },
    {
     "data": {
      "image/png": "[encoded data removed]",
      "text/plain": [
       "<Figure size 432x288 with 1 Axes>"
      ]
     },
     "metadata": {
      "needs_background": "light"
     },
     "output_type": "display_data"
    }
   ],
   "source": [
    "plt.imshow(ex_y[0], cmap='gray')"
   ]
  },
  {
   "cell_type": "code",
   "execution_count": 16,
   "id": "62342a65",
   "metadata": {},
   "outputs": [],
   "source": [
    "STOP_BATCH = 500"
   ]
  },
  {
   "cell_type": "code",
   "execution_count": 17,
   "id": "b2e0a449",
   "metadata": {},
   "outputs": [
    {
     "name": "stderr",
     "output_type": "stream",
     "text": [
      "  3%|▎         | 501/18319 [00:52<30:49,  9.63it/s] \n"
     ]
    }
   ],
   "source": [
    "# get accuracy\n",
    "model.eval()\n",
    "\n",
    "running_correct = 0\n",
    "running_total = 0\n",
    "bp = torch.Tensor([list(range(12)) for _ in range(BATCH_SIZE)]).to(DEVICE)\n",
    "for i, (srcs, trgs, _, _) in enumerate(tqdm.tqdm(dl)):\n",
    "    if i > STOP_BATCH:\n",
    "        break\n",
    "    batch_bp = bp[:len(srcs)] # adapt to current batch\n",
    "    xi = srcs.float().to(DEVICE)\n",
    "    yi = trgs[:,:EXPECTED].long().to(DEVICE)\n",
    "    \n",
    "    xi = torch.unsqueeze(xi, dim=2)\n",
    "    with torch.no_grad():\n",
    "        preds = model(xi, batch_positions=bp)\n",
    "    \n",
    "    # remove the batch and satellite channel dimension from the prediction\n",
    "    preds = torch.squeeze(preds, dim=2)\n",
    "    # get argmax of the predicted labels\n",
    "    preds = torch.argmax(preds, dim=1)\n",
    "    running_correct += (preds == yi).sum()\n",
    "    running_total += yi.reshape(-1).shape[0]\n",
    "    "
   ]
  },
  {
   "cell_type": "code",
   "execution_count": 21,
   "id": "82c0331e",
   "metadata": {},
   "outputs": [
    {
     "data": {
      "text/plain": [
       "tensor(0.4457, device='cuda:0')"
      ]
     },
     "execution_count": 21,
     "metadata": {},
     "output_type": "execute_result"
    }
   ],
   "source": [
    "running_correct / running_total"
   ]
  },
  {
   "cell_type": "code",
   "execution_count": null,
   "id": "e7e4ebda",
   "metadata": {},
   "outputs": [],
   "source": []
  },
  {
   "cell_type": "code",
   "execution_count": 22,
   "id": "1778d7cb",
   "metadata": {},
   "outputs": [],
   "source": [
    "_means = torch.FloatTensor(_cluster_centers).to(DEVICE)\n",
    "_means = torch.unsqueeze(torch.unsqueeze(_means, 0), 3)\n",
    "\n",
    "def get_img(preds):\n",
    "    a = torch.exp(preds)\n",
    "    v = a.sum(dim=1)\n",
    "    e = a / torch.unsqueeze(v, 1)\n",
    "    r = torch.sum(e * _means, axis=1)\n",
    "    return r"
   ]
  },
  {
   "cell_type": "code",
   "execution_count": 23,
   "id": "006622ae",
   "metadata": {},
   "outputs": [],
   "source": [
    "criterion = loss_utils.MS_SSIM(\n",
    "    data_range=1023.0, size_average=True, win_size=3, channel=EXPECTED)\n"
   ]
  },
  {
   "cell_type": "code",
   "execution_count": 24,
   "id": "7372e0d1",
   "metadata": {},
   "outputs": [
    {
     "name": "stderr",
     "output_type": "stream",
     "text": [
      "  3%|▎         | 501/18319 [01:03<37:40,  7.88it/s]\n"
     ]
    }
   ],
   "source": [
    "model.eval()\n",
    "\n",
    "losses = []\n",
    "bp = torch.Tensor([list(range(12)) for _ in range(BATCH_SIZE)]).to(DEVICE)\n",
    "for i, (srcs, _, x_last, trgs) in enumerate(tqdm.tqdm(dl)):\n",
    "    if i > STOP_BATCH:\n",
    "        break\n",
    "    batch_bp = bp[:len(srcs)] # adapt to current batch\n",
    "    xi = srcs.float().to(DEVICE)\n",
    "    yi = trgs[:,:EXPECTED].float().to(DEVICE)\n",
    "    x_last = x_last.float().to(DEVICE)\n",
    "    \n",
    "    xi = torch.unsqueeze(xi, dim=2)\n",
    "    with torch.no_grad():\n",
    "        preds = model(xi, batch_positions=bp)\n",
    "    \n",
    "    # remove the batch and satellite channel dimension from the prediction\n",
    "    preds = torch.squeeze(preds, dim=2)\n",
    "    preds = torch.squeeze(preds, dim=0)\n",
    "    preds = get_img(preds)\n",
    "    preds = preds + x_last[:,32:96,32:96]\n",
    "    preds[preds > 1] = 0.999\n",
    "    preds[preds < -1] = -0.999\n",
    "    preds = torch.atanh(preds) * _IQR + _MEDIAN_PIXEL\n",
    "    \n",
    "#     missing = EXPECTED - FORECAST\n",
    "#     # just do persistence\n",
    "#     missing_pred = inv_transform(xi[:,-1,:,32:96,32:96])\n",
    "#     missing_pred = torch.squeeze(missing_pred)\n",
    "#     missing_pred = torch.tile(missing_pred, (missing, 1, 1))\n",
    "#     # stack them together\n",
    "#     preds = torch.cat([preds, missing_pred], dim=0)\n",
    "\n",
    "    # OR, just test the ones we did\n",
    "#     yi = yi[:FORECAST]\n",
    "    \n",
    "    # also need to do this\n",
    "    preds = torch.unsqueeze(preds, dim=0)\n",
    "    loss = criterion(preds, yi)\n",
    "    itm = loss.item()\n",
    "    if np.isnan(itm):\n",
    "        break\n",
    "    losses.append(itm)"
   ]
  },
  {
   "cell_type": "code",
   "execution_count": 25,
   "id": "173f7ea0",
   "metadata": {},
   "outputs": [
    {
     "data": {
      "text/plain": [
       "0.8941306727613042"
      ]
     },
     "execution_count": 25,
     "metadata": {},
     "output_type": "execute_result"
    }
   ],
   "source": [
    "np.mean(losses)"
   ]
  },
  {
   "cell_type": "code",
   "execution_count": null,
   "id": "b373ca37",
   "metadata": {},
   "outputs": [],
   "source": []
  },
  {
   "cell_type": "code",
   "execution_count": 26,
   "id": "ff090504",
   "metadata": {},
   "outputs": [
    {
     "data": {
      "text/plain": [
       "<matplotlib.image.AxesImage at 0x7f6fd0d36748>"
      ]
     },
     "execution_count": 26,
     "metadata": {},
     "output_type": "execute_result"
    },
    {
     "data": {
      "image/png": "[encoded data removed]",
      "text/plain": [
       "<Figure size 432x288 with 1 Axes>"
      ]
     },
     "metadata": {
      "needs_background": "light"
     },
     "output_type": "display_data"
    }
   ],
   "source": [
    "plt.imshow(preds[0,0].detach().cpu().numpy(), cmap='gray')"
   ]
  },
  {
   "cell_type": "code",
   "execution_count": 27,
   "id": "a6c241c0",
   "metadata": {},
   "outputs": [
    {
     "data": {
      "text/plain": [
       "<matplotlib.image.AxesImage at 0x7f6fd1fc1c88>"
      ]
     },
     "execution_count": 27,
     "metadata": {},
     "output_type": "execute_result"
    },
    {
     "data": {
      "image/png": "[encoded data removed]",
      "text/plain": [
       "<Figure size 432x288 with 1 Axes>"
      ]
     },
     "metadata": {
      "needs_background": "light"
     },
     "output_type": "display_data"
    }
   ],
   "source": [
    "plt.imshow(yi[0,0].detach().cpu().numpy(), cmap='gray')"
   ]
  },
  {
   "cell_type": "code",
   "execution_count": null,
   "id": "7986b5c6",
   "metadata": {},
   "outputs": [],
   "source": []
  }
 ],
 "metadata": {
  "kernelspec": {
   "display_name": "sts",
   "language": "python",
   "name": "sts"
  },
  "language_info": {
   "codemirror_mode": {
    "name": "ipython",
    "version": 3
   },
   "file_extension": ".py",
   "mimetype": "text/x-python",
   "name": "python",
   "nbconvert_exporter": "python",
   "pygments_lexer": "ipython3",
   "version": "3.6.13"
  }
 },
 "nbformat": 4,
 "nbformat_minor": 5
}
