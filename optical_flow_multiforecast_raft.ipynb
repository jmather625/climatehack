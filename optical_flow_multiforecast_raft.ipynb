{
 "cells": [
  {
   "cell_type": "code",
   "execution_count": 2,
   "id": "fad503ca",
   "metadata": {},
   "outputs": [],
   "source": [
    "%load_ext autoreload\n",
    "%autoreload 2"
   ]
  },
  {
   "cell_type": "code",
   "execution_count": 3,
   "id": "ad13f943",
   "metadata": {},
   "outputs": [],
   "source": [
    "import torch\n",
    "import torch.nn as nn\n",
    "from torchvision import transforms\n",
    "import numpy as np\n",
    "import tqdm\n",
    "import matplotlib.pyplot as plt\n",
    "import pathlib\n",
    "import cv2\n",
    "from argparse import Namespace\n",
    "\n",
    "import common.loss_utils as loss_utils\n",
    "import sys\n",
    "sys.path.append(\"RAFT/core\")\n",
    "\n",
    "from raft import RAFT\n",
    "from utils.utils import InputPadder"
   ]
  },
  {
   "cell_type": "code",
   "execution_count": 4,
   "id": "4fba529d",
   "metadata": {},
   "outputs": [],
   "source": [
    "args = Namespace(\n",
    "    model='RAFT/models/raft-kitti.pth',\n",
    "    small=False,\n",
    "    mixed_precision=False,\n",
    "    alternate_corr=False,\n",
    ")"
   ]
  },
  {
   "cell_type": "code",
   "execution_count": 5,
   "id": "2c6e6dae",
   "metadata": {},
   "outputs": [],
   "source": [
    "model = torch.nn.DataParallel(RAFT(args))"
   ]
  },
  {
   "cell_type": "code",
   "execution_count": 6,
   "id": "769d000c",
   "metadata": {},
   "outputs": [
    {
     "data": {
      "text/plain": [
       "<All keys matched successfully>"
      ]
     },
     "execution_count": 6,
     "metadata": {},
     "output_type": "execute_result"
    }
   ],
   "source": [
    "model.load_state_dict(torch.load(args.model))"
   ]
  },
  {
   "cell_type": "code",
   "execution_count": 7,
   "id": "20461279",
   "metadata": {},
   "outputs": [
    {
     "data": {
      "text/plain": [
       "device(type='cuda')"
      ]
     },
     "execution_count": 7,
     "metadata": {},
     "output_type": "execute_result"
    }
   ],
   "source": [
    "DEVICE = torch.device('cuda')\n",
    "DEVICE"
   ]
  },
  {
   "cell_type": "code",
   "execution_count": 8,
   "id": "445e9c9d",
   "metadata": {},
   "outputs": [],
   "source": [
    "model = model.module\n",
    "model.to(DEVICE)\n",
    "model = model.eval()"
   ]
  },
  {
   "cell_type": "code",
   "execution_count": 9,
   "id": "d3f48d70",
   "metadata": {},
   "outputs": [],
   "source": [
    "p = pathlib.Path('data/data_random_300.npz')\n",
    "f = np.load(p)\n",
    "times = f['times']\n",
    "data = f['data']"
   ]
  },
  {
   "cell_type": "code",
   "execution_count": 10,
   "id": "05000cb3",
   "metadata": {},
   "outputs": [
    {
     "data": {
      "text/plain": [
       "((18354,), (18354, 325, 400))"
      ]
     },
     "execution_count": 10,
     "metadata": {},
     "output_type": "execute_result"
    }
   ],
   "source": [
    "times.shape, data.shape"
   ]
  },
  {
   "cell_type": "code",
   "execution_count": 11,
   "id": "4314a6f1",
   "metadata": {},
   "outputs": [],
   "source": [
    "def check_times(tstart, tend):\n",
    "    # check_times(times[0], times[35])\n",
    "    return int((tend - tstart) / np.timedelta64(1, 'm')) == 175"
   ]
  },
  {
   "cell_type": "code",
   "execution_count": 12,
   "id": "00fcfb67",
   "metadata": {},
   "outputs": [],
   "source": [
    "\n",
    "class DataFetcher:\n",
    "    def __init__(self, times, data, random_state=7):\n",
    "        self.times = times\n",
    "        self.data = data\n",
    "        self.generator = np.random.RandomState(random_state)\n",
    "\n",
    "    def _get_crop(self, input_slice, target_slice):\n",
    "        # roughly over the mainland UK\n",
    "#         rand_x = self.generator.randint(0, input_slice.shape[2] - 128)\n",
    "#         rand_y = self.generator.randint(0, input_slice.shape[1] - 128)\n",
    "        rand_x = (input_slice.shape[2] - 128) // 2\n",
    "        rand_y = (input_slice.shape[1] - 128) // 2\n",
    "\n",
    "        # make a data selection\n",
    "        in_crop = input_slice[:, rand_y : rand_y + 128, rand_x : rand_x + 128]\n",
    "        target_crop = target_slice[\n",
    "            :, rand_y + 32 : rand_y + 96, rand_x + 32 : rand_x + 96\n",
    "        ]\n",
    "\n",
    "        return in_crop, target_crop\n",
    "\n",
    "    def __getitem__(self, index):\n",
    "        tend = self.times[index + 35]\n",
    "        tstart = self.times[index]\n",
    "        if not check_times(tstart, tend):\n",
    "            return self.__getitem__((index + 35) % len(self))\n",
    "        src = data[index:index+12]\n",
    "        trg = data[index+12:index+36]\n",
    "        x, y = self._get_crop(src, trg)\n",
    "        return x, y\n",
    "\n",
    "    def __len__(self):\n",
    "        return len(self.times) - 35\n",
    "\n",
    "ds = DataFetcher(times, data)"
   ]
  },
  {
   "cell_type": "code",
   "execution_count": 13,
   "id": "8f6b7e9a",
   "metadata": {},
   "outputs": [],
   "source": [
    "np.random.seed(7)\n",
    "indices = np.arange(len(ds))\n",
    "np.random.shuffle(indices)"
   ]
  },
  {
   "cell_type": "code",
   "execution_count": null,
   "id": "7118723c",
   "metadata": {},
   "outputs": [],
   "source": []
  },
  {
   "cell_type": "code",
   "execution_count": 14,
   "id": "18156e1a",
   "metadata": {},
   "outputs": [],
   "source": [
    "x, y = ds[0]"
   ]
  },
  {
   "cell_type": "code",
   "execution_count": 15,
   "id": "8ad1ea9a",
   "metadata": {},
   "outputs": [
    {
     "data": {
      "text/plain": [
       "((12, 128, 128), (24, 64, 64))"
      ]
     },
     "execution_count": 15,
     "metadata": {},
     "output_type": "execute_result"
    }
   ],
   "source": [
    "x.shape, y.shape"
   ]
  },
  {
   "cell_type": "code",
   "execution_count": 16,
   "id": "c4ca2daf",
   "metadata": {},
   "outputs": [
    {
     "data": {
      "text/plain": [
       "<matplotlib.image.AxesImage at 0x7fa35a5d9fd0>"
      ]
     },
     "execution_count": 16,
     "metadata": {},
     "output_type": "execute_result"
    },
    {
     "data": {
      "image/png": "[encoded data removed]",
      "text/plain": [
       "<Figure size 432x288 with 1 Axes>"
      ]
     },
     "metadata": {
      "needs_background": "light"
     },
     "output_type": "display_data"
    }
   ],
   "source": [
    "plt.imshow(x[0], cmap='gray')"
   ]
  },
  {
   "cell_type": "code",
   "execution_count": 17,
   "id": "4941c25d",
   "metadata": {},
   "outputs": [
    {
     "data": {
      "text/plain": [
       "<matplotlib.image.AxesImage at 0x7fa35a533df0>"
      ]
     },
     "execution_count": 17,
     "metadata": {},
     "output_type": "execute_result"
    },
    {
     "data": {
      "image/png": "[encoded data removed]",
      "text/plain": [
       "<Figure size 432x288 with 1 Axes>"
      ]
     },
     "metadata": {
      "needs_background": "light"
     },
     "output_type": "display_data"
    }
   ],
   "source": [
    "plt.imshow(y[0], cmap='gray')"
   ]
  },
  {
   "cell_type": "code",
   "execution_count": null,
   "id": "c12c46c0",
   "metadata": {},
   "outputs": [],
   "source": []
  },
  {
   "cell_type": "code",
   "execution_count": 22,
   "id": "dae94911",
   "metadata": {},
   "outputs": [],
   "source": [
    "def warp_flow(img, flow):\n",
    "    h, w = flow.shape[:2]\n",
    "    flow = -flow\n",
    "    flow[:,:,0] += np.arange(w)\n",
    "    flow[:,:,1] += np.arange(h)[:,np.newaxis]\n",
    "    res = cv2.remap(img, flow, None, cv2.INTER_LINEAR, borderMode=cv2.BORDER_REPLICATE)\n",
    "    return res\n",
    "\n",
    "def get_mssim(y, x, average=True):\n",
    "    if len(y.shape) == 2:\n",
    "        # we need to specify a number of channels. This sets it to 1 and calls the function again\n",
    "        return get_mssim(np.expand_dims(y, 0), np.expand_dims(x, 0))\n",
    "    if len(y.shape) == 4:\n",
    "        y = y.reshape(-1, y.shape[2], y.shape[3])\n",
    "        x = x.reshape(-1, x.shape[2], x.shape[3])\n",
    "    assert len(y.shape) == 3\n",
    "    if average:\n",
    "        mssim_loss = loss_utils.MS_SSIMLoss(data_range=1023, channels=y.shape[0])\n",
    "        yd = np.expand_dims(y, 0) # /255 * (MAX - MIN) + MIN\n",
    "        xd = np.expand_dims(x, 0) # /255 * (MAX - MIN) + MIN\n",
    "        return 1.0 - mssim_loss(\n",
    "            torch.Tensor(yd),\n",
    "            torch.Tensor(xd),\n",
    "        ).item()\n",
    "    else:\n",
    "        ret = []\n",
    "        for i in range(y.shape[0]):\n",
    "            score = get_mssim(y[i], x[i])\n",
    "            ret.append(score)\n",
    "        return ret"
   ]
  },
  {
   "cell_type": "code",
   "execution_count": 19,
   "id": "02d7db12",
   "metadata": {},
   "outputs": [],
   "source": [
    "LOOKS = 500\n"
   ]
  },
  {
   "cell_type": "code",
   "execution_count": 20,
   "id": "6c0f37f8",
   "metadata": {},
   "outputs": [],
   "source": [
    "def preprocess(x):\n",
    "    x = x.astype(np.float32)*255.0/1023.0\n",
    "    # add an RGB channel\n",
    "    x = np.expand_dims(x, axis=0)\n",
    "    x = np.tile(x, (3, 1, 1))\n",
    "    # add a batch dimension\n",
    "    x = np.expand_dims(x, axis=0)\n",
    "    return torch.Tensor(x).float().to(DEVICE)"
   ]
  },
  {
   "cell_type": "code",
   "execution_count": 23,
   "id": "25227781",
   "metadata": {},
   "outputs": [
    {
     "name": "stderr",
     "output_type": "stream",
     "text": [
      "100%|██████████| 500/500 [00:17<00:00, 27.95it/s]\n"
     ]
    }
   ],
   "source": [
    "pers_scores = []\n",
    "for i in tqdm.tqdm(range(LOOKS)):\n",
    "    x, y = ds[indices[i]]\n",
    "    preds = x[-1:,32:96,32:96]\n",
    "    preds = np.tile(preds, (y.shape[0], 1, 1))\n",
    "    score = get_mssim(preds, y, average=False)\n",
    "    pers_scores.append(score)"
   ]
  },
  {
   "cell_type": "code",
   "execution_count": 25,
   "id": "51a1c9d7",
   "metadata": {},
   "outputs": [],
   "source": [
    "pers_scores = np.array(pers_scores)"
   ]
  },
  {
   "cell_type": "code",
   "execution_count": 27,
   "id": "6cb6b5a2",
   "metadata": {},
   "outputs": [
    {
     "data": {
      "text/plain": [
       "0.6110033917327722"
      ]
     },
     "execution_count": 27,
     "metadata": {},
     "output_type": "execute_result"
    }
   ],
   "source": [
    "np.mean(pers_scores)"
   ]
  },
  {
   "cell_type": "code",
   "execution_count": 51,
   "id": "907cfe7e",
   "metadata": {},
   "outputs": [],
   "source": [
    "step_means = np.mean(pers_scores, axis=0)\n",
    "step_stds = np.std(pers_scores, axis=0)"
   ]
  },
  {
   "cell_type": "code",
   "execution_count": 52,
   "id": "5650c1be",
   "metadata": {
    "scrolled": true
   },
   "outputs": [
    {
     "data": {
      "text/plain": [
       "array([0.88632703, 0.79344851, 0.73701968, 0.69713032, 0.66866749,\n",
       "       0.64714347, 0.63203021, 0.62027657, 0.60863207, 0.59665385,\n",
       "       0.58735347, 0.57964784, 0.57380448, 0.56907231, 0.5645283 ,\n",
       "       0.5587864 , 0.55347086, 0.54994471, 0.54605208, 0.54237107,\n",
       "       0.54028794, 0.54043592, 0.53741777, 0.53357904])"
      ]
     },
     "execution_count": 52,
     "metadata": {},
     "output_type": "execute_result"
    }
   ],
   "source": [
    "step_means"
   ]
  },
  {
   "cell_type": "code",
   "execution_count": 53,
   "id": "e13a31b1",
   "metadata": {},
   "outputs": [
    {
     "data": {
      "text/plain": [
       "array([0.10713402, 0.18544097, 0.22885087, 0.26355636, 0.28977038,\n",
       "       0.30860654, 0.32336437, 0.33555674, 0.34729068, 0.36148124,\n",
       "       0.3705684 , 0.3775105 , 0.38246513, 0.38379825, 0.38685808,\n",
       "       0.39427834, 0.40554115, 0.40962933, 0.41344997, 0.41762635,\n",
       "       0.41789684, 0.41266738, 0.41777917, 0.42081024])"
      ]
     },
     "execution_count": 53,
     "metadata": {},
     "output_type": "execute_result"
    }
   ],
   "source": [
    "# coefficient of variance\n",
    "step_stds / step_means"
   ]
  },
  {
   "cell_type": "code",
   "execution_count": 34,
   "id": "94c703d9",
   "metadata": {},
   "outputs": [
    {
     "data": {
      "text/plain": [
       "[<matplotlib.lines.Line2D at 0x7fa3501725e0>]"
      ]
     },
     "execution_count": 34,
     "metadata": {},
     "output_type": "execute_result"
    },
    {
     "data": {
      "image/png": "[encoded data removed]",
      "text/plain": [
       "<Figure size 432x288 with 1 Axes>"
      ]
     },
     "metadata": {
      "needs_background": "light"
     },
     "output_type": "display_data"
    }
   ],
   "source": [
    "plt.plot(range(24), step_means)"
   ]
  },
  {
   "cell_type": "code",
   "execution_count": null,
   "id": "8cce5553",
   "metadata": {},
   "outputs": [],
   "source": []
  },
  {
   "cell_type": "code",
   "execution_count": 113,
   "id": "d740021d",
   "metadata": {},
   "outputs": [
    {
     "name": "stderr",
     "output_type": "stream",
     "text": [
      "100%|██████████| 500/500 [00:41<00:00, 12.00it/s]\n"
     ]
    }
   ],
   "source": [
    "# vanilla blur\n",
    "forecast = 24\n",
    "vanilla_blur_optical_flow_scores = []\n",
    "for i in tqdm.tqdm(range(LOOKS)):\n",
    "    x, y = ds[indices[i]]\n",
    "    prev = preprocess(x[-2])\n",
    "    cur = preprocess(x[-1])\n",
    "    with torch.no_grad():\n",
    "        _, flow = model(prev, cur, iters=20, test_mode=True)\n",
    "    flow = np.squeeze(flow.cpu().numpy().transpose(0, 2, 3, 1))\n",
    "    cur = x[-1].astype(np.float32)\n",
    "    preds = np.zeros(y.shape, dtype=np.float32)\n",
    "    for j in range(forecast):\n",
    "        cur = warp_flow(cur, flow)\n",
    "        cur = cv2.blur(cur, (3, 3))\n",
    "        preds[j] = cur[32:96,32:96]\n",
    "    remaining = 24 - forecast\n",
    "    if remaining > 0:\n",
    "        preds[forecast:] = cur[32:96,32:96]\n",
    "    score = get_mssim(preds, y, average=False)\n",
    "    vanilla_blur_optical_flow_scores.append(score)"
   ]
  },
  {
   "cell_type": "code",
   "execution_count": 114,
   "id": "57ce0f96",
   "metadata": {},
   "outputs": [],
   "source": [
    "vanilla_blur_optical_flow_scores = np.array(vanilla_blur_optical_flow_scores)\n",
    "vanilla_blur_step_means = np.mean(vanilla_blur_optical_flow_scores, axis=0)\n",
    "vanilla_blur_step_stds = np.std(vanilla_blur_optical_flow_scores, axis=0)"
   ]
  },
  {
   "cell_type": "code",
   "execution_count": 115,
   "id": "87edc9c1",
   "metadata": {},
   "outputs": [
    {
     "data": {
      "text/plain": [
       "0.667334574903051"
      ]
     },
     "execution_count": 115,
     "metadata": {},
     "output_type": "execute_result"
    }
   ],
   "source": [
    "np.mean(vanilla_blur_optical_flow_scores)"
   ]
  },
  {
   "cell_type": "code",
   "execution_count": 116,
   "id": "04f70e7b",
   "metadata": {},
   "outputs": [
    {
     "data": {
      "text/plain": [
       "array([0.93084739, 0.8671757 , 0.81814733, 0.77827905, 0.74656775,\n",
       "       0.7203157 , 0.69895047, 0.68070395, 0.66517063, 0.65205182,\n",
       "       0.64113396, 0.63178115, 0.62162327, 0.61345665, 0.60769835,\n",
       "       0.60292111, 0.59799999, 0.59565883, 0.59454691, 0.59368868,\n",
       "       0.59219731, 0.5905433 , 0.58792506, 0.58664545])"
      ]
     },
     "execution_count": 116,
     "metadata": {},
     "output_type": "execute_result"
    }
   ],
   "source": [
    "vanilla_blur_step_means"
   ]
  },
  {
   "cell_type": "code",
   "execution_count": 110,
   "id": "4867ae3c",
   "metadata": {},
   "outputs": [],
   "source": [
    "new_preds = preds.copy()\n",
    "idx = 12\n",
    "new_preds[idx:] = new_preds[idx - 1]"
   ]
  },
  {
   "cell_type": "code",
   "execution_count": null,
   "id": "7f012572",
   "metadata": {},
   "outputs": [],
   "source": []
  },
  {
   "cell_type": "code",
   "execution_count": 123,
   "id": "a25997e1",
   "metadata": {},
   "outputs": [
    {
     "name": "stderr",
     "output_type": "stream",
     "text": [
      "100%|██████████| 500/500 [00:18<00:00, 27.19it/s]\n"
     ]
    }
   ],
   "source": [
    "# mean predictors\n",
    "mean_scores = []\n",
    "for i in tqdm.tqdm(range(LOOKS)):\n",
    "    x, y = ds[indices[i]]\n",
    "    preds = np.ones(y.shape) * np.mean(x[-1])\n",
    "    score = get_mssim(preds, y, average=False)\n",
    "    mean_scores.append(score)"
   ]
  },
  {
   "cell_type": "code",
   "execution_count": 124,
   "id": "c4e7a928",
   "metadata": {},
   "outputs": [],
   "source": [
    "mean_scores = np.array(mean_scores)\n",
    "mean_step_means = np.mean(mean_scores, axis=0)\n",
    "mean_step_stds = np.std(mean_scores, axis=0)"
   ]
  },
  {
   "cell_type": "code",
   "execution_count": 121,
   "id": "20744b9c",
   "metadata": {},
   "outputs": [
    {
     "data": {
      "text/plain": [
       "0.6042381940335035"
      ]
     },
     "execution_count": 121,
     "metadata": {},
     "output_type": "execute_result"
    }
   ],
   "source": [
    "np.mean(mean_scores)"
   ]
  },
  {
   "cell_type": "code",
   "execution_count": 122,
   "id": "c4b3a803",
   "metadata": {},
   "outputs": [
    {
     "data": {
      "text/plain": [
       "array([0.5947131 , 0.59389063, 0.59395108, 0.59346445, 0.59351096,\n",
       "       0.5938146 , 0.59496706, 0.59593715, 0.59676564, 0.59817109,\n",
       "       0.5988576 , 0.59975199, 0.60089719, 0.6023338 , 0.60425414,\n",
       "       0.60672175, 0.60891842, 0.61171989, 0.61429426, 0.61655514,\n",
       "       0.61863497, 0.62109328, 0.62344837, 0.62505008])"
      ]
     },
     "execution_count": 122,
     "metadata": {},
     "output_type": "execute_result"
    }
   ],
   "source": [
    "mean_step_means"
   ]
  },
  {
   "cell_type": "code",
   "execution_count": null,
   "id": "c605687c",
   "metadata": {},
   "outputs": [],
   "source": []
  },
  {
   "cell_type": "code",
   "execution_count": 59,
   "id": "93530794",
   "metadata": {},
   "outputs": [
    {
     "name": "stderr",
     "output_type": "stream",
     "text": [
      "100%|██████████| 500/500 [00:41<00:00, 12.04it/s]\n"
     ]
    }
   ],
   "source": [
    "# vanilla\n",
    "vanilla_optical_flow_scores = []\n",
    "for i in tqdm.tqdm(range(LOOKS)):\n",
    "    x, y = ds[indices[i]]\n",
    "    prev = preprocess(x[-2])\n",
    "    cur = preprocess(x[-1])\n",
    "    with torch.no_grad():\n",
    "        _, flow = model(prev, cur, iters=20, test_mode=True)\n",
    "    flow = np.squeeze(flow.cpu().numpy().transpose(0, 2, 3, 1))\n",
    "    cur = x[-1].astype(np.float32)\n",
    "    preds = np.zeros(y.shape, dtype=np.float32)\n",
    "    for j in range(24):\n",
    "        cur = warp_flow(cur, flow)\n",
    "        preds[j] = cur[32:96,32:96]\n",
    "    score = get_mssim(preds, y, average=False)\n",
    "    vanilla_optical_flow_scores.append(score)"
   ]
  },
  {
   "cell_type": "code",
   "execution_count": 55,
   "id": "8933e00a",
   "metadata": {},
   "outputs": [],
   "source": [
    "vanilla_optical_flow_scores = np.array(vanilla_optical_flow_scores)\n",
    "vanilla_step_means = np.mean(vanilla_optical_flow_scores, axis=0)\n",
    "vanilla_step_stds = np.std(vanilla_optical_flow_scores, axis=0)"
   ]
  },
  {
   "cell_type": "code",
   "execution_count": 42,
   "id": "4c96a409",
   "metadata": {},
   "outputs": [
    {
     "data": {
      "text/plain": [
       "0.6386402233590682"
      ]
     },
     "execution_count": 42,
     "metadata": {},
     "output_type": "execute_result"
    }
   ],
   "source": [
    "np.mean(vanilla_optical_flow_scores)"
   ]
  },
  {
   "cell_type": "code",
   "execution_count": 39,
   "id": "d2a31d1c",
   "metadata": {},
   "outputs": [
    {
     "data": {
      "text/plain": [
       "array([0.93150687, 0.86280021, 0.80864567, 0.76393273, 0.72793967,\n",
       "       0.69758633, 0.67205258, 0.65119782, 0.63354609, 0.61880442,\n",
       "       0.60614236, 0.59507586, 0.58517213, 0.57868533, 0.57502454,\n",
       "       0.56991001, 0.56489254, 0.5620604 , 0.55919285, 0.55611143,\n",
       "       0.55485261, 0.55275859, 0.55078014, 0.54869421])"
      ]
     },
     "execution_count": 39,
     "metadata": {},
     "output_type": "execute_result"
    }
   ],
   "source": [
    "vanilla_step_means"
   ]
  },
  {
   "cell_type": "code",
   "execution_count": 46,
   "id": "1690f546",
   "metadata": {},
   "outputs": [
    {
     "data": {
      "text/plain": [
       "array([0.06990363, 0.11027508, 0.14625198, 0.18081303, 0.21217706,\n",
       "       0.23953782, 0.26932449, 0.29177413, 0.31161213, 0.33168799,\n",
       "       0.34956369, 0.36461794, 0.3787719 , 0.38385811, 0.38496046,\n",
       "       0.39523912, 0.4041423 , 0.40645506, 0.40948762, 0.41461214,\n",
       "       0.41404818, 0.41664661, 0.42109776, 0.42485556])"
      ]
     },
     "execution_count": 46,
     "metadata": {},
     "output_type": "execute_result"
    }
   ],
   "source": [
    "# variance\n",
    "vanilla_step_stds / vanilla_step_means"
   ]
  },
  {
   "cell_type": "code",
   "execution_count": 40,
   "id": "ad2bdc92",
   "metadata": {},
   "outputs": [
    {
     "data": {
      "text/plain": [
       "[<matplotlib.lines.Line2D at 0x7fa350134ac0>]"
      ]
     },
     "execution_count": 40,
     "metadata": {},
     "output_type": "execute_result"
    },
    {
     "data": {
      "image/png": "[encoded data removed]",
      "text/plain": [
       "<Figure size 432x288 with 1 Axes>"
      ]
     },
     "metadata": {
      "needs_background": "light"
     },
     "output_type": "display_data"
    }
   ],
   "source": [
    "plt.plot(range(24), vanilla_step_means)"
   ]
  },
  {
   "cell_type": "code",
   "execution_count": null,
   "id": "a6920432",
   "metadata": {},
   "outputs": [],
   "source": []
  },
  {
   "cell_type": "code",
   "execution_count": 62,
   "id": "c16b403e",
   "metadata": {},
   "outputs": [
    {
     "name": "stderr",
     "output_type": "stream",
     "text": [
      "100%|██████████| 500/500 [00:19<00:00, 25.87it/s]\n"
     ]
    }
   ],
   "source": [
    "# classical\n",
    "params = {\n",
    "    'iterations': 1,\n",
    "      'levels': 10,\n",
    "      'poly_n': 2,\n",
    "      'poly_sigma': 1.3358462139572997,\n",
    "      'pyr_scale': 0.13581496550086464,\n",
    "      'winsize': 3\n",
    "}\n",
    "classical_optical_flow_scores = []\n",
    "for i in tqdm.tqdm(range(LOOKS)):\n",
    "    x, y = ds[indices[i]]\n",
    "    flow = cv2.calcOpticalFlowFarneback(\n",
    "        prev=x[-2],\n",
    "        next=x[-1],\n",
    "        flow=None,\n",
    "        **params,\n",
    "        flags=cv2.OPTFLOW_FARNEBACK_GAUSSIAN,\n",
    "    )\n",
    "    cur = x[-1].astype(np.float32)\n",
    "    preds = np.zeros(y.shape, dtype=np.float32)\n",
    "    for j in range(24):\n",
    "        cur = warp_flow(cur, flow)\n",
    "        cur = cv2.blur(cur, (3, 3))\n",
    "        preds[j] = cur[32:96,32:96]\n",
    "    score = get_mssim(preds, y, average=False)\n",
    "    classical_optical_flow_scores.append(score)"
   ]
  },
  {
   "cell_type": "code",
   "execution_count": 63,
   "id": "73b12882",
   "metadata": {},
   "outputs": [],
   "source": [
    "classical_optical_flow_scores = np.array(classical_optical_flow_scores)"
   ]
  },
  {
   "cell_type": "code",
   "execution_count": 66,
   "id": "dd8d091a",
   "metadata": {},
   "outputs": [],
   "source": [
    "classical_step_means = np.mean(classical_optical_flow_scores, axis=0)\n",
    "classical_step_stds = np.std(classical_optical_flow_scores, axis=0)"
   ]
  },
  {
   "cell_type": "code",
   "execution_count": 65,
   "id": "81bd1e0a",
   "metadata": {},
   "outputs": [
    {
     "data": {
      "text/plain": [
       "array([0.89724101, 0.83654741, 0.79556637, 0.76562703, 0.74292023,\n",
       "       0.72516605, 0.71111752, 0.69969728, 0.68989919, 0.68185381,\n",
       "       0.67520599, 0.66936791, 0.66448703, 0.66054242, 0.65703949,\n",
       "       0.65408842, 0.65171868, 0.6504889 , 0.64866001, 0.64693765,\n",
       "       0.64587313, 0.6450839 , 0.64387597, 0.64268631])"
      ]
     },
     "execution_count": 65,
     "metadata": {},
     "output_type": "execute_result"
    }
   ],
   "source": [
    "classical_step_means"
   ]
  },
  {
   "cell_type": "code",
   "execution_count": 68,
   "id": "3b3db92e",
   "metadata": {},
   "outputs": [
    {
     "data": {
      "text/plain": [
       "array([0.08796528, 0.13119763, 0.16052233, 0.1831536 , 0.20072331,\n",
       "       0.21457233, 0.2290726 , 0.23812938, 0.24729417, 0.25742963,\n",
       "       0.2647005 , 0.27214644, 0.27916121, 0.28418854, 0.29036532,\n",
       "       0.2972955 , 0.30066129, 0.30160546, 0.30589016, 0.30825234,\n",
       "       0.30944434, 0.30954027, 0.31125873, 0.31305329])"
      ]
     },
     "execution_count": 68,
     "metadata": {},
     "output_type": "execute_result"
    }
   ],
   "source": [
    "# variance\n",
    "classical_step_stds / classical_step_means"
   ]
  },
  {
   "cell_type": "code",
   "execution_count": 69,
   "id": "3e2c1391",
   "metadata": {},
   "outputs": [
    {
     "data": {
      "text/plain": [
       "[<matplotlib.lines.Line2D at 0x7fa1d0812b20>]"
      ]
     },
     "execution_count": 69,
     "metadata": {},
     "output_type": "execute_result"
    },
    {
     "data": {
      "image/png": "[encoded data removed]",
      "text/plain": [
       "<Figure size 432x288 with 1 Axes>"
      ]
     },
     "metadata": {
      "needs_background": "light"
     },
     "output_type": "display_data"
    }
   ],
   "source": [
    "plt.plot(range(24), classical_step_means)"
   ]
  },
  {
   "cell_type": "code",
   "execution_count": null,
   "id": "e4cd98dc",
   "metadata": {},
   "outputs": [],
   "source": []
  },
  {
   "cell_type": "code",
   "execution_count": 78,
   "id": "61f0cfba",
   "metadata": {},
   "outputs": [
    {
     "name": "stderr",
     "output_type": "stream",
     "text": [
      "100%|██████████| 500/500 [00:43<00:00, 11.60it/s]\n"
     ]
    }
   ],
   "source": [
    "# combine opt flow with classical\n",
    "combined_optical_flow_scores = []\n",
    "forecast = 3\n",
    "for i in tqdm.tqdm(range(LOOKS)):\n",
    "    x, y = ds[indices[i]]\n",
    "    prev = preprocess(x[-2])\n",
    "    cur = preprocess(x[-1])\n",
    "    with torch.no_grad():\n",
    "        _, flow = model(prev, cur, iters=20, test_mode=True)\n",
    "    flow = np.squeeze(flow.cpu().numpy().transpose(0, 2, 3, 1))\n",
    "    cur = x[-1].astype(np.float32)\n",
    "    preds = np.zeros(y.shape, dtype=np.float32)\n",
    "    for j in range(forecast):\n",
    "        cur = warp_flow(cur, flow)\n",
    "        preds[j] = cur[32:96,32:96]\n",
    "    remaining = 24 - forecast\n",
    "    # mix with classical opt flow\n",
    "    if remaining > 0:\n",
    "        flow = cv2.calcOpticalFlowFarneback(\n",
    "            prev=x[-2],\n",
    "            next=x[-1],\n",
    "            flow=None,\n",
    "            **params,\n",
    "            flags=cv2.OPTFLOW_FARNEBACK_GAUSSIAN,\n",
    "        )\n",
    "        cur = x[-1].astype(np.float32)\n",
    "        for j in range(24):\n",
    "            cur = warp_flow(cur, flow)\n",
    "            cur = cv2.blur(cur, (3, 3))\n",
    "            if j < forecast:\n",
    "                continue\n",
    "            preds[j] = cur[32:96,32:96]\n",
    "\n",
    "    score = get_mssim(preds, y, average=False)\n",
    "    combined_optical_flow_scores.append(score)\n",
    "    "
   ]
  },
  {
   "cell_type": "code",
   "execution_count": 79,
   "id": "aa91e21a",
   "metadata": {},
   "outputs": [],
   "source": [
    "combined_optical_flow_scores = np.array(combined_optical_flow_scores)\n",
    "combined_step_means = np.mean(combined_optical_flow_scores, axis=0)\n",
    "combined_step_stds = np.std(combined_optical_flow_scores, axis=0)"
   ]
  },
  {
   "cell_type": "code",
   "execution_count": 80,
   "id": "100f9872",
   "metadata": {},
   "outputs": [
    {
     "data": {
      "text/plain": [
       "0.6989704031795263"
      ]
     },
     "execution_count": 80,
     "metadata": {},
     "output_type": "execute_result"
    }
   ],
   "source": [
    "np.mean(combined_optical_flow_scores)"
   ]
  },
  {
   "cell_type": "code",
   "execution_count": 81,
   "id": "fc2dd3d3",
   "metadata": {},
   "outputs": [
    {
     "data": {
      "text/plain": [
       "array([0.93150687, 0.86280021, 0.80864567, 0.76562703, 0.74292023,\n",
       "       0.72516605, 0.71111752, 0.69969728, 0.68989919, 0.68185381,\n",
       "       0.67520599, 0.66936791, 0.66448703, 0.66054242, 0.65703949,\n",
       "       0.65408842, 0.65171868, 0.6504889 , 0.64866001, 0.64693765,\n",
       "       0.64587313, 0.6450839 , 0.64387597, 0.64268631])"
      ]
     },
     "execution_count": 81,
     "metadata": {},
     "output_type": "execute_result"
    }
   ],
   "source": [
    "combined_step_means"
   ]
  },
  {
   "cell_type": "code",
   "execution_count": 82,
   "id": "9047d7b4",
   "metadata": {},
   "outputs": [
    {
     "data": {
      "text/plain": [
       "array([0.06990363, 0.11027508, 0.14625198, 0.1831536 , 0.20072331,\n",
       "       0.21457233, 0.2290726 , 0.23812938, 0.24729417, 0.25742963,\n",
       "       0.2647005 , 0.27214644, 0.27916121, 0.28418854, 0.29036532,\n",
       "       0.2972955 , 0.30066129, 0.30160546, 0.30589016, 0.30825234,\n",
       "       0.30944434, 0.30954027, 0.31125873, 0.31305329])"
      ]
     },
     "execution_count": 82,
     "metadata": {},
     "output_type": "execute_result"
    }
   ],
   "source": [
    "# variance\n",
    "combined_step_stds / combined_step_means"
   ]
  },
  {
   "cell_type": "code",
   "execution_count": 83,
   "id": "7d7eaf6e",
   "metadata": {},
   "outputs": [
    {
     "data": {
      "text/plain": [
       "[<matplotlib.lines.Line2D at 0x7fa1d07f2190>]"
      ]
     },
     "execution_count": 83,
     "metadata": {},
     "output_type": "execute_result"
    },
    {
     "data": {
      "image/png": "[encoded data removed]",
      "text/plain": [
       "<Figure size 432x288 with 1 Axes>"
      ]
     },
     "metadata": {
      "needs_background": "light"
     },
     "output_type": "display_data"
    }
   ],
   "source": [
    "plt.plot(range(24), combined_step_means)"
   ]
  },
  {
   "cell_type": "code",
   "execution_count": null,
   "id": "c26a958a",
   "metadata": {},
   "outputs": [],
   "source": []
  },
  {
   "cell_type": "code",
   "execution_count": 174,
   "id": "21244c54",
   "metadata": {},
   "outputs": [],
   "source": [
    "# chained flow\n",
    "optical_flow_scores = []\n",
    "pbar = tqdm.tqdm(range(LOOKS))\n",
    "for i in pbar:\n",
    "    x, y = ds[indices[i]]\n",
    "    prev = preprocess(x[-2])\n",
    "    cur = preprocess(x[-1])\n",
    "    cur_img = x[-1].astype(np.float32)\n",
    "    preds = np.zeros(y.shape, dtype=np.float32)\n",
    "    for j in range(24):\n",
    "        with torch.no_grad():\n",
    "            _, flow = model(prev, cur, iters=20, test_mode=True)\n",
    "        flow = np.squeeze(flow.cpu().numpy().transpose(0, 2, 3, 1))\n",
    "        cur_img = warp_flow(cur_img, flow)\n",
    "        preds[j] = cur_img[32:96,32:96]\n",
    "        prev = cur\n",
    "        cur = preprocess(cur_img)\n",
    "    \n",
    "    score = get_mssim(preds, y)\n",
    "    optical_flow_scores.append(score)\n",
    "    \n",
    "    avg = round(np.mean(optical_flow_scores), 4)\n",
    "    pbar.set_description(f'Avg: {avg}')\n",
    "    "
   ]
  },
  {
   "cell_type": "code",
   "execution_count": 80,
   "id": "d9c4a5f6",
   "metadata": {},
   "outputs": [
    {
     "data": {
      "text/plain": [
       "0.6386402350664139"
      ]
     },
     "execution_count": 80,
     "metadata": {},
     "output_type": "execute_result"
    }
   ],
   "source": [
    "np.mean(optical_flow_scores)"
   ]
  },
  {
   "cell_type": "code",
   "execution_count": null,
   "id": "041f3acf",
   "metadata": {},
   "outputs": [],
   "source": []
  },
  {
   "cell_type": "code",
   "execution_count": 89,
   "id": "b455c97f",
   "metadata": {},
   "outputs": [
    {
     "name": "stderr",
     "output_type": "stream",
     "text": [
      "100%|██████████| 500/500 [00:42<00:00, 11.71it/s]\n"
     ]
    }
   ],
   "source": [
    "# vanilla, multiply\n",
    "vanilla_mult_optical_flow_scores = []\n",
    "for i in tqdm.tqdm(range(LOOKS)):\n",
    "    x, y = ds[indices[i]]\n",
    "    prev = preprocess(x[-2])\n",
    "    cur = preprocess(x[-1])\n",
    "    with torch.no_grad():\n",
    "        _, flow = model(prev, cur, iters=20, test_mode=True)\n",
    "    flow = np.squeeze(flow.cpu().numpy().transpose(0, 2, 3, 1))\n",
    "    cur = x[-1].astype(np.float32)\n",
    "    preds = np.zeros(y.shape, dtype=np.float32)\n",
    "    for j in range(24):\n",
    "        nxt = warp_flow(cur, flow*(j+1))\n",
    "        preds[j] = nxt[32:96,32:96]\n",
    "    score = get_mssim(preds, y, average=False)\n",
    "    vanilla_mult_optical_flow_scores.append(score)"
   ]
  },
  {
   "cell_type": "code",
   "execution_count": 90,
   "id": "2b4c6065",
   "metadata": {},
   "outputs": [],
   "source": [
    "vanilla_mult_optical_flow_scores = np.array(vanilla_mult_optical_flow_scores)\n",
    "vanilla_mult_step_means = np.mean(vanilla_mult_optical_flow_scores, axis=0)\n",
    "vanilla_mult_step_stds = np.std(vanilla_mult_optical_flow_scores, axis=0)"
   ]
  },
  {
   "cell_type": "code",
   "execution_count": 91,
   "id": "84df5956",
   "metadata": {},
   "outputs": [
    {
     "data": {
      "text/plain": [
       "0.6129028458694616"
      ]
     },
     "execution_count": 91,
     "metadata": {},
     "output_type": "execute_result"
    }
   ],
   "source": [
    "np.mean(vanilla_mult_optical_flow_scores)"
   ]
  },
  {
   "cell_type": "code",
   "execution_count": 92,
   "id": "439a1b5f",
   "metadata": {},
   "outputs": [
    {
     "data": {
      "text/plain": [
       "array([0.93150687, 0.85983066, 0.80188046, 0.75364492, 0.71452081,\n",
       "       0.68050266, 0.65218617, 0.62966314, 0.60976299, 0.5926115 ,\n",
       "       0.57893258, 0.56595396, 0.55510661, 0.54724198, 0.5416337 ,\n",
       "       0.53522374, 0.52987964, 0.52597556, 0.52278911, 0.51944775,\n",
       "       0.51824512, 0.51632288, 0.51432736, 0.51247813])"
      ]
     },
     "execution_count": 92,
     "metadata": {},
     "output_type": "execute_result"
    }
   ],
   "source": [
    "vanilla_mult_step_means"
   ]
  },
  {
   "cell_type": "code",
   "execution_count": null,
   "id": "bdc2fece",
   "metadata": {},
   "outputs": [],
   "source": []
  },
  {
   "cell_type": "code",
   "execution_count": 51,
   "id": "4e7c92c5",
   "metadata": {},
   "outputs": [
    {
     "name": "stderr",
     "output_type": "stream",
     "text": [
      "100%|██████████| 500/500 [04:32<00:00,  1.84it/s]\n"
     ]
    }
   ],
   "source": [
    "# flow on top of flow?\n",
    "optical_flow_scores = []\n",
    "for i in tqdm.tqdm(range(LOOKS)):\n",
    "    x, y = ds[indices[i]]\n",
    "    flow_up = None\n",
    "    with torch.no_grad():\n",
    "        for j in range(0, 11):\n",
    "            prev = preprocess(x[j])\n",
    "            cur = preprocess(x[j + 1])\n",
    "            flow_up, flow = model(prev, cur, iters=20, test_mode=True, flow_init=flow_up)\n",
    "    flow = np.squeeze(flow.cpu().numpy().transpose(0, 2, 3, 1))\n",
    "    cur = x[-1].astype(np.float32)\n",
    "    preds = np.zeros(y.shape, dtype=np.float32)\n",
    "    for j in range(24):\n",
    "        nxt = warp_flow(cur, flow*(j+1))\n",
    "        preds[j] = nxt[32:96,32:96]\n",
    "    score = get_mssim(preds, y)\n",
    "    optical_flow_scores.append(score)"
   ]
  },
  {
   "cell_type": "code",
   "execution_count": 52,
   "id": "d2ecf882",
   "metadata": {},
   "outputs": [
    {
     "data": {
      "text/plain": [
       "0.6070924097299576"
      ]
     },
     "execution_count": 52,
     "metadata": {},
     "output_type": "execute_result"
    }
   ],
   "source": [
    "np.mean(optical_flow_scores)"
   ]
  },
  {
   "cell_type": "code",
   "execution_count": null,
   "id": "b590bfbb",
   "metadata": {},
   "outputs": [],
   "source": []
  },
  {
   "cell_type": "code",
   "execution_count": 83,
   "id": "bd8eb749",
   "metadata": {},
   "outputs": [
    {
     "data": {
      "text/plain": [
       "<matplotlib.image.AxesImage at 0x7feb76abd640>"
      ]
     },
     "execution_count": 83,
     "metadata": {},
     "output_type": "execute_result"
    },
    {
     "data": {
      "image/png": "[encoded data removed]",
      "text/plain": [
       "<Figure size 432x288 with 1 Axes>"
      ]
     },
     "metadata": {
      "needs_background": "light"
     },
     "output_type": "display_data"
    }
   ],
   "source": [
    "plt.imshow(preds[14], cmap='gray')"
   ]
  },
  {
   "cell_type": "code",
   "execution_count": 84,
   "id": "63b8d1d6",
   "metadata": {},
   "outputs": [
    {
     "data": {
      "text/plain": [
       "<matplotlib.image.AxesImage at 0x7feb76a28fd0>"
      ]
     },
     "execution_count": 84,
     "metadata": {},
     "output_type": "execute_result"
    },
    {
     "data": {
      "image/png": "[encoded data removed]",
      "text/plain": [
       "<Figure size 432x288 with 1 Axes>"
      ]
     },
     "metadata": {
      "needs_background": "light"
     },
     "output_type": "display_data"
    }
   ],
   "source": [
    "plt.imshow(y[14], cmap='gray')"
   ]
  },
  {
   "cell_type": "code",
   "execution_count": null,
   "id": "00bfebf6",
   "metadata": {},
   "outputs": [],
   "source": []
  },
  {
   "cell_type": "code",
   "execution_count": 68,
   "id": "7d33e257",
   "metadata": {},
   "outputs": [
    {
     "data": {
      "text/plain": [
       "0.1377885341644287"
      ]
     },
     "execution_count": 68,
     "metadata": {},
     "output_type": "execute_result"
    }
   ],
   "source": [
    "get_mssim(preds_classical[sl], y[sl])"
   ]
  },
  {
   "cell_type": "code",
   "execution_count": 69,
   "id": "76ed4629",
   "metadata": {},
   "outputs": [
    {
     "data": {
      "text/plain": [
       "0.13868707418441772"
      ]
     },
     "execution_count": 69,
     "metadata": {},
     "output_type": "execute_result"
    }
   ],
   "source": [
    "get_mssim(preds_classical_blur[sl], y[sl])"
   ]
  },
  {
   "cell_type": "code",
   "execution_count": null,
   "id": "9bf13fd0",
   "metadata": {},
   "outputs": [],
   "source": []
  },
  {
   "cell_type": "code",
   "execution_count": null,
   "id": "e8ff0e2b",
   "metadata": {},
   "outputs": [],
   "source": []
  }
 ],
 "metadata": {
  "kernelspec": {
   "display_name": "climatehack",
   "language": "python",
   "name": "climatehack"
  },
  "language_info": {
   "codemirror_mode": {
    "name": "ipython",
    "version": 3
   },
   "file_extension": ".py",
   "mimetype": "text/x-python",
   "name": "python",
   "nbconvert_exporter": "python",
   "pygments_lexer": "ipython3",
   "version": "3.9.7"
  }
 },
 "nbformat": 4,
 "nbformat_minor": 5
}
