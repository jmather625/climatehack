{
 "cells": [
  {
   "cell_type": "code",
   "execution_count": 2,
   "id": "fad503ca",
   "metadata": {},
   "outputs": [],
   "source": [
    "%load_ext autoreload\n",
    "%autoreload 2"
   ]
  },
  {
   "cell_type": "code",
   "execution_count": 3,
   "id": "ad13f943",
   "metadata": {},
   "outputs": [],
   "source": [
    "import torch\n",
    "import torch.nn as nn\n",
    "from torchvision import transforms\n",
    "import numpy as np\n",
    "import tqdm\n",
    "import matplotlib.pyplot as plt\n",
    "import pathlib\n",
    "import cv2\n",
    "from argparse import Namespace\n",
    "\n",
    "import common.loss_utils as loss_utils\n",
    "import sys\n",
    "sys.path.append(\"../RAFT/core\")\n",
    "\n",
    "from raft import RAFT\n",
    "from utils.utils import InputPadder"
   ]
  },
  {
   "cell_type": "code",
   "execution_count": 4,
   "id": "4fba529d",
   "metadata": {},
   "outputs": [],
   "source": [
    "args = Namespace(\n",
    "    model='RAFT/models/raft-kitti.pth',\n",
    "    small=False,\n",
    "    mixed_precision=False,\n",
    "    alternate_corr=False,\n",
    ")"
   ]
  },
  {
   "cell_type": "code",
   "execution_count": 5,
   "id": "1d5e8aa0",
   "metadata": {},
   "outputs": [],
   "source": [
    "model = torch.nn.DataParallel(RAFT(args))"
   ]
  },
  {
   "cell_type": "code",
   "execution_count": 6,
   "id": "20461279",
   "metadata": {},
   "outputs": [
    {
     "data": {
      "text/plain": [
       "device(type='cuda')"
      ]
     },
     "execution_count": 6,
     "metadata": {},
     "output_type": "execute_result"
    }
   ],
   "source": [
    "DEVICE = torch.device('cuda')\n",
    "DEVICE"
   ]
  },
  {
   "cell_type": "code",
   "execution_count": 10,
   "id": "769d000c",
   "metadata": {},
   "outputs": [
    {
     "data": {
      "text/plain": [
       "<All keys matched successfully>"
      ]
     },
     "execution_count": 10,
     "metadata": {},
     "output_type": "execute_result"
    }
   ],
   "source": [
    "model.load_state_dict(torch.load(args.model))"
   ]
  },
  {
   "cell_type": "code",
   "execution_count": 11,
   "id": "445e9c9d",
   "metadata": {},
   "outputs": [],
   "source": [
    "model = model.module\n",
    "model.to(DEVICE)\n",
    "model = model.eval()"
   ]
  },
  {
   "cell_type": "code",
   "execution_count": 7,
   "id": "d3f48d70",
   "metadata": {},
   "outputs": [],
   "source": [
    "p = pathlib.Path('data/data_random_300.npz')\n",
    "f = np.load(p)\n",
    "times = f['times']\n",
    "data = f['data']"
   ]
  },
  {
   "cell_type": "code",
   "execution_count": 8,
   "id": "05000cb3",
   "metadata": {},
   "outputs": [
    {
     "data": {
      "text/plain": [
       "((18354,), (18354, 325, 400))"
      ]
     },
     "execution_count": 8,
     "metadata": {},
     "output_type": "execute_result"
    }
   ],
   "source": [
    "times.shape, data.shape"
   ]
  },
  {
   "cell_type": "code",
   "execution_count": 9,
   "id": "4314a6f1",
   "metadata": {},
   "outputs": [],
   "source": [
    "def check_times(tstart, tend):\n",
    "    # check_times(times[0], times[35])\n",
    "    return int((tend - tstart) / np.timedelta64(1, 'm')) == 175"
   ]
  },
  {
   "cell_type": "code",
   "execution_count": 10,
   "id": "00fcfb67",
   "metadata": {},
   "outputs": [],
   "source": [
    "\n",
    "class DataFetcher:\n",
    "    def __init__(self, times, data, random_state=7):\n",
    "        self.times = times\n",
    "        self.data = data\n",
    "        self.generator = np.random.RandomState(random_state)\n",
    "\n",
    "    def _get_crop(self, input_slice, target_slice):\n",
    "        # roughly over the mainland UK\n",
    "#         rand_x = self.generator.randint(0, input_slice.shape[2] - 128)\n",
    "#         rand_y = self.generator.randint(0, input_slice.shape[1] - 128)\n",
    "        rand_x = (input_slice.shape[2] - 128) // 2\n",
    "        rand_y = (input_slice.shape[1] - 128) // 2\n",
    "\n",
    "        # make a data selection\n",
    "        in_crop = input_slice[:, rand_y : rand_y + 128, rand_x : rand_x + 128]\n",
    "        target_crop = target_slice[\n",
    "            :, rand_y + 32 : rand_y + 96, rand_x + 32 : rand_x + 96\n",
    "        ]\n",
    "\n",
    "        return in_crop, target_crop\n",
    "\n",
    "    def __getitem__(self, index):\n",
    "        tend = self.times[index + 35]\n",
    "        tstart = self.times[index]\n",
    "        if not check_times(tstart, tend):\n",
    "            return self.__getitem__((index + 35) % len(self))\n",
    "        src = data[index:index+12]\n",
    "        trg = data[index+12:index+36]\n",
    "        x, y = self._get_crop(src, trg)\n",
    "        return x, y\n",
    "\n",
    "    def __len__(self):\n",
    "        return len(self.times) - 35\n",
    "\n",
    "ds = DataFetcher(times, data)"
   ]
  },
  {
   "cell_type": "code",
   "execution_count": 11,
   "id": "8f6b7e9a",
   "metadata": {},
   "outputs": [],
   "source": [
    "np.random.seed(7)\n",
    "indices = np.arange(len(ds))\n",
    "np.random.shuffle(indices)"
   ]
  },
  {
   "cell_type": "code",
   "execution_count": null,
   "id": "7118723c",
   "metadata": {},
   "outputs": [],
   "source": []
  },
  {
   "cell_type": "code",
   "execution_count": 12,
   "id": "18156e1a",
   "metadata": {},
   "outputs": [],
   "source": [
    "x, y = ds[0]"
   ]
  },
  {
   "cell_type": "code",
   "execution_count": 13,
   "id": "8ad1ea9a",
   "metadata": {},
   "outputs": [
    {
     "data": {
      "text/plain": [
       "((12, 128, 128), (24, 64, 64))"
      ]
     },
     "execution_count": 13,
     "metadata": {},
     "output_type": "execute_result"
    }
   ],
   "source": [
    "x.shape, y.shape"
   ]
  },
  {
   "cell_type": "code",
   "execution_count": 14,
   "id": "c4ca2daf",
   "metadata": {},
   "outputs": [
    {
     "data": {
      "text/plain": [
       "<matplotlib.image.AxesImage at 0x7f1cfe30b070>"
      ]
     },
     "execution_count": 14,
     "metadata": {},
     "output_type": "execute_result"
    },
    {
     "data": {
      "image/png": "[encoded data removed]",
      "text/plain": [
       "<Figure size 432x288 with 1 Axes>"
      ]
     },
     "metadata": {
      "needs_background": "light"
     },
     "output_type": "display_data"
    }
   ],
   "source": [
    "plt.imshow(x[0], cmap='gray')"
   ]
  },
  {
   "cell_type": "code",
   "execution_count": 15,
   "id": "4941c25d",
   "metadata": {},
   "outputs": [
    {
     "data": {
      "text/plain": [
       "<matplotlib.image.AxesImage at 0x7f1cfe259eb0>"
      ]
     },
     "execution_count": 15,
     "metadata": {},
     "output_type": "execute_result"
    },
    {
     "data": {
      "image/png": "[encoded data removed]",
      "text/plain": [
       "<Figure size 432x288 with 1 Axes>"
      ]
     },
     "metadata": {
      "needs_background": "light"
     },
     "output_type": "display_data"
    }
   ],
   "source": [
    "plt.imshow(y[0], cmap='gray')"
   ]
  },
  {
   "cell_type": "code",
   "execution_count": null,
   "id": "c12c46c0",
   "metadata": {},
   "outputs": [],
   "source": []
  },
  {
   "cell_type": "code",
   "execution_count": 16,
   "id": "dae94911",
   "metadata": {},
   "outputs": [],
   "source": [
    "def warp_flow(img, flow):\n",
    "    h, w = flow.shape[:2]\n",
    "    flow = -flow\n",
    "    flow[:,:,0] += np.arange(w)\n",
    "    flow[:,:,1] += np.arange(h)[:,np.newaxis]\n",
    "    res = cv2.remap(img, flow, None, cv2.INTER_LINEAR, borderMode=cv2.BORDER_REPLICATE)\n",
    "    return res\n",
    "\n",
    "def get_mssim(y, x, average=True):\n",
    "    if len(y.shape) == 2:\n",
    "        # we need to specify a number of channels. This sets it to 1 and calls the function again\n",
    "        return get_mssim(np.expand_dims(y, 0), np.expand_dims(x, 0))\n",
    "    if len(y.shape) == 4:\n",
    "        y = y.reshape(-1, y.shape[2], y.shape[3])\n",
    "        x = x.reshape(-1, x.shape[2], x.shape[3])\n",
    "    assert len(y.shape) == 3\n",
    "    if average:\n",
    "        mssim_loss = loss_utils.MS_SSIMLoss(data_range=1023, channels=y.shape[0])\n",
    "        yd = np.expand_dims(y, 0) # /255 * (MAX - MIN) + MIN\n",
    "        xd = np.expand_dims(x, 0) # /255 * (MAX - MIN) + MIN\n",
    "        return 1.0 - mssim_loss(\n",
    "            torch.Tensor(yd),\n",
    "            torch.Tensor(xd),\n",
    "        ).item()\n",
    "    else:\n",
    "        ret = []\n",
    "        for i in range(y.shape[0]):\n",
    "            score = get_mssim(y[i], x[i])\n",
    "            ret.append(score)\n",
    "        return ret"
   ]
  },
  {
   "cell_type": "code",
   "execution_count": 17,
   "id": "02d7db12",
   "metadata": {},
   "outputs": [],
   "source": [
    "LOOKS = 500\n"
   ]
  },
  {
   "cell_type": "code",
   "execution_count": 18,
   "id": "6c0f37f8",
   "metadata": {},
   "outputs": [],
   "source": [
    "def preprocess(x):\n",
    "    # raft requires me to have data in [0, 255]\n",
    "    x = x.astype(np.float32)*255.0/1023.0\n",
    "    # add an RGB channel\n",
    "    x = np.expand_dims(x, axis=0)\n",
    "    x = np.tile(x, (3, 1, 1))\n",
    "    # add a batch dimension\n",
    "    x = np.expand_dims(x, axis=0)\n",
    "    return torch.Tensor(x).float().to(DEVICE)"
   ]
  },
  {
   "cell_type": "code",
   "execution_count": null,
   "id": "8cce5553",
   "metadata": {},
   "outputs": [],
   "source": []
  },
  {
   "cell_type": "code",
   "execution_count": 123,
   "id": "a25997e1",
   "metadata": {},
   "outputs": [
    {
     "name": "stderr",
     "output_type": "stream",
     "text": [
      "100%|██████████| 500/500 [00:18<00:00, 27.19it/s]\n"
     ]
    }
   ],
   "source": [
    "# mean predictors\n",
    "mean_scores = []\n",
    "for i in tqdm.tqdm(range(LOOKS)):\n",
    "    x, y = ds[indices[i]]\n",
    "    preds = np.ones(y.shape) * np.mean(x[-1])\n",
    "    score = get_mssim(preds, y, average=False)\n",
    "    mean_scores.append(score)"
   ]
  },
  {
   "cell_type": "code",
   "execution_count": 124,
   "id": "c4e7a928",
   "metadata": {},
   "outputs": [],
   "source": [
    "mean_scores = np.array(mean_scores)\n",
    "mean_step_means = np.mean(mean_scores, axis=0)\n",
    "mean_step_stds = np.std(mean_scores, axis=0)"
   ]
  },
  {
   "cell_type": "code",
   "execution_count": 121,
   "id": "20744b9c",
   "metadata": {},
   "outputs": [
    {
     "data": {
      "text/plain": [
       "0.6042381940335035"
      ]
     },
     "execution_count": 121,
     "metadata": {},
     "output_type": "execute_result"
    }
   ],
   "source": [
    "np.mean(mean_scores)"
   ]
  },
  {
   "cell_type": "code",
   "execution_count": 122,
   "id": "c4b3a803",
   "metadata": {},
   "outputs": [
    {
     "data": {
      "text/plain": [
       "array([0.5947131 , 0.59389063, 0.59395108, 0.59346445, 0.59351096,\n",
       "       0.5938146 , 0.59496706, 0.59593715, 0.59676564, 0.59817109,\n",
       "       0.5988576 , 0.59975199, 0.60089719, 0.6023338 , 0.60425414,\n",
       "       0.60672175, 0.60891842, 0.61171989, 0.61429426, 0.61655514,\n",
       "       0.61863497, 0.62109328, 0.62344837, 0.62505008])"
      ]
     },
     "execution_count": 122,
     "metadata": {},
     "output_type": "execute_result"
    }
   ],
   "source": [
    "mean_step_means"
   ]
  },
  {
   "cell_type": "code",
   "execution_count": null,
   "id": "c605687c",
   "metadata": {},
   "outputs": [],
   "source": []
  },
  {
   "cell_type": "code",
   "execution_count": 34,
   "id": "59604fb7",
   "metadata": {},
   "outputs": [
    {
     "name": "stderr",
     "output_type": "stream",
     "text": [
      "100%|██████████| 500/500 [00:22<00:00, 21.97it/s]\n"
     ]
    }
   ],
   "source": [
    "# combine classical classical\n",
    "combined_optical_flow_scores = []\n",
    "params = {\n",
    "    'iterations': 1,\n",
    "    'levels': 10,\n",
    "    'poly_n': 2,\n",
    "    'poly_sigma': 1.3358462139572997,\n",
    "    'pyr_scale': 0.13581496550086464,\n",
    "    'winsize': 3\n",
    "}\n",
    "test_params = {\n",
    "    'pyr_scale': 0.5,\n",
    "    'levels': 2,\n",
    "    'winsize': 40,\n",
    "    'iterations': 3, \n",
    "    'poly_n': 5,\n",
    "    'poly_sigma': 0.7\n",
    "}\n",
    "forecast = 6\n",
    "for i in tqdm.tqdm(range(LOOKS)):\n",
    "    x, y = ds[indices[i]]\n",
    "    preds = np.zeros(y.shape, dtype=np.float32)\n",
    "    cur_feol = x[-1].astype(np.float32)\n",
    "    cur_beol = x[-1].astype(np.float32)\n",
    "    flow_feol = cv2.calcOpticalFlowFarneback(\n",
    "        prev=x[-2],\n",
    "        next=x[-1],\n",
    "        flow=None,\n",
    "        **test_params,\n",
    "        flags=cv2.OPTFLOW_FARNEBACK_GAUSSIAN,\n",
    "    )\n",
    "    flow_beol = cv2.calcOpticalFlowFarneback(\n",
    "        prev=x[-2],\n",
    "        next=x[-1],\n",
    "        flow=None,\n",
    "        **params,\n",
    "        flags=cv2.OPTFLOW_FARNEBACK_GAUSSIAN,\n",
    "    )\n",
    "    for i in range(forecast):\n",
    "        cur_feol = warp_flow(cur_feol, flow_feol)\n",
    "        cur_beol = warp_flow(cur_beol, flow_beol)\n",
    "        cur_beol = cv2.blur(cur_beol, (3, 3))\n",
    "        preds[i] = cur_feol[32:96,32:96]\n",
    "    for i in range(forecast, 24):\n",
    "        cur_beol = warp_flow(cur_beol, flow_beol)\n",
    "        cur_beol = cv2.blur(cur_beol, (3, 3))\n",
    "        preds[i] = cur_beol[32:96,32:96]\n",
    "\n",
    "    score = get_mssim(preds, y, average=False)\n",
    "    combined_optical_flow_scores.append(score)\n",
    "    "
   ]
  },
  {
   "cell_type": "code",
   "execution_count": 35,
   "id": "ab5bcf0f",
   "metadata": {},
   "outputs": [],
   "source": [
    "combined_optical_flow_scores = np.array(combined_optical_flow_scores)\n",
    "combined_step_means = np.mean(combined_optical_flow_scores, axis=0)\n",
    "combined_step_stds = np.std(combined_optical_flow_scores, axis=0)"
   ]
  },
  {
   "cell_type": "code",
   "execution_count": 30,
   "id": "f3403869",
   "metadata": {},
   "outputs": [
    {
     "data": {
      "text/plain": [
       "0.7035286786009868"
      ]
     },
     "execution_count": 30,
     "metadata": {},
     "output_type": "execute_result"
    }
   ],
   "source": [
    "np.mean(combined_optical_flow_scores)"
   ]
  },
  {
   "cell_type": "code",
   "execution_count": 31,
   "id": "67eb0c47",
   "metadata": {},
   "outputs": [
    {
     "data": {
      "text/plain": [
       "array([0.94732114, 0.8874218 , 0.8358762 , 0.79312605, 0.75684718,\n",
       "       0.7254723 , 0.71111752, 0.69969728, 0.68989919, 0.68185381,\n",
       "       0.67520599, 0.66936791, 0.66448703, 0.66054242, 0.65703949,\n",
       "       0.65408842, 0.65171868, 0.6504889 , 0.64866001, 0.64693765,\n",
       "       0.64587313, 0.6450839 , 0.64387597, 0.64268631])"
      ]
     },
     "execution_count": 31,
     "metadata": {},
     "output_type": "execute_result"
    }
   ],
   "source": [
    "combined_step_means"
   ]
  },
  {
   "cell_type": "code",
   "execution_count": 33,
   "id": "86222d93",
   "metadata": {},
   "outputs": [
    {
     "data": {
      "text/plain": [
       "[<matplotlib.lines.Line2D at 0x7f1cf661c640>]"
      ]
     },
     "execution_count": 33,
     "metadata": {},
     "output_type": "execute_result"
    },
    {
     "data": {
      "image/png": "[encoded data removed]",
      "text/plain": [
       "<Figure size 432x288 with 1 Axes>"
      ]
     },
     "metadata": {
      "needs_background": "light"
     },
     "output_type": "display_data"
    }
   ],
   "source": [
    "plt.plot(range(24), combined_step_means)"
   ]
  },
  {
   "cell_type": "code",
   "execution_count": null,
   "id": "1fad1fe7",
   "metadata": {},
   "outputs": [],
   "source": []
  },
  {
   "cell_type": "code",
   "execution_count": 78,
   "id": "61f0cfba",
   "metadata": {},
   "outputs": [
    {
     "name": "stderr",
     "output_type": "stream",
     "text": [
      "100%|██████████| 500/500 [00:43<00:00, 11.60it/s]\n"
     ]
    }
   ],
   "source": [
    "# combine opt flow with classical\n",
    "combined_optical_flow_scores = []\n",
    "forecast = 3\n",
    "for i in tqdm.tqdm(range(LOOKS)):\n",
    "    x, y = ds[indices[i]]\n",
    "    prev = preprocess(x[-2])\n",
    "    cur = preprocess(x[-1])\n",
    "    with torch.no_grad():\n",
    "        _, flow = model(prev, cur, iters=20, test_mode=True)\n",
    "    flow = np.squeeze(flow.cpu().numpy().transpose(0, 2, 3, 1))\n",
    "    cur = x[-1].astype(np.float32)\n",
    "    preds = np.zeros(y.shape, dtype=np.float32)\n",
    "    for j in range(forecast):\n",
    "        cur = warp_flow(cur, flow)\n",
    "        preds[j] = cur[32:96,32:96]\n",
    "    remaining = 24 - forecast\n",
    "    # mix with classical opt flow\n",
    "    if remaining > 0:\n",
    "        flow = cv2.calcOpticalFlowFarneback(\n",
    "            prev=x[-2],\n",
    "            next=x[-1],\n",
    "            flow=None,\n",
    "            **params,\n",
    "            flags=cv2.OPTFLOW_FARNEBACK_GAUSSIAN,\n",
    "        )\n",
    "        cur = x[-1].astype(np.float32)\n",
    "        for j in range(24):\n",
    "            cur = warp_flow(cur, flow)\n",
    "            cur = cv2.blur(cur, (3, 3))\n",
    "            if j < forecast:\n",
    "                continue\n",
    "            preds[j] = cur[32:96,32:96]\n",
    "\n",
    "    score = get_mssim(preds, y, average=False)\n",
    "    combined_optical_flow_scores.append(score)\n",
    "    "
   ]
  },
  {
   "cell_type": "code",
   "execution_count": 79,
   "id": "aa91e21a",
   "metadata": {},
   "outputs": [],
   "source": [
    "combined_optical_flow_scores = np.array(combined_optical_flow_scores)\n",
    "combined_step_means = np.mean(combined_optical_flow_scores, axis=0)\n",
    "combined_step_stds = np.std(combined_optical_flow_scores, axis=0)"
   ]
  },
  {
   "cell_type": "code",
   "execution_count": 80,
   "id": "100f9872",
   "metadata": {},
   "outputs": [
    {
     "data": {
      "text/plain": [
       "0.6989704031795263"
      ]
     },
     "execution_count": 80,
     "metadata": {},
     "output_type": "execute_result"
    }
   ],
   "source": [
    "np.mean(combined_optical_flow_scores)"
   ]
  },
  {
   "cell_type": "code",
   "execution_count": 81,
   "id": "fc2dd3d3",
   "metadata": {},
   "outputs": [
    {
     "data": {
      "text/plain": [
       "array([0.93150687, 0.86280021, 0.80864567, 0.76562703, 0.74292023,\n",
       "       0.72516605, 0.71111752, 0.69969728, 0.68989919, 0.68185381,\n",
       "       0.67520599, 0.66936791, 0.66448703, 0.66054242, 0.65703949,\n",
       "       0.65408842, 0.65171868, 0.6504889 , 0.64866001, 0.64693765,\n",
       "       0.64587313, 0.6450839 , 0.64387597, 0.64268631])"
      ]
     },
     "execution_count": 81,
     "metadata": {},
     "output_type": "execute_result"
    }
   ],
   "source": [
    "combined_step_means"
   ]
  },
  {
   "cell_type": "code",
   "execution_count": 82,
   "id": "9047d7b4",
   "metadata": {},
   "outputs": [
    {
     "data": {
      "text/plain": [
       "array([0.06990363, 0.11027508, 0.14625198, 0.1831536 , 0.20072331,\n",
       "       0.21457233, 0.2290726 , 0.23812938, 0.24729417, 0.25742963,\n",
       "       0.2647005 , 0.27214644, 0.27916121, 0.28418854, 0.29036532,\n",
       "       0.2972955 , 0.30066129, 0.30160546, 0.30589016, 0.30825234,\n",
       "       0.30944434, 0.30954027, 0.31125873, 0.31305329])"
      ]
     },
     "execution_count": 82,
     "metadata": {},
     "output_type": "execute_result"
    }
   ],
   "source": [
    "# variance\n",
    "combined_step_stds / combined_step_means"
   ]
  },
  {
   "cell_type": "code",
   "execution_count": 83,
   "id": "7d7eaf6e",
   "metadata": {},
   "outputs": [
    {
     "data": {
      "text/plain": [
       "[<matplotlib.lines.Line2D at 0x7fa1d07f2190>]"
      ]
     },
     "execution_count": 83,
     "metadata": {},
     "output_type": "execute_result"
    },
    {
     "data": {
      "image/png": "[encoded data removed]",
      "text/plain": [
       "<Figure size 432x288 with 1 Axes>"
      ]
     },
     "metadata": {
      "needs_background": "light"
     },
     "output_type": "display_data"
    }
   ],
   "source": [
    "plt.plot(range(24), combined_step_means)"
   ]
  },
  {
   "cell_type": "code",
   "execution_count": null,
   "id": "c26a958a",
   "metadata": {},
   "outputs": [],
   "source": []
  },
  {
   "cell_type": "code",
   "execution_count": null,
   "id": "e8ff0e2b",
   "metadata": {},
   "outputs": [],
   "source": []
  }
 ],
 "metadata": {
  "kernelspec": {
   "display_name": "climatehack",
   "language": "python",
   "name": "climatehack"
  },
  "language_info": {
   "codemirror_mode": {
    "name": "ipython",
    "version": 3
   },
   "file_extension": ".py",
   "mimetype": "text/x-python",
   "name": "python",
   "nbconvert_exporter": "python",
   "pygments_lexer": "ipython3",
   "version": "3.9.7"
  }
 },
 "nbformat": 4,
 "nbformat_minor": 5
}
