{
 "cells": [
  {
   "cell_type": "code",
   "execution_count": 3,
   "id": "3fc1f133",
   "metadata": {},
   "outputs": [],
   "source": [
    "import os\n",
    "import pathlib"
   ]
  },
  {
   "cell_type": "code",
   "execution_count": 4,
   "id": "990f5f20",
   "metadata": {},
   "outputs": [],
   "source": [
    "p = pathlib.Path('weights/dgmr_dct')\n",
    "files = os.listdir(p)"
   ]
  },
  {
   "cell_type": "code",
   "execution_count": 5,
   "id": "59b9540a",
   "metadata": {},
   "outputs": [],
   "source": [
    "for f in files:\n",
    "    if 'batch' in f:\n",
    "        os.remove(p / f)"
   ]
  },
  {
   "cell_type": "code",
   "execution_count": null,
   "id": "e1d72b9d",
   "metadata": {},
   "outputs": [],
   "source": []
  }
 ],
 "metadata": {
  "kernelspec": {
   "display_name": "climatehack",
   "language": "python",
   "name": "climatehack"
  },
  "language_info": {
   "codemirror_mode": {
    "name": "ipython",
    "version": 3
   },
   "file_extension": ".py",
   "mimetype": "text/x-python",
   "name": "python",
   "nbconvert_exporter": "python",
   "pygments_lexer": "ipython3",
   "version": "3.9.7"
  }
 },
 "nbformat": 4,
 "nbformat_minor": 5
}
