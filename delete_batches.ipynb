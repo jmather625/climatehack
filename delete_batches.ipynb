{
 "cells": [
  {
   "cell_type": "code",
   "execution_count": 3,
   "id": "3fc1f133",
   "metadata": {},
   "outputs": [],
   "source": [
    "import os\n",
    "import pathlib\n",
    "import time"
   ]
  },
  {
   "cell_type": "code",
   "execution_count": 2,
   "id": "990f5f20",
   "metadata": {},
   "outputs": [],
   "source": [
    "p = pathlib.Path('weights/dgmr_oneshot')"
   ]
  },
  {
   "cell_type": "code",
   "execution_count": null,
   "id": "c52f8d7d",
   "metadata": {},
   "outputs": [
    {
     "name": "stdout",
     "output_type": "stream",
     "text": [
      "deleting dgmr_epochs=2_batch=1027_loss=0.2606.pt\n",
      "deleting dgmr_epochs=2_batch=2055_loss=0.2617.pt\n",
      "sleeping\n",
      "deleting dgmr_epochs=4_batch=1027_loss=0.2502.pt\n",
      "deleting dgmr_epochs=3_batch=2055_loss=0.2562.pt\n",
      "deleting dgmr_epochs=3_batch=1027_loss=0.2584.pt\n",
      "sleeping\n",
      "deleting dgmr_epochs=5_batch=1027_loss=0.2451.pt\n",
      "deleting dgmr_epochs=4_batch=2055_loss=0.249.pt\n",
      "sleeping\n",
      "deleting dgmr_epochs=5_batch=2055_loss=0.245.pt\n",
      "deleting dgmr_epochs=6_batch=1027_loss=0.2426.pt\n",
      "sleeping\n"
     ]
    }
   ],
   "source": [
    "while True:\n",
    "    files = os.listdir(p)\n",
    "    for f in files:\n",
    "        if 'batch' in f:\n",
    "            path = p / f\n",
    "            print(f'deleting {path.name}')\n",
    "            os.remove(path)\n",
    "    print('sleeping')\n",
    "    time.sleep(20*60)"
   ]
  },
  {
   "cell_type": "code",
   "execution_count": null,
   "id": "e1d72b9d",
   "metadata": {},
   "outputs": [],
   "source": []
  }
 ],
 "metadata": {
  "kernelspec": {
   "display_name": "climatehack",
   "language": "python",
   "name": "climatehack"
  },
  "language_info": {
   "codemirror_mode": {
    "name": "ipython",
    "version": 3
   },
   "file_extension": ".py",
   "mimetype": "text/x-python",
   "name": "python",
   "nbconvert_exporter": "python",
   "pygments_lexer": "ipython3",
   "version": "3.9.7"
  }
 },
 "nbformat": 4,
 "nbformat_minor": 5
}
