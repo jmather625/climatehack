{
 "cells": [
  {
   "cell_type": "code",
   "execution_count": 3,
   "id": "3fc1f133",
   "metadata": {},
   "outputs": [],
   "source": [
    "import os\n",
    "import pathlib\n",
    "import time"
   ]
  },
  {
   "cell_type": "code",
   "execution_count": 2,
   "id": "990f5f20",
   "metadata": {},
   "outputs": [],
   "source": [
    "p = pathlib.Path('weights/dgmr_oneshot')\n",
    "files = os.listdir(p)"
   ]
  },
  {
   "cell_type": "code",
   "execution_count": null,
   "id": "227a4aa5",
   "metadata": {},
   "outputs": [
    {
     "name": "stdout",
     "output_type": "stream",
     "text": [
      "deleting dgmr_epochs=1_batch=1027_loss=0.2915.pt\n",
      "deleting dgmr_epochs=1_batch=2055_loss=0.2844.pt\n",
      "sleeping\n"
     ]
    }
   ],
   "source": [
    "while True:\n",
    "    for f in files:\n",
    "        if 'batch' in f:\n",
    "            path = p / f\n",
    "            print(f'deleting {path.name}')\n",
    "            os.remove(path)\n",
    "    print('sleeping')\n",
    "    time.sleep(20*60)"
   ]
  },
  {
   "cell_type": "code",
   "execution_count": null,
   "id": "e1d72b9d",
   "metadata": {},
   "outputs": [],
   "source": []
  }
 ],
 "metadata": {
  "kernelspec": {
   "display_name": "climatehack",
   "language": "python",
   "name": "climatehack"
  },
  "language_info": {
   "codemirror_mode": {
    "name": "ipython",
    "version": 3
   },
   "file_extension": ".py",
   "mimetype": "text/x-python",
   "name": "python",
   "nbconvert_exporter": "python",
   "pygments_lexer": "ipython3",
   "version": "3.9.7"
  }
 },
 "nbformat": 4,
 "nbformat_minor": 5
}
