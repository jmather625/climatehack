{
 "cells": [
  {
   "cell_type": "code",
   "execution_count": 2,
   "id": "fad503ca",
   "metadata": {},
   "outputs": [],
   "source": [
    "%load_ext autoreload\n",
    "%autoreload 2"
   ]
  },
  {
   "cell_type": "code",
   "execution_count": 3,
   "id": "ad13f943",
   "metadata": {},
   "outputs": [],
   "source": [
    "import torch\n",
    "import torch.nn as nn\n",
    "from torchvision import transforms\n",
    "import numpy as np\n",
    "import tqdm\n",
    "import matplotlib.pyplot as plt\n",
    "import pathlib\n",
    "from sklearn.cluster import KMeans\n",
    "\n",
    "import common.loss_utils as loss_utils\n",
    "\n",
    "import sys\n",
    "sys.path.append('../utae-paps')\n",
    "from src.backbones import utae_mod"
   ]
  },
  {
   "cell_type": "code",
   "execution_count": 4,
   "id": "76095a5b",
   "metadata": {},
   "outputs": [
    {
     "data": {
      "text/plain": [
       "device(type='cuda')"
      ]
     },
     "execution_count": 4,
     "metadata": {},
     "output_type": "execute_result"
    }
   ],
   "source": [
    "DEVICE = torch.device('cuda' if torch.cuda.is_available() else 'cpu')\n",
    "DEVICE"
   ]
  },
  {
   "cell_type": "code",
   "execution_count": 5,
   "id": "2c13e48f",
   "metadata": {},
   "outputs": [],
   "source": [
    "EXPECTED = 1\n"
   ]
  },
  {
   "cell_type": "code",
   "execution_count": 6,
   "id": "a6e7772a",
   "metadata": {},
   "outputs": [],
   "source": [
    "_MEDIAN_PIXEL = 216.0\n",
    "_IQR = 201.0\n",
    "\n",
    "deltas = np.linspace(-1.0, 1.0, num=41).astype(np.float32)\n",
    "_cluster_centers = deltas.reshape(-1,1)\n",
    "\n",
    "_KM = KMeans()\n",
    "_KM.cluster_centers_ = _cluster_centers\n",
    "_KM._n_threads = 1\n",
    "\n",
    "def transform(x):\n",
    "    return np.tanh((x - _MEDIAN_PIXEL) / _IQR)\n",
    "\n",
    "def transform_y(y, starter):\n",
    "    y = transform(y)\n",
    "    y = y - starter\n",
    "    y_grouped = _KM.predict(y.reshape(-1,1))\n",
    "    y_grouped = y_grouped.reshape(y.shape)\n",
    "    return y_grouped"
   ]
  },
  {
   "cell_type": "code",
   "execution_count": 7,
   "id": "7cf9d5d2",
   "metadata": {},
   "outputs": [
    {
     "name": "stderr",
     "output_type": "stream",
     "text": [
      "../utae-paps/src/backbones/positional_encoding.py:12: UserWarning: __floordiv__ is deprecated, and its behavior will change in a future version of pytorch. It currently rounds toward 0 (like the 'trunc' function NOT 'floor'). This results in incorrect rounding for negative values. To keep the current behavior, use torch.div(a, b, rounding_mode='trunc'), or for actual floor division, use torch.div(a, b, rounding_mode='floor').\n",
      "  T, 2 * (torch.arange(offset, offset + d).float() // 2) / d\n"
     ]
    }
   ],
   "source": [
    "model = utae_mod.UTAE(\n",
    "    input_dim=1, # 10 for paper\n",
    "    encoder_widths=[64, 64, 64, 128],\n",
    "    decoder_widths=[32, 32, 64, 128],\n",
    "    out_conv=[32, len(_cluster_centers)], # [32, 20] for paper\n",
    "    str_conv_k=4,\n",
    "    str_conv_s=2,\n",
    "    str_conv_p=1,\n",
    "    agg_mode=\"att_group\",\n",
    "    encoder_norm=\"group\",\n",
    "    n_head=16,\n",
    "    d_model=256,\n",
    "    d_k=4,\n",
    "    encoder=False,\n",
    "    return_maps=False,\n",
    "    pad_value=0,\n",
    "    padding_mode=\"reflect\",\n",
    ")\n",
    "\n",
    "model.load_state_dict(torch.load(\"weights/utae_300d_imagediffs_epochs=4_loss=0.2302.pt\"))\n",
    "model = model.to(DEVICE)"
   ]
  },
  {
   "cell_type": "code",
   "execution_count": 8,
   "id": "623e467b",
   "metadata": {},
   "outputs": [],
   "source": [
    "p = pathlib.Path('climatehack-submission/features.npz')\n",
    "t = pathlib.Path('climatehack-submission/targets.npz')\n",
    "feats = np.load(p)\n",
    "targs = np.load(t)"
   ]
  },
  {
   "cell_type": "code",
   "execution_count": 9,
   "id": "a58bd441",
   "metadata": {},
   "outputs": [],
   "source": [
    "x = feats['data']\n",
    "y = targs['data']"
   ]
  },
  {
   "cell_type": "code",
   "execution_count": 10,
   "id": "6ad641a7",
   "metadata": {},
   "outputs": [
    {
     "data": {
      "text/plain": [
       "((200, 12, 128, 128), (200, 24, 64, 64))"
      ]
     },
     "execution_count": 10,
     "metadata": {},
     "output_type": "execute_result"
    }
   ],
   "source": [
    "x.shape, y.shape"
   ]
  },
  {
   "cell_type": "code",
   "execution_count": 30,
   "id": "c922452d",
   "metadata": {},
   "outputs": [
    {
     "data": {
      "text/plain": [
       "array([[0., 0., 0., ..., 0., 0., 0.],\n",
       "       [0., 0., 0., ..., 0., 0., 0.],\n",
       "       [0., 0., 0., ..., 0., 0., 0.],\n",
       "       ...,\n",
       "       [0., 0., 0., ..., 0., 0., 0.],\n",
       "       [0., 0., 0., ..., 0., 0., 0.],\n",
       "       [0., 0., 0., ..., 0., 0., 0.]], dtype=float32)"
      ]
     },
     "execution_count": 30,
     "metadata": {},
     "output_type": "execute_result"
    }
   ],
   "source": [
    "xi[-1]"
   ]
  },
  {
   "cell_type": "code",
   "execution_count": 27,
   "id": "98e6c9ea",
   "metadata": {},
   "outputs": [
    {
     "data": {
      "text/plain": [
       "(12, 128, 128)"
      ]
     },
     "execution_count": 27,
     "metadata": {},
     "output_type": "execute_result"
    }
   ],
   "source": [
    "xi.shape"
   ]
  },
  {
   "cell_type": "code",
   "execution_count": 31,
   "id": "b2e0a449",
   "metadata": {},
   "outputs": [
    {
     "name": "stderr",
     "output_type": "stream",
     "text": [
      "100%|██████████| 200/200 [00:11<00:00, 16.80it/s]\n"
     ]
    }
   ],
   "source": [
    "# get accuracy\n",
    "model.eval()\n",
    "\n",
    "running_correct = 0\n",
    "running_total = 0\n",
    "bp = torch.Tensor([list(range(12)) for _ in range(1)]).to(DEVICE)\n",
    "for i, (xi, yi) in enumerate(tqdm.tqdm(zip(x, y), total=len(x))):\n",
    "    xi = transform(xi)\n",
    "    x_last = xi[-1]\n",
    "    xi = xi - x_last\n",
    "    yi = transform_y(yi[:EXPECTED], x_last[32:96,32:96])\n",
    "    xi = torch.FloatTensor(xi).to(DEVICE)\n",
    "    yi = torch.LongTensor(yi).to(DEVICE)\n",
    "    \n",
    "    xi = torch.unsqueeze(xi, dim=0)\n",
    "    xi = torch.unsqueeze(xi, dim=2)\n",
    "    with torch.no_grad():\n",
    "        preds = model(xi, batch_positions=bp)\n",
    "    \n",
    "    # remove the batch and satellite channel dimension from the prediction\n",
    "    preds = torch.squeeze(preds, dim=2)\n",
    "    preds = torch.squeeze(preds, dim=0)\n",
    "    # get argmax of the predicted labels\n",
    "    preds = torch.argmax(preds, dim=0)\n",
    "    running_correct += (preds == yi).sum()\n",
    "    running_total += yi.reshape(-1).shape[0]\n",
    "    "
   ]
  },
  {
   "cell_type": "code",
   "execution_count": 32,
   "id": "82c0331e",
   "metadata": {},
   "outputs": [
    {
     "data": {
      "text/plain": [
       "tensor(0.4129, device='cuda:0')"
      ]
     },
     "execution_count": 32,
     "metadata": {},
     "output_type": "execute_result"
    }
   ],
   "source": [
    "running_correct / running_total"
   ]
  },
  {
   "cell_type": "code",
   "execution_count": null,
   "id": "3a8880fd",
   "metadata": {},
   "outputs": [],
   "source": []
  },
  {
   "cell_type": "code",
   "execution_count": 33,
   "id": "1778d7cb",
   "metadata": {},
   "outputs": [],
   "source": [
    "_means = torch.FloatTensor(_cluster_centers).to(DEVICE)\n",
    "_means = torch.unsqueeze(torch.unsqueeze(_means, 0), 3)\n",
    "\n",
    "def get_img(preds):\n",
    "    a = torch.exp(preds)\n",
    "    v = a.sum(dim=1)\n",
    "    e = a / torch.unsqueeze(v, 1)\n",
    "    r = torch.sum(e * _means, axis=1)\n",
    "    return r"
   ]
  },
  {
   "cell_type": "code",
   "execution_count": 34,
   "id": "006622ae",
   "metadata": {},
   "outputs": [],
   "source": [
    "criterion = loss_utils.MS_SSIM(\n",
    "    data_range=1023.0, size_average=True, win_size=3, channel=EXPECTED)\n"
   ]
  },
  {
   "cell_type": "code",
   "execution_count": 35,
   "id": "7372e0d1",
   "metadata": {},
   "outputs": [
    {
     "name": "stderr",
     "output_type": "stream",
     "text": [
      "100%|██████████| 200/200 [00:14<00:00, 14.14it/s]\n"
     ]
    }
   ],
   "source": [
    "model.eval()\n",
    "\n",
    "losses = []\n",
    "bp = torch.Tensor([list(range(12)) for _ in range(1)]).to(DEVICE)\n",
    "for i, (xi, yi) in enumerate(tqdm.tqdm(zip(x, y), total=len(x))):\n",
    "    xi = transform(xi)\n",
    "    x_last = xi[-1]\n",
    "    xi = xi - x_last\n",
    "    xi = torch.FloatTensor(xi).to(DEVICE)\n",
    "    yi = torch.FloatTensor(yi[:EXPECTED]).to(DEVICE)\n",
    "    \n",
    "    xi = torch.unsqueeze(xi, dim=0)\n",
    "    xi = torch.unsqueeze(xi, dim=2)\n",
    "    with torch.no_grad():\n",
    "        preds = model(xi, batch_positions=bp)\n",
    "    \n",
    "    # remove the batch and satellite channel dimension from the prediction\n",
    "    x_last = torch.FloatTensor(x_last).to(DEVICE)\n",
    "    preds = torch.squeeze(preds, dim=2)\n",
    "    preds = torch.squeeze(preds, dim=0)\n",
    "    preds = get_img(preds)\n",
    "    preds = preds + x_last[32:96,32:96]\n",
    "    preds[preds > 1] = 0.999\n",
    "    preds[preds < -1] = -0.999\n",
    "    preds = torch.atanh(preds) * _IQR + _MEDIAN_PIXEL\n",
    "    \n",
    "#     missing = EXPECTED - FORECAST\n",
    "#     # just do persistence\n",
    "#     missing_pred = inv_transform(xi[:,-1,:,32:96,32:96])\n",
    "#     missing_pred = torch.squeeze(missing_pred)\n",
    "#     missing_pred = torch.tile(missing_pred, (missing, 1, 1))\n",
    "#     # stack them together\n",
    "#     preds = torch.cat([preds, missing_pred], dim=0)\n",
    "\n",
    "    # OR, just test the ones we did\n",
    "#     yi = yi[:FORECAST]\n",
    "    \n",
    "    # also need to do this\n",
    "    preds = preds.unsqueeze(dim=1)\n",
    "    yi = yi.unsqueeze(dim=1)\n",
    "    loss = criterion(preds, yi)\n",
    "    losses.append(loss.item())"
   ]
  },
  {
   "cell_type": "code",
   "execution_count": 36,
   "id": "cddfed1f",
   "metadata": {},
   "outputs": [
    {
     "data": {
      "text/plain": [
       "0.8890914714336395"
      ]
     },
     "execution_count": 36,
     "metadata": {},
     "output_type": "execute_result"
    }
   ],
   "source": [
    "np.mean(losses)"
   ]
  },
  {
   "cell_type": "code",
   "execution_count": null,
   "id": "604fbfe8",
   "metadata": {},
   "outputs": [],
   "source": []
  },
  {
   "cell_type": "code",
   "execution_count": 46,
   "id": "e2d0fa20",
   "metadata": {},
   "outputs": [
    {
     "name": "stderr",
     "output_type": "stream",
     "text": [
      "100%|██████████| 200/200 [00:05<00:00, 33.64it/s]\n"
     ]
    }
   ],
   "source": [
    "model.eval()\n",
    "\n",
    "losses = []\n",
    "bp = torch.Tensor([list(range(12)) for _ in range(1)]).to(DEVICE)\n",
    "for i, (xi, yi) in enumerate(tqdm.tqdm(zip(x, y), total=len(x))):\n",
    "    xi = transform(xi)\n",
    "    x_last = xi[-1]\n",
    "    xi = xi - x_last\n",
    "    xi = torch.FloatTensor(xi).to(DEVICE)\n",
    "    yi = torch.FloatTensor(yi[:EXPECTED]).to(DEVICE)\n",
    "    \n",
    "#     xi = torch.unsqueeze(xi, dim=0)\n",
    "#     xi = torch.unsqueeze(xi, dim=2)\n",
    "#     with torch.no_grad():\n",
    "#         preds = model(xi, batch_positions=bp)\n",
    "    \n",
    "#     # remove the batch and satellite channel dimension from the prediction\n",
    "#     x_last = torch.FloatTensor(x_last).to(DEVICE)\n",
    "#     preds = torch.squeeze(preds, dim=2)\n",
    "#     preds = torch.squeeze(preds, dim=0)\n",
    "#     preds = get_img(preds)\n",
    "#     preds = preds + x_last[32:96,32:96]\n",
    "#     preds[preds > 1] = 0.999\n",
    "#     preds[preds < -1] = -0.999\n",
    "#     preds = torch.atanh(preds) * _IQR + _MEDIAN_PIXEL\n",
    "    \n",
    "#     missing = EXPECTED - FORECAST\n",
    "#     # just do persistence\n",
    "#     missing_praaed = inv_transform(xi[:,-1,:,32:96,32:96])\n",
    "#     missing_pred = torch.squeeze(missing_pred)\n",
    "#     missing_pred = torch.tile(missing_pred, (missing, 1, 1))\n",
    "#     # stack them together\n",
    "#     preds = torch.cat([preds, missing_pred], dim=0)\n",
    "\n",
    "    # OR, just test the ones we did\n",
    "#     yi = yi[:FORECAST]\n",
    "    \n",
    "    # also need to do this\n",
    "    preds = torch.FloatTensor(x_last).to(DEVICE)[32:96,32:96]\n",
    "    preds = torch.atanh(preds) * _IQR + _MEDIAN_PIXEL\n",
    "    preds = preds.unsqueeze(dim=0)\n",
    "    preds = preds.unsqueeze(dim=0)\n",
    "    yi = yi.unsqueeze(dim=1)\n",
    "    loss = criterion(preds, yi)\n",
    "    losses.append(loss.item())"
   ]
  },
  {
   "cell_type": "code",
   "execution_count": null,
   "id": "f95d8188",
   "metadata": {},
   "outputs": [],
   "source": []
  },
  {
   "cell_type": "code",
   "execution_count": 38,
   "id": "ff090504",
   "metadata": {},
   "outputs": [
    {
     "data": {
      "text/plain": [
       "<matplotlib.image.AxesImage at 0x7fcc5803ac88>"
      ]
     },
     "execution_count": 38,
     "metadata": {},
     "output_type": "execute_result"
    },
    {
     "data": {
      "image/png": "[encoded data removed]",
      "text/plain": [
       "<Figure size 432x288 with 1 Axes>"
      ]
     },
     "metadata": {
      "needs_background": "light"
     },
     "output_type": "display_data"
    }
   ],
   "source": [
    "plt.imshow(preds[0,0].detach().cpu().numpy(), cmap='gray')"
   ]
  },
  {
   "cell_type": "code",
   "execution_count": 39,
   "id": "a6c241c0",
   "metadata": {},
   "outputs": [
    {
     "data": {
      "text/plain": [
       "<matplotlib.image.AxesImage at 0x7fcc500fc710>"
      ]
     },
     "execution_count": 39,
     "metadata": {},
     "output_type": "execute_result"
    },
    {
     "data": {
      "image/png": "[encoded data removed]",
      "text/plain": [
       "<Figure size 432x288 with 1 Axes>"
      ]
     },
     "metadata": {
      "needs_background": "light"
     },
     "output_type": "display_data"
    }
   ],
   "source": [
    "plt.imshow(yi[0,0].detach().cpu().numpy(), cmap='gray')"
   ]
  },
  {
   "cell_type": "code",
   "execution_count": null,
   "id": "7986b5c6",
   "metadata": {},
   "outputs": [],
   "source": []
  }
 ],
 "metadata": {
  "kernelspec": {
   "display_name": "sts",
   "language": "python",
   "name": "sts"
  },
  "language_info": {
   "codemirror_mode": {
    "name": "ipython",
    "version": 3
   },
   "file_extension": ".py",
   "mimetype": "text/x-python",
   "name": "python",
   "nbconvert_exporter": "python",
   "pygments_lexer": "ipython3",
   "version": "3.6.13"
  }
 },
 "nbformat": 4,
 "nbformat_minor": 5
}
